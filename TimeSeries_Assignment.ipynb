{
  "nbformat": 4,
  "nbformat_minor": 0,
  "metadata": {
    "colab": {
      "name": "Untitled53.ipynb",
      "provenance": [],
      "authorship_tag": "ABX9TyMq4c1QYnEiqRTYIod/tqii",
      "include_colab_link": true
    },
    "kernelspec": {
      "name": "python3",
      "display_name": "Python 3"
    }
  },
  "cells": [
    {
      "cell_type": "markdown",
      "metadata": {
        "id": "view-in-github",
        "colab_type": "text"
      },
      "source": [
        "<a href=\"https://colab.research.google.com/github/sampritich/datasets/blob/master/TimeSeries_Assignment.ipynb\" target=\"_parent\"><img src=\"https://colab.research.google.com/assets/colab-badge.svg\" alt=\"Open In Colab\"/></a>"
      ]
    },
    {
      "cell_type": "code",
      "metadata": {
        "id": "lYD12or_yYTJ",
        "colab_type": "code",
        "colab": {
          "base_uri": "https://localhost:8080/",
          "height": 474
        },
        "outputId": "87a65255-d8dc-4524-a2ab-eadebbd3ecaf"
      },
      "source": [
        "!wget https://www.dropbox.com/s/uwmbrcqnowrlltx/Time_series_end_To_end.zip"
      ],
      "execution_count": 1,
      "outputs": [
        {
          "output_type": "stream",
          "text": [
            "--2020-01-20 05:09:03--  https://www.dropbox.com/s/uwmbrcqnowrlltx/Time_series_end_To_end.zip\n",
            "Resolving www.dropbox.com (www.dropbox.com)... 162.125.9.1, 2620:100:601f:1::a27d:901\n",
            "Connecting to www.dropbox.com (www.dropbox.com)|162.125.9.1|:443... connected.\n",
            "HTTP request sent, awaiting response... 301 Moved Permanently\n",
            "Location: /s/raw/uwmbrcqnowrlltx/Time_series_end_To_end.zip [following]\n",
            "--2020-01-20 05:09:03--  https://www.dropbox.com/s/raw/uwmbrcqnowrlltx/Time_series_end_To_end.zip\n",
            "Reusing existing connection to www.dropbox.com:443.\n",
            "HTTP request sent, awaiting response... 302 Found\n",
            "Location: https://uc7a93a8ffc3824880b0f0de0f91.dl.dropboxusercontent.com/cd/0/inline/AwhuvPt95epirr7ctacR9mmSfYLTHvzMtm8F67xSbFvbbcmARB3CHMz6Q6jN30zPR71AAlakJw6GGBh31XACWfGX_rLs2O-wOMC7-DaVoLJTSfURbO8HVECEQLUxzrDBMmE/file# [following]\n",
            "--2020-01-20 05:09:04--  https://uc7a93a8ffc3824880b0f0de0f91.dl.dropboxusercontent.com/cd/0/inline/AwhuvPt95epirr7ctacR9mmSfYLTHvzMtm8F67xSbFvbbcmARB3CHMz6Q6jN30zPR71AAlakJw6GGBh31XACWfGX_rLs2O-wOMC7-DaVoLJTSfURbO8HVECEQLUxzrDBMmE/file\n",
            "Resolving uc7a93a8ffc3824880b0f0de0f91.dl.dropboxusercontent.com (uc7a93a8ffc3824880b0f0de0f91.dl.dropboxusercontent.com)... 162.125.9.6, 2620:100:601f:6::a27d:906\n",
            "Connecting to uc7a93a8ffc3824880b0f0de0f91.dl.dropboxusercontent.com (uc7a93a8ffc3824880b0f0de0f91.dl.dropboxusercontent.com)|162.125.9.6|:443... connected.\n",
            "HTTP request sent, awaiting response... 302 FOUND\n",
            "Location: /cd/0/inline2/AwixByCJkZ-WHw9yjN5TilXxQFdtZuKRRMovMJ_xicHLaFObPQBRS4K11zamEzeeCWyeG5jUvGEBMaObNSzSmIRSsPQeQMy5TM1tZWvm1toNkzd5eiTvOCAmbPgwBREZMGqNSIa0x1mIiVfDhR2L8klB9SmuhbRgh0otkqRpQXBxSgZN368EV4TGaT01J5GscGN483BooRm81ARfm1LoA8vKEFWt2_WRHlY7smjZm9xXdlI-RWH0MSPVq-B7tPdoGF44S2VrRT_l8LeP3PA6AqVZcls6pEerQAZkgsgDzyQ7gzkHAuGgTTmx4-fRkBAV0H9wzi1VuWGaeuFC5uGlMTBJyvE2f7DXEB82tJGkPRIdBA/file [following]\n",
            "--2020-01-20 05:09:05--  https://uc7a93a8ffc3824880b0f0de0f91.dl.dropboxusercontent.com/cd/0/inline2/AwixByCJkZ-WHw9yjN5TilXxQFdtZuKRRMovMJ_xicHLaFObPQBRS4K11zamEzeeCWyeG5jUvGEBMaObNSzSmIRSsPQeQMy5TM1tZWvm1toNkzd5eiTvOCAmbPgwBREZMGqNSIa0x1mIiVfDhR2L8klB9SmuhbRgh0otkqRpQXBxSgZN368EV4TGaT01J5GscGN483BooRm81ARfm1LoA8vKEFWt2_WRHlY7smjZm9xXdlI-RWH0MSPVq-B7tPdoGF44S2VrRT_l8LeP3PA6AqVZcls6pEerQAZkgsgDzyQ7gzkHAuGgTTmx4-fRkBAV0H9wzi1VuWGaeuFC5uGlMTBJyvE2f7DXEB82tJGkPRIdBA/file\n",
            "Reusing existing connection to uc7a93a8ffc3824880b0f0de0f91.dl.dropboxusercontent.com:443.\n",
            "HTTP request sent, awaiting response... 200 OK\n",
            "Length: 547746 (535K) [application/zip]\n",
            "Saving to: ‘Time_series_end_To_end.zip’\n",
            "\n",
            "\r          Time_seri   0%[                    ]       0  --.-KB/s               \rTime_series_end_To_ 100%[===================>] 534.91K  --.-KB/s    in 0.1s    \n",
            "\n",
            "2020-01-20 05:09:06 (5.27 MB/s) - ‘Time_series_end_To_end.zip’ saved [547746/547746]\n",
            "\n"
          ],
          "name": "stdout"
        }
      ]
    },
    {
      "cell_type": "code",
      "metadata": {
        "id": "8QsFnkqvybQh",
        "colab_type": "code",
        "colab": {
          "base_uri": "https://localhost:8080/",
          "height": 90
        },
        "outputId": "52a391df-0ec7-480c-b9c7-b7fcd54ba9e7"
      },
      "source": [
        "!unzip Time_series_end_To_end.zip"
      ],
      "execution_count": 2,
      "outputs": [
        {
          "output_type": "stream",
          "text": [
            "Archive:  Time_series_end_To_end.zip\n",
            "  inflating: Time_series_end_To_end/ICICIBANK_v8qqcf.csv  \n",
            "  inflating: Time_series_end_To_end/SeaPlaneTravel_jc4i8h.csv  \n",
            "  inflating: Time_series_end_To_end/Timeseries_Analysis_ugbgil.ipynb  \n"
          ],
          "name": "stdout"
        }
      ]
    },
    {
      "cell_type": "markdown",
      "metadata": {
        "id": "ot_JPfbUzPpw",
        "colab_type": "text"
      },
      "source": [
        "#Load the dataset\n",
        "#convert month column into parsedate\n",
        "#print data.head()"
      ]
    },
    {
      "cell_type": "code",
      "metadata": {
        "id": "oIGpdzRv0VLi",
        "colab_type": "code",
        "colab": {}
      },
      "source": [
        ""
      ],
      "execution_count": 0,
      "outputs": []
    },
    {
      "cell_type": "code",
      "metadata": {
        "id": "2SE7gxtJyhbu",
        "colab_type": "code",
        "colab": {}
      },
      "source": [
        "import pandas as pd\n",
        "import numpy as np\n",
        "import matplotlib.pyplot as plt"
      ],
      "execution_count": 0,
      "outputs": []
    },
    {
      "cell_type": "code",
      "metadata": {
        "id": "VBOn34Xtynj3",
        "colab_type": "code",
        "colab": {
          "base_uri": "https://localhost:8080/",
          "height": 437
        },
        "outputId": "272bd7bf-c0bd-44f4-adfd-ecc638c60244"
      },
      "source": [
        "data=pd.read_csv(\"/content/Time_series_end_To_end/SeaPlaneTravel_jc4i8h.csv\",parse_dates= True,index_col=\"Month\")\n",
        "data"
      ],
      "execution_count": 4,
      "outputs": [
        {
          "output_type": "execute_result",
          "data": {
            "text/html": [
              "<div>\n",
              "<style scoped>\n",
              "    .dataframe tbody tr th:only-of-type {\n",
              "        vertical-align: middle;\n",
              "    }\n",
              "\n",
              "    .dataframe tbody tr th {\n",
              "        vertical-align: top;\n",
              "    }\n",
              "\n",
              "    .dataframe thead th {\n",
              "        text-align: right;\n",
              "    }\n",
              "</style>\n",
              "<table border=\"1\" class=\"dataframe\">\n",
              "  <thead>\n",
              "    <tr style=\"text-align: right;\">\n",
              "      <th></th>\n",
              "      <th>#Passengers</th>\n",
              "    </tr>\n",
              "    <tr>\n",
              "      <th>Month</th>\n",
              "      <th></th>\n",
              "    </tr>\n",
              "  </thead>\n",
              "  <tbody>\n",
              "    <tr>\n",
              "      <th>2003-01-01</th>\n",
              "      <td>112</td>\n",
              "    </tr>\n",
              "    <tr>\n",
              "      <th>2003-02-01</th>\n",
              "      <td>118</td>\n",
              "    </tr>\n",
              "    <tr>\n",
              "      <th>2003-03-01</th>\n",
              "      <td>132</td>\n",
              "    </tr>\n",
              "    <tr>\n",
              "      <th>2003-04-01</th>\n",
              "      <td>129</td>\n",
              "    </tr>\n",
              "    <tr>\n",
              "      <th>2003-05-01</th>\n",
              "      <td>121</td>\n",
              "    </tr>\n",
              "    <tr>\n",
              "      <th>...</th>\n",
              "      <td>...</td>\n",
              "    </tr>\n",
              "    <tr>\n",
              "      <th>2015-08-01</th>\n",
              "      <td>606</td>\n",
              "    </tr>\n",
              "    <tr>\n",
              "      <th>2015-09-01</th>\n",
              "      <td>508</td>\n",
              "    </tr>\n",
              "    <tr>\n",
              "      <th>2015-10-01</th>\n",
              "      <td>461</td>\n",
              "    </tr>\n",
              "    <tr>\n",
              "      <th>2015-11-01</th>\n",
              "      <td>390</td>\n",
              "    </tr>\n",
              "    <tr>\n",
              "      <th>2015-12-01</th>\n",
              "      <td>432</td>\n",
              "    </tr>\n",
              "  </tbody>\n",
              "</table>\n",
              "<p>144 rows × 1 columns</p>\n",
              "</div>"
            ],
            "text/plain": [
              "            #Passengers\n",
              "Month                  \n",
              "2003-01-01          112\n",
              "2003-02-01          118\n",
              "2003-03-01          132\n",
              "2003-04-01          129\n",
              "2003-05-01          121\n",
              "...                 ...\n",
              "2015-08-01          606\n",
              "2015-09-01          508\n",
              "2015-10-01          461\n",
              "2015-11-01          390\n",
              "2015-12-01          432\n",
              "\n",
              "[144 rows x 1 columns]"
            ]
          },
          "metadata": {
            "tags": []
          },
          "execution_count": 4
        }
      ]
    },
    {
      "cell_type": "code",
      "metadata": {
        "id": "i_ZSz1IA0Woo",
        "colab_type": "code",
        "colab": {
          "base_uri": "https://localhost:8080/",
          "height": 228
        },
        "outputId": "1efe5181-0273-4907-e0e3-e439128b3f80"
      },
      "source": [
        "data.columns = ['Passenger_list']\n",
        "data.head()"
      ],
      "execution_count": 5,
      "outputs": [
        {
          "output_type": "execute_result",
          "data": {
            "text/html": [
              "<div>\n",
              "<style scoped>\n",
              "    .dataframe tbody tr th:only-of-type {\n",
              "        vertical-align: middle;\n",
              "    }\n",
              "\n",
              "    .dataframe tbody tr th {\n",
              "        vertical-align: top;\n",
              "    }\n",
              "\n",
              "    .dataframe thead th {\n",
              "        text-align: right;\n",
              "    }\n",
              "</style>\n",
              "<table border=\"1\" class=\"dataframe\">\n",
              "  <thead>\n",
              "    <tr style=\"text-align: right;\">\n",
              "      <th></th>\n",
              "      <th>Passenger_list</th>\n",
              "    </tr>\n",
              "    <tr>\n",
              "      <th>Month</th>\n",
              "      <th></th>\n",
              "    </tr>\n",
              "  </thead>\n",
              "  <tbody>\n",
              "    <tr>\n",
              "      <th>2003-01-01</th>\n",
              "      <td>112</td>\n",
              "    </tr>\n",
              "    <tr>\n",
              "      <th>2003-02-01</th>\n",
              "      <td>118</td>\n",
              "    </tr>\n",
              "    <tr>\n",
              "      <th>2003-03-01</th>\n",
              "      <td>132</td>\n",
              "    </tr>\n",
              "    <tr>\n",
              "      <th>2003-04-01</th>\n",
              "      <td>129</td>\n",
              "    </tr>\n",
              "    <tr>\n",
              "      <th>2003-05-01</th>\n",
              "      <td>121</td>\n",
              "    </tr>\n",
              "  </tbody>\n",
              "</table>\n",
              "</div>"
            ],
            "text/plain": [
              "            Passenger_list\n",
              "Month                     \n",
              "2003-01-01             112\n",
              "2003-02-01             118\n",
              "2003-03-01             132\n",
              "2003-04-01             129\n",
              "2003-05-01             121"
            ]
          },
          "metadata": {
            "tags": []
          },
          "execution_count": 5
        }
      ]
    },
    {
      "cell_type": "markdown",
      "metadata": {
        "id": "XuKM_s1Hzfzy",
        "colab_type": "text"
      },
      "source": [
        "#Make month as index\n",
        "#Plot the data"
      ]
    },
    {
      "cell_type": "code",
      "metadata": {
        "id": "vgW_LWAYys7H",
        "colab_type": "code",
        "colab": {
          "base_uri": "https://localhost:8080/",
          "height": 318
        },
        "outputId": "5011386e-fb1e-4ceb-b4da-ea14229b52ab"
      },
      "source": [
        "data.Passenger_list.plot(figsize=(12, 5), grid=True)\n",
        "plt.show()"
      ],
      "execution_count": 6,
      "outputs": [
        {
          "output_type": "display_data",
          "data": {
            "image/png": "[encoded data removed]",
            "text/plain": [
              "<Figure size 864x360 with 1 Axes>"
            ]
          },
          "metadata": {
            "tags": []
          }
        }
      ]
    },
    {
      "cell_type": "code",
      "metadata": {
        "id": "21gS_f0U0BQu",
        "colab_type": "code",
        "colab": {
          "base_uri": "https://localhost:8080/",
          "height": 335
        },
        "outputId": "2d709f2c-159c-4fc3-f03c-ca045574eb19"
      },
      "source": [
        "d_resampled  = data.Passenger_list.resample('M').mean()\n",
        "d_resampled.plot(figsize=(12, 5), grid=True)\n",
        "plt.show()"
      ],
      "execution_count": 7,
      "outputs": [
        {
          "output_type": "display_data",
          "data": {
            "image/png": "[encoded data removed]",
            "text/plain": [
              "<Figure size 864x360 with 1 Axes>"
            ]
          },
          "metadata": {
            "tags": []
          }
        }
      ]
    },
    {
      "cell_type": "code",
      "metadata": {
        "id": "qMXWRZVw1sfQ",
        "colab_type": "code",
        "colab": {
          "base_uri": "https://localhost:8080/",
          "height": 145
        },
        "outputId": "88ac7306-12a5-4714-f0d7-b4346631e1fa"
      },
      "source": [
        "data_rolling=data.Passenger_list.rolling(3).mean()\n",
        "data_rolling.head()"
      ],
      "execution_count": 8,
      "outputs": [
        {
          "output_type": "execute_result",
          "data": {
            "text/plain": [
              "Month\n",
              "2003-01-01           NaN\n",
              "2003-02-01           NaN\n",
              "2003-03-01    120.666667\n",
              "2003-04-01    126.333333\n",
              "2003-05-01    127.333333\n",
              "Name: Passenger_list, dtype: float64"
            ]
          },
          "metadata": {
            "tags": []
          },
          "execution_count": 8
        }
      ]
    },
    {
      "cell_type": "code",
      "metadata": {
        "id": "JhyKllvi1p5C",
        "colab_type": "code",
        "colab": {
          "base_uri": "https://localhost:8080/",
          "height": 378
        },
        "outputId": "9b437f29-8436-44c1-b13b-387420294b9c"
      },
      "source": [
        "data['roll_mean'] = data.Passenger_list.rolling(5).mean()\n",
        "data.loc[:, ['roll_mean', 'Passenger_list']].head(10)"
      ],
      "execution_count": 9,
      "outputs": [
        {
          "output_type": "execute_result",
          "data": {
            "text/html": [
              "<div>\n",
              "<style scoped>\n",
              "    .dataframe tbody tr th:only-of-type {\n",
              "        vertical-align: middle;\n",
              "    }\n",
              "\n",
              "    .dataframe tbody tr th {\n",
              "        vertical-align: top;\n",
              "    }\n",
              "\n",
              "    .dataframe thead th {\n",
              "        text-align: right;\n",
              "    }\n",
              "</style>\n",
              "<table border=\"1\" class=\"dataframe\">\n",
              "  <thead>\n",
              "    <tr style=\"text-align: right;\">\n",
              "      <th></th>\n",
              "      <th>roll_mean</th>\n",
              "      <th>Passenger_list</th>\n",
              "    </tr>\n",
              "    <tr>\n",
              "      <th>Month</th>\n",
              "      <th></th>\n",
              "      <th></th>\n",
              "    </tr>\n",
              "  </thead>\n",
              "  <tbody>\n",
              "    <tr>\n",
              "      <th>2003-01-01</th>\n",
              "      <td>NaN</td>\n",
              "      <td>112</td>\n",
              "    </tr>\n",
              "    <tr>\n",
              "      <th>2003-02-01</th>\n",
              "      <td>NaN</td>\n",
              "      <td>118</td>\n",
              "    </tr>\n",
              "    <tr>\n",
              "      <th>2003-03-01</th>\n",
              "      <td>NaN</td>\n",
              "      <td>132</td>\n",
              "    </tr>\n",
              "    <tr>\n",
              "      <th>2003-04-01</th>\n",
              "      <td>NaN</td>\n",
              "      <td>129</td>\n",
              "    </tr>\n",
              "    <tr>\n",
              "      <th>2003-05-01</th>\n",
              "      <td>122.4</td>\n",
              "      <td>121</td>\n",
              "    </tr>\n",
              "    <tr>\n",
              "      <th>2003-06-01</th>\n",
              "      <td>127.0</td>\n",
              "      <td>135</td>\n",
              "    </tr>\n",
              "    <tr>\n",
              "      <th>2003-07-01</th>\n",
              "      <td>133.0</td>\n",
              "      <td>148</td>\n",
              "    </tr>\n",
              "    <tr>\n",
              "      <th>2003-08-01</th>\n",
              "      <td>136.2</td>\n",
              "      <td>148</td>\n",
              "    </tr>\n",
              "    <tr>\n",
              "      <th>2003-09-01</th>\n",
              "      <td>137.6</td>\n",
              "      <td>136</td>\n",
              "    </tr>\n",
              "    <tr>\n",
              "      <th>2003-10-01</th>\n",
              "      <td>137.2</td>\n",
              "      <td>119</td>\n",
              "    </tr>\n",
              "  </tbody>\n",
              "</table>\n",
              "</div>"
            ],
            "text/plain": [
              "            roll_mean  Passenger_list\n",
              "Month                                \n",
              "2003-01-01        NaN             112\n",
              "2003-02-01        NaN             118\n",
              "2003-03-01        NaN             132\n",
              "2003-04-01        NaN             129\n",
              "2003-05-01      122.4             121\n",
              "2003-06-01      127.0             135\n",
              "2003-07-01      133.0             148\n",
              "2003-08-01      136.2             148\n",
              "2003-09-01      137.6             136\n",
              "2003-10-01      137.2             119"
            ]
          },
          "metadata": {
            "tags": []
          },
          "execution_count": 9
        }
      ]
    },
    {
      "cell_type": "code",
      "metadata": {
        "id": "-pcjd28a2UXd",
        "colab_type": "code",
        "colab": {
          "base_uri": "https://localhost:8080/",
          "height": 318
        },
        "outputId": "9179bdd4-cf4d-4578-8cb6-bca5ab91db4e"
      },
      "source": [
        "data_rolling2  = data.Passenger_list.rolling(10).mean()\n",
        "data_rolling2.plot(figsize=(12, 5), grid=True)\n",
        "data.Passenger_list.plot(figsize=(12, 5), grid=True)\n",
        "plt.show()"
      ],
      "execution_count": 10,
      "outputs": [
        {
          "output_type": "display_data",
          "data": {
            "image/png": "[encoded data removed]",
            "text/plain": [
              "<Figure size 864x360 with 1 Axes>"
            ]
          },
          "metadata": {
            "tags": []
          }
        }
      ]
    },
    {
      "cell_type": "code",
      "metadata": {
        "id": "6nzI1DYQ2uPB",
        "colab_type": "code",
        "colab": {}
      },
      "source": [
        "from statsmodels.tsa.stattools import adfuller"
      ],
      "execution_count": 0,
      "outputs": []
    },
    {
      "cell_type": "code",
      "metadata": {
        "id": "jr1QilX63qmF",
        "colab_type": "code",
        "colab": {
          "base_uri": "https://localhost:8080/",
          "height": 254
        },
        "outputId": "371b6325-4449-4e5d-c5d2-9ea3f247f0ba"
      },
      "source": [
        "d_resampled.dropna()"
      ],
      "execution_count": 12,
      "outputs": [
        {
          "output_type": "execute_result",
          "data": {
            "text/plain": [
              "Month\n",
              "2003-01-31    112.0\n",
              "2003-02-28    118.0\n",
              "2003-03-31    132.0\n",
              "2003-04-30    129.0\n",
              "2003-05-31    121.0\n",
              "              ...  \n",
              "2015-08-31    606.0\n",
              "2015-09-30    508.0\n",
              "2015-10-31    461.0\n",
              "2015-11-30    390.0\n",
              "2015-12-31    432.0\n",
              "Name: Passenger_list, Length: 144, dtype: float64"
            ]
          },
          "metadata": {
            "tags": []
          },
          "execution_count": 12
        }
      ]
    },
    {
      "cell_type": "code",
      "metadata": {
        "id": "ES2yF4Bz3hG6",
        "colab_type": "code",
        "colab": {
          "base_uri": "https://localhost:8080/",
          "height": 163
        },
        "outputId": "2c214627-6278-4adf-ec1b-5d7038c2b458"
      },
      "source": [
        "adfuller(data.Passenger_list)"
      ],
      "execution_count": 13,
      "outputs": [
        {
          "output_type": "execute_result",
          "data": {
            "text/plain": [
              "(0.815368879206047,\n",
              " 0.991880243437641,\n",
              " 13,\n",
              " 130,\n",
              " {'1%': -3.4816817173418295,\n",
              "  '10%': -2.578770059171598,\n",
              "  '5%': -2.8840418343195267},\n",
              " 996.6929308390189)"
            ]
          },
          "metadata": {
            "tags": []
          },
          "execution_count": 13
        }
      ]
    },
    {
      "cell_type": "code",
      "metadata": {
        "id": "zW_xvS_l3kg_",
        "colab_type": "code",
        "colab": {
          "base_uri": "https://localhost:8080/",
          "height": 304
        },
        "outputId": "f8a83afb-89ae-4ce3-d7c9-7519ef5153f0"
      },
      "source": [
        "#ts=d_resampled\n",
        "ts_log = np.log(data)\n",
        "plt.plot(ts_log)"
      ],
      "execution_count": 14,
      "outputs": [
        {
          "output_type": "execute_result",
          "data": {
            "text/plain": [
              "[<matplotlib.lines.Line2D at 0x7f0a62f68358>,\n",
              " <matplotlib.lines.Line2D at 0x7f0a62cc1860>]"
            ]
          },
          "metadata": {
            "tags": []
          },
          "execution_count": 14
        },
        {
          "output_type": "display_data",
          "data": {
            "image/png": "[encoded data removed]",
            "text/plain": [
              "<Figure size 432x288 with 1 Axes>"
            ]
          },
          "metadata": {
            "tags": []
          }
        }
      ]
    },
    {
      "cell_type": "code",
      "metadata": {
        "id": "ILNFrDhZ427R",
        "colab_type": "code",
        "colab": {
          "base_uri": "https://localhost:8080/",
          "height": 163
        },
        "outputId": "a2ded3bd-3458-4448-c91e-2ca998179a29"
      },
      "source": [
        "adfuller(ts_log.Passenger_list)"
      ],
      "execution_count": 15,
      "outputs": [
        {
          "output_type": "execute_result",
          "data": {
            "text/plain": [
              "(-1.7170170891069605,\n",
              " 0.42236677477039125,\n",
              " 13,\n",
              " 130,\n",
              " {'1%': -3.4816817173418295,\n",
              "  '10%': -2.578770059171598,\n",
              "  '5%': -2.8840418343195267},\n",
              " -445.3990312497209)"
            ]
          },
          "metadata": {
            "tags": []
          },
          "execution_count": 15
        }
      ]
    },
    {
      "cell_type": "code",
      "metadata": {
        "id": "xsm16ven5C4Q",
        "colab_type": "code",
        "colab": {
          "base_uri": "https://localhost:8080/",
          "height": 254
        },
        "outputId": "558df9b5-5f31-42de-99ee-c2d926b2d480"
      },
      "source": [
        "data.Passenger_list"
      ],
      "execution_count": 16,
      "outputs": [
        {
          "output_type": "execute_result",
          "data": {
            "text/plain": [
              "Month\n",
              "2003-01-01    112\n",
              "2003-02-01    118\n",
              "2003-03-01    132\n",
              "2003-04-01    129\n",
              "2003-05-01    121\n",
              "             ... \n",
              "2015-08-01    606\n",
              "2015-09-01    508\n",
              "2015-10-01    461\n",
              "2015-11-01    390\n",
              "2015-12-01    432\n",
              "Name: Passenger_list, Length: 144, dtype: int64"
            ]
          },
          "metadata": {
            "tags": []
          },
          "execution_count": 16
        }
      ]
    },
    {
      "cell_type": "code",
      "metadata": {
        "id": "Ye7fyexA6y5T",
        "colab_type": "code",
        "colab": {}
      },
      "source": [
        "stationary_d=data.Passenger_list.diff().diff().dropna()"
      ],
      "execution_count": 0,
      "outputs": []
    },
    {
      "cell_type": "code",
      "metadata": {
        "id": "3yfrnn0Q5L-e",
        "colab_type": "code",
        "colab": {
          "base_uri": "https://localhost:8080/",
          "height": 163
        },
        "outputId": "3733ecd9-f07d-4885-d637-4e324f74c661"
      },
      "source": [
        "adfuller(data.Passenger_list.diff().diff().dropna())"
      ],
      "execution_count": 18,
      "outputs": [
        {
          "output_type": "execute_result",
          "data": {
            "text/plain": [
              "(-16.384231542468495,\n",
              " 2.7328918500143186e-29,\n",
              " 11,\n",
              " 130,\n",
              " {'1%': -3.4816817173418295,\n",
              "  '10%': -2.578770059171598,\n",
              "  '5%': -2.8840418343195267},\n",
              " 988.6020417275602)"
            ]
          },
          "metadata": {
            "tags": []
          },
          "execution_count": 18
        }
      ]
    },
    {
      "cell_type": "code",
      "metadata": {
        "id": "q5b2dMsy5aZL",
        "colab_type": "code",
        "colab": {}
      },
      "source": [
        "from statsmodels.tsa.arima_process import arma_generate_sample\n",
        "from statsmodels.graphics.tsaplots import plot_acf, plot_pacf"
      ],
      "execution_count": 0,
      "outputs": []
    },
    {
      "cell_type": "code",
      "metadata": {
        "id": "XqqN9U786VKP",
        "colab_type": "code",
        "colab": {}
      },
      "source": [
        "d_resampled.diff().dropna()\n",
        "from statsmodels.tsa.arima_model import ARMA"
      ],
      "execution_count": 0,
      "outputs": []
    },
    {
      "cell_type": "code",
      "metadata": {
        "id": "UWaoaTiT6acY",
        "colab_type": "code",
        "colab": {
          "base_uri": "https://localhost:8080/",
          "height": 431
        },
        "outputId": "e271ac57-5457-4347-baa1-299e77e56026"
      },
      "source": [
        "model = ARMA(stationary_d, order=(1, 2))\n",
        "results = model.fit()\n",
        "results.summary()"
      ],
      "execution_count": 21,
      "outputs": [
        {
          "output_type": "stream",
          "text": [
            "/usr/local/lib/python3.6/dist-packages/statsmodels/tsa/base/tsa_model.py:219: ValueWarning: A date index has been provided, but it has no associated frequency information and so will be ignored when e.g. forecasting.\n",
            "  ' ignored when e.g. forecasting.', ValueWarning)\n"
          ],
          "name": "stderr"
        },
        {
          "output_type": "execute_result",
          "data": {
            "text/html": [
              "<table class=\"simpletable\">\n",
              "<caption>ARMA Model Results</caption>\n",
              "<tr>\n",
              "  <th>Dep. Variable:</th>  <td>Passenger_list</td>  <th>  No. Observations:  </th>    <td>142</td>  \n",
              "</tr>\n",
              "<tr>\n",
              "  <th>Model:</th>            <td>ARMA(1, 2)</td>    <th>  Log Likelihood     </th> <td>-691.954</td>\n",
              "</tr>\n",
              "<tr>\n",
              "  <th>Method:</th>             <td>css-mle</td>     <th>  S.D. of innovations</th>  <td>31.067</td> \n",
              "</tr>\n",
              "<tr>\n",
              "  <th>Date:</th>          <td>Mon, 20 Jan 2020</td> <th>  AIC                </th> <td>1393.908</td>\n",
              "</tr>\n",
              "<tr>\n",
              "  <th>Time:</th>              <td>05:09:18</td>     <th>  BIC                </th> <td>1408.688</td>\n",
              "</tr>\n",
              "<tr>\n",
              "  <th>Sample:</th>                <td>0</td>        <th>  HQIC               </th> <td>1399.914</td>\n",
              "</tr>\n",
              "<tr>\n",
              "  <th></th>                       <td> </td>        <th>                     </th>     <td> </td>   \n",
              "</tr>\n",
              "</table>\n",
              "<table class=\"simpletable\">\n",
              "<tr>\n",
              "            <td></td>              <th>coef</th>     <th>std err</th>      <th>z</th>      <th>P>|z|</th>  <th>[0.025</th>    <th>0.975]</th>  \n",
              "</tr>\n",
              "<tr>\n",
              "  <th>const</th>                <td>    0.0034</td> <td>    0.080</td> <td>    0.043</td> <td> 0.966</td> <td>   -0.152</td> <td>    0.159</td>\n",
              "</tr>\n",
              "<tr>\n",
              "  <th>ar.L1.Passenger_list</th> <td>   -0.4709</td> <td>    0.116</td> <td>   -4.048</td> <td> 0.000</td> <td>   -0.699</td> <td>   -0.243</td>\n",
              "</tr>\n",
              "<tr>\n",
              "  <th>ma.L1.Passenger_list</th> <td>   -0.1369</td> <td>    0.074</td> <td>   -1.843</td> <td> 0.067</td> <td>   -0.283</td> <td>    0.009</td>\n",
              "</tr>\n",
              "<tr>\n",
              "  <th>ma.L2.Passenger_list</th> <td>   -0.8631</td> <td>    0.074</td> <td>  -11.701</td> <td> 0.000</td> <td>   -1.008</td> <td>   -0.718</td>\n",
              "</tr>\n",
              "</table>\n",
              "<table class=\"simpletable\">\n",
              "<caption>Roots</caption>\n",
              "<tr>\n",
              "    <td></td>   <th>            Real</th>  <th>         Imaginary</th> <th>         Modulus</th>  <th>        Frequency</th>\n",
              "</tr>\n",
              "<tr>\n",
              "  <th>AR.1</th> <td>          -2.1238</td> <td>          +0.0000j</td> <td>           2.1238</td> <td>           0.5000</td>\n",
              "</tr>\n",
              "<tr>\n",
              "  <th>MA.1</th> <td>           1.0000</td> <td>          +0.0000j</td> <td>           1.0000</td> <td>           0.0000</td>\n",
              "</tr>\n",
              "<tr>\n",
              "  <th>MA.2</th> <td>          -1.1587</td> <td>          +0.0000j</td> <td>           1.1587</td> <td>           0.5000</td>\n",
              "</tr>\n",
              "</table>"
            ],
            "text/plain": [
              "<class 'statsmodels.iolib.summary.Summary'>\n",
              "\"\"\"\n",
              "                              ARMA Model Results                              \n",
              "==============================================================================\n",
              "Dep. Variable:         Passenger_list   No. Observations:                  142\n",
              "Model:                     ARMA(1, 2)   Log Likelihood                -691.954\n",
              "Method:                       css-mle   S.D. of innovations             31.067\n",
              "Date:                Mon, 20 Jan 2020   AIC                           1393.908\n",
              "Time:                        05:09:18   BIC                           1408.688\n",
              "Sample:                             0   HQIC                          1399.914\n",
              "                                                                              \n",
              "========================================================================================\n",
              "                           coef    std err          z      P>|z|      [0.025      0.975]\n",
              "----------------------------------------------------------------------------------------\n",
              "const                    0.0034      0.080      0.043      0.966      -0.152       0.159\n",
              "ar.L1.Passenger_list    -0.4709      0.116     -4.048      0.000      -0.699      -0.243\n",
              "ma.L1.Passenger_list    -0.1369      0.074     -1.843      0.067      -0.283       0.009\n",
              "ma.L2.Passenger_list    -0.8631      0.074    -11.701      0.000      -1.008      -0.718\n",
              "                                    Roots                                    \n",
              "=============================================================================\n",
              "                  Real          Imaginary           Modulus         Frequency\n",
              "-----------------------------------------------------------------------------\n",
              "AR.1           -2.1238           +0.0000j            2.1238            0.5000\n",
              "MA.1            1.0000           +0.0000j            1.0000            0.0000\n",
              "MA.2           -1.1587           +0.0000j            1.1587            0.5000\n",
              "-----------------------------------------------------------------------------\n",
              "\"\"\""
            ]
          },
          "metadata": {
            "tags": []
          },
          "execution_count": 21
        }
      ]
    },
    {
      "cell_type": "code",
      "metadata": {
        "id": "-En4nFvJ6tE4",
        "colab_type": "code",
        "colab": {
          "base_uri": "https://localhost:8080/",
          "height": 254
        },
        "outputId": "37e441a2-1990-4d29-8d25-b4ea11b2a919"
      },
      "source": [
        "d_resampled"
      ],
      "execution_count": 22,
      "outputs": [
        {
          "output_type": "execute_result",
          "data": {
            "text/plain": [
              "Month\n",
              "2003-01-31    112.0\n",
              "2003-02-28    118.0\n",
              "2003-03-31    132.0\n",
              "2003-04-30    129.0\n",
              "2003-05-31    121.0\n",
              "              ...  \n",
              "2015-08-31    606.0\n",
              "2015-09-30    508.0\n",
              "2015-10-31    461.0\n",
              "2015-11-30    390.0\n",
              "2015-12-31    432.0\n",
              "Freq: M, Name: Passenger_list, Length: 156, dtype: float64"
            ]
          },
          "metadata": {
            "tags": []
          },
          "execution_count": 22
        }
      ]
    },
    {
      "cell_type": "code",
      "metadata": {
        "id": "4kzcwb_q7IZU",
        "colab_type": "code",
        "colab": {}
      },
      "source": [
        "from statsmodels.tsa.arima_model import ARIMA"
      ],
      "execution_count": 0,
      "outputs": []
    },
    {
      "cell_type": "code",
      "metadata": {
        "id": "NYTyZaM67TUU",
        "colab_type": "code",
        "colab": {
          "base_uri": "https://localhost:8080/",
          "height": 110
        },
        "outputId": "13ca98ae-c4e6-408c-b826-8cf4d1dd9ea2"
      },
      "source": [
        "model = ARIMA(data.Passenger_list, order=(2, 1, 1))  \n",
        "results_ARIMA = model.fit()"
      ],
      "execution_count": 24,
      "outputs": [
        {
          "output_type": "stream",
          "text": [
            "/usr/local/lib/python3.6/dist-packages/statsmodels/tsa/base/tsa_model.py:219: ValueWarning: A date index has been provided, but it has no associated frequency information and so will be ignored when e.g. forecasting.\n",
            "  ' ignored when e.g. forecasting.', ValueWarning)\n",
            "/usr/local/lib/python3.6/dist-packages/statsmodels/tsa/base/tsa_model.py:219: ValueWarning: A date index has been provided, but it has no associated frequency information and so will be ignored when e.g. forecasting.\n",
            "  ' ignored when e.g. forecasting.', ValueWarning)\n"
          ],
          "name": "stderr"
        }
      ]
    },
    {
      "cell_type": "code",
      "metadata": {
        "id": "TRCMtW-a7Wsj",
        "colab_type": "code",
        "colab": {
          "base_uri": "https://localhost:8080/",
          "height": 375
        },
        "outputId": "ca390555-7ed6-41b3-ca12-de44a1e7ecab"
      },
      "source": [
        "results_ARIMA.summary()"
      ],
      "execution_count": 25,
      "outputs": [
        {
          "output_type": "execute_result",
          "data": {
            "text/html": [
              "<table class=\"simpletable\">\n",
              "<caption>ARIMA Model Results</caption>\n",
              "<tr>\n",
              "  <th>Dep. Variable:</th> <td>D.Passenger_list</td> <th>  No. Observations:  </th>    <td>143</td>  \n",
              "</tr>\n",
              "<tr>\n",
              "  <th>Model:</th>          <td>ARIMA(2, 1, 1)</td>  <th>  Log Likelihood     </th> <td>-675.848</td>\n",
              "</tr>\n",
              "<tr>\n",
              "  <th>Method:</th>             <td>css-mle</td>     <th>  S.D. of innovations</th>  <td>26.882</td> \n",
              "</tr>\n",
              "<tr>\n",
              "  <th>Date:</th>          <td>Mon, 20 Jan 2020</td> <th>  AIC                </th> <td>1361.696</td>\n",
              "</tr>\n",
              "<tr>\n",
              "  <th>Time:</th>              <td>05:09:18</td>     <th>  BIC                </th> <td>1376.510</td>\n",
              "</tr>\n",
              "<tr>\n",
              "  <th>Sample:</th>                <td>1</td>        <th>  HQIC               </th> <td>1367.716</td>\n",
              "</tr>\n",
              "<tr>\n",
              "  <th></th>                       <td> </td>        <th>                     </th>     <td> </td>   \n",
              "</tr>\n",
              "</table>\n",
              "<table class=\"simpletable\">\n",
              "<tr>\n",
              "             <td></td>               <th>coef</th>     <th>std err</th>      <th>z</th>      <th>P>|z|</th>  <th>[0.025</th>    <th>0.975]</th>  \n",
              "</tr>\n",
              "<tr>\n",
              "  <th>const</th>                  <td>    2.6695</td> <td>    0.132</td> <td>   20.183</td> <td> 0.000</td> <td>    2.410</td> <td>    2.929</td>\n",
              "</tr>\n",
              "<tr>\n",
              "  <th>ar.L1.D.Passenger_list</th> <td>    1.1043</td> <td>    0.071</td> <td>   15.460</td> <td> 0.000</td> <td>    0.964</td> <td>    1.244</td>\n",
              "</tr>\n",
              "<tr>\n",
              "  <th>ar.L2.D.Passenger_list</th> <td>   -0.5103</td> <td>    0.072</td> <td>   -7.094</td> <td> 0.000</td> <td>   -0.651</td> <td>   -0.369</td>\n",
              "</tr>\n",
              "<tr>\n",
              "  <th>ma.L1.D.Passenger_list</th> <td>   -0.9999</td> <td>    0.029</td> <td>  -34.136</td> <td> 0.000</td> <td>   -1.057</td> <td>   -0.943</td>\n",
              "</tr>\n",
              "</table>\n",
              "<table class=\"simpletable\">\n",
              "<caption>Roots</caption>\n",
              "<tr>\n",
              "    <td></td>   <th>            Real</th>  <th>         Imaginary</th> <th>         Modulus</th>  <th>        Frequency</th>\n",
              "</tr>\n",
              "<tr>\n",
              "  <th>AR.1</th> <td>           1.0819</td> <td>          -0.8882j</td> <td>           1.3998</td> <td>          -0.1094</td>\n",
              "</tr>\n",
              "<tr>\n",
              "  <th>AR.2</th> <td>           1.0819</td> <td>          +0.8882j</td> <td>           1.3998</td> <td>           0.1094</td>\n",
              "</tr>\n",
              "<tr>\n",
              "  <th>MA.1</th> <td>           1.0001</td> <td>          +0.0000j</td> <td>           1.0001</td> <td>           0.0000</td>\n",
              "</tr>\n",
              "</table>"
            ],
            "text/plain": [
              "<class 'statsmodels.iolib.summary.Summary'>\n",
              "\"\"\"\n",
              "                             ARIMA Model Results                              \n",
              "==============================================================================\n",
              "Dep. Variable:       D.Passenger_list   No. Observations:                  143\n",
              "Model:                 ARIMA(2, 1, 1)   Log Likelihood                -675.848\n",
              "Method:                       css-mle   S.D. of innovations             26.882\n",
              "Date:                Mon, 20 Jan 2020   AIC                           1361.696\n",
              "Time:                        05:09:18   BIC                           1376.510\n",
              "Sample:                             1   HQIC                          1367.716\n",
              "                                                                              \n",
              "==========================================================================================\n",
              "                             coef    std err          z      P>|z|      [0.025      0.975]\n",
              "------------------------------------------------------------------------------------------\n",
              "const                      2.6695      0.132     20.183      0.000       2.410       2.929\n",
              "ar.L1.D.Passenger_list     1.1043      0.071     15.460      0.000       0.964       1.244\n",
              "ar.L2.D.Passenger_list    -0.5103      0.072     -7.094      0.000      -0.651      -0.369\n",
              "ma.L1.D.Passenger_list    -0.9999      0.029    -34.136      0.000      -1.057      -0.943\n",
              "                                    Roots                                    \n",
              "=============================================================================\n",
              "                  Real          Imaginary           Modulus         Frequency\n",
              "-----------------------------------------------------------------------------\n",
              "AR.1            1.0819           -0.8882j            1.3998           -0.1094\n",
              "AR.2            1.0819           +0.8882j            1.3998            0.1094\n",
              "MA.1            1.0001           +0.0000j            1.0001            0.0000\n",
              "-----------------------------------------------------------------------------\n",
              "\"\"\""
            ]
          },
          "metadata": {
            "tags": []
          },
          "execution_count": 25
        }
      ]
    },
    {
      "cell_type": "code",
      "metadata": {
        "id": "HH3DgD-y7qNH",
        "colab_type": "code",
        "colab": {
          "base_uri": "https://localhost:8080/",
          "height": 72
        },
        "outputId": "e44158c7-9286-40f2-c8b6-b04cfea42d34"
      },
      "source": [
        "results_ARIMA.forecast()"
      ],
      "execution_count": 26,
      "outputs": [
        {
          "output_type": "execute_result",
          "data": {
            "text/plain": [
              "(array([470.45446119]),\n",
              " array([26.88163437]),\n",
              " array([[417.76742597, 523.1414964 ]]))"
            ]
          },
          "metadata": {
            "tags": []
          },
          "execution_count": 26
        }
      ]
    },
    {
      "cell_type": "code",
      "metadata": {
        "id": "znxj1vxv7u0q",
        "colab_type": "code",
        "colab": {
          "base_uri": "https://localhost:8080/",
          "height": 437
        },
        "outputId": "59912e13-01c3-4d06-e1df-9afe14fbe733"
      },
      "source": [
        "predictions = []\n",
        "for x in np.arange(-5, 0):\n",
        "    model = ARIMA(data.Passenger_list.iloc[:x], order=(3, 1, 3))  \n",
        "    results_ARIMA = model.fit()\n",
        "    predictions.append(results_ARIMA.forecast()[0])\n",
        "predictions=np.array(predictions).ravel()\n",
        "predictions"
      ],
      "execution_count": 27,
      "outputs": [
        {
          "output_type": "stream",
          "text": [
            "/usr/local/lib/python3.6/dist-packages/statsmodels/tsa/base/tsa_model.py:219: ValueWarning: A date index has been provided, but it has no associated frequency information and so will be ignored when e.g. forecasting.\n",
            "  ' ignored when e.g. forecasting.', ValueWarning)\n",
            "/usr/local/lib/python3.6/dist-packages/statsmodels/tsa/base/tsa_model.py:219: ValueWarning: A date index has been provided, but it has no associated frequency information and so will be ignored when e.g. forecasting.\n",
            "  ' ignored when e.g. forecasting.', ValueWarning)\n",
            "/usr/local/lib/python3.6/dist-packages/statsmodels/tsa/base/tsa_model.py:219: ValueWarning: A date index has been provided, but it has no associated frequency information and so will be ignored when e.g. forecasting.\n",
            "  ' ignored when e.g. forecasting.', ValueWarning)\n",
            "/usr/local/lib/python3.6/dist-packages/statsmodels/tsa/base/tsa_model.py:219: ValueWarning: A date index has been provided, but it has no associated frequency information and so will be ignored when e.g. forecasting.\n",
            "  ' ignored when e.g. forecasting.', ValueWarning)\n",
            "/usr/local/lib/python3.6/dist-packages/statsmodels/tsa/base/tsa_model.py:219: ValueWarning: A date index has been provided, but it has no associated frequency information and so will be ignored when e.g. forecasting.\n",
            "  ' ignored when e.g. forecasting.', ValueWarning)\n",
            "/usr/local/lib/python3.6/dist-packages/statsmodels/tsa/base/tsa_model.py:219: ValueWarning: A date index has been provided, but it has no associated frequency information and so will be ignored when e.g. forecasting.\n",
            "  ' ignored when e.g. forecasting.', ValueWarning)\n",
            "/usr/local/lib/python3.6/dist-packages/statsmodels/tsa/base/tsa_model.py:219: ValueWarning: A date index has been provided, but it has no associated frequency information and so will be ignored when e.g. forecasting.\n",
            "  ' ignored when e.g. forecasting.', ValueWarning)\n",
            "/usr/local/lib/python3.6/dist-packages/statsmodels/tsa/base/tsa_model.py:219: ValueWarning: A date index has been provided, but it has no associated frequency information and so will be ignored when e.g. forecasting.\n",
            "  ' ignored when e.g. forecasting.', ValueWarning)\n",
            "/usr/local/lib/python3.6/dist-packages/statsmodels/tsa/base/tsa_model.py:219: ValueWarning: A date index has been provided, but it has no associated frequency information and so will be ignored when e.g. forecasting.\n",
            "  ' ignored when e.g. forecasting.', ValueWarning)\n",
            "/usr/local/lib/python3.6/dist-packages/statsmodels/tsa/base/tsa_model.py:219: ValueWarning: A date index has been provided, but it has no associated frequency information and so will be ignored when e.g. forecasting.\n",
            "  ' ignored when e.g. forecasting.', ValueWarning)\n"
          ],
          "name": "stderr"
        },
        {
          "output_type": "execute_result",
          "data": {
            "text/plain": [
              "array([600.24291687, 557.8770135 , 445.11356001, 433.67072522,\n",
              "       358.63111709])"
            ]
          },
          "metadata": {
            "tags": []
          },
          "execution_count": 27
        }
      ]
    },
    {
      "cell_type": "code",
      "metadata": {
        "id": "C8sxg9Zh8MsU",
        "colab_type": "code",
        "colab": {
          "base_uri": "https://localhost:8080/",
          "height": 145
        },
        "outputId": "f8897f67-e085-42b3-cd5c-f00d3e3acc22"
      },
      "source": [
        "actual = d_resampled.tail()\n",
        "actual"
      ],
      "execution_count": 28,
      "outputs": [
        {
          "output_type": "execute_result",
          "data": {
            "text/plain": [
              "Month\n",
              "2015-08-31    606.0\n",
              "2015-09-30    508.0\n",
              "2015-10-31    461.0\n",
              "2015-11-30    390.0\n",
              "2015-12-31    432.0\n",
              "Freq: M, Name: Passenger_list, dtype: float64"
            ]
          },
          "metadata": {
            "tags": []
          },
          "execution_count": 28
        }
      ]
    },
    {
      "cell_type": "code",
      "metadata": {
        "id": "s_iQYgKo8HV7",
        "colab_type": "code",
        "colab": {
          "base_uri": "https://localhost:8080/",
          "height": 145
        },
        "outputId": "b94176ca-37ff-4228-8734-41c5ff537343"
      },
      "source": [
        "predictions_series = pd.Series(predictions, index = actual.index)\n",
        "predictions_series"
      ],
      "execution_count": 29,
      "outputs": [
        {
          "output_type": "execute_result",
          "data": {
            "text/plain": [
              "Month\n",
              "2015-08-31    600.242917\n",
              "2015-09-30    557.877014\n",
              "2015-10-31    445.113560\n",
              "2015-11-30    433.670725\n",
              "2015-12-31    358.631117\n",
              "Freq: M, dtype: float64"
            ]
          },
          "metadata": {
            "tags": []
          },
          "execution_count": 29
        }
      ]
    },
    {
      "cell_type": "code",
      "metadata": {
        "id": "2zhgrhnm8H96",
        "colab_type": "code",
        "colab": {
          "base_uri": "https://localhost:8080/",
          "height": 350
        },
        "outputId": "1f548de8-d6f3-46ec-d2f3-cfc593e36d55"
      },
      "source": [
        "d_resampled[-60:].plot(figsize=(12, 5), grid=True, label= 'observed')\n",
        "predictions_series.plot(c='orange', figsize=(12, 5), grid=True, label='rolling one-step out-of-sample forecast')\n",
        "plt.title('Passenger Prediction')\n",
        "plt.legend()\n",
        "plt.show()"
      ],
      "execution_count": 30,
      "outputs": [
        {
          "output_type": "display_data",
          "data": {
            "image/png": "[encoded data removed]",
            "text/plain": [
              "<Figure size 864x360 with 1 Axes>"
            ]
          },
          "metadata": {
            "tags": []
          }
        }
      ]
    },
    {
      "cell_type": "code",
      "metadata": {
        "id": "CZTy4O3O8UZz",
        "colab_type": "code",
        "colab": {}
      },
      "source": [
        ""
      ],
      "execution_count": 0,
      "outputs": []
    }
  ]
}