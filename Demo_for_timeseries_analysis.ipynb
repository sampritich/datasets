{
  "nbformat": 4,
  "nbformat_minor": 0,
  "metadata": {
    "kernelspec": {
      "name": "python3",
      "display_name": "Python 3"
    },
    "language_info": {
      "codemirror_mode": {
        "name": "ipython",
        "version": 3
      },
      "file_extension": ".py",
      "mimetype": "text/x-python",
      "name": "python",
      "nbconvert_exporter": "python",
      "pygments_lexer": "ipython3",
      "version": "3.5.6"
    },
    "colab": {
      "name": "Demo_for_timeseries_analysis",
      "provenance": [],
      "collapsed_sections": [
        "4rM0KdtfrJIB",
        "bDSYw6FxrJID",
        "SBAyxCxNrJIE"
      ],
      "include_colab_link": true
    },
    "accelerator": "GPU"
  },
  "cells": [
    {
      "cell_type": "markdown",
      "metadata": {
        "id": "view-in-github",
        "colab_type": "text"
      },
      "source": [
        "<a href=\"https://colab.research.google.com/github/sampritich/datasets/blob/master/Demo_for_timeseries_analysis.ipynb\" target=\"_parent\"><img src=\"https://colab.research.google.com/assets/colab-badge.svg\" alt=\"Open In Colab\"/></a>"
      ]
    },
    {
      "cell_type": "code",
      "metadata": {
        "id": "_xVcr-HvrJGI",
        "colab_type": "code",
        "colab": {}
      },
      "source": [
        "import pandas as pd\n",
        "import numpy as np\n",
        "import matplotlib.pyplot as plt"
      ],
      "execution_count": 0,
      "outputs": []
    },
    {
      "cell_type": "markdown",
      "metadata": {
        "id": "yUhfY7rD00MM",
        "colab_type": "text"
      },
      "source": [
        "**Import dataset**"
      ]
    },
    {
      "cell_type": "code",
      "metadata": {
        "id": "yzQZBwZE0zTj",
        "colab_type": "code",
        "outputId": "43349dc7-fad5-4169-94f5-2fa99af32e23",
        "colab": {
          "base_uri": "https://localhost:8080/",
          "height": 440
        }
      },
      "source": [
        "!wget https://www.dropbox.com/s/uwmbrcqnowrlltx/Time_series_end_To_end.zip"
      ],
      "execution_count": 103,
      "outputs": [
        {
          "output_type": "stream",
          "text": [
            "--2020-01-17 06:21:36--  https://www.dropbox.com/s/uwmbrcqnowrlltx/Time_series_end_To_end.zip\n",
            "Resolving www.dropbox.com (www.dropbox.com)... 162.125.8.1, 2620:100:601b:1::a27d:801\n",
            "Connecting to www.dropbox.com (www.dropbox.com)|162.125.8.1|:443... connected.\n",
            "HTTP request sent, awaiting response... 301 Moved Permanently\n",
            "Location: /s/raw/uwmbrcqnowrlltx/Time_series_end_To_end.zip [following]\n",
            "--2020-01-17 06:21:36--  https://www.dropbox.com/s/raw/uwmbrcqnowrlltx/Time_series_end_To_end.zip\n",
            "Reusing existing connection to www.dropbox.com:443.\n",
            "HTTP request sent, awaiting response... 302 Found\n",
            "Location: https://ucf4ae93d060d72210405633d0a2.dl.dropboxusercontent.com/cd/0/inline/AwWZVqc58sKJx2x_kY1GudvO9L-ckufNOpMO9UQ1T9BNHhxVU9iAayVcujIrab5FZpPT1G2sbE9yV2OUG9zcalbH0pnbWx4WJ0ABH8EwYLhFX0y_nYYoNEOmdxlcsyj830g/file# [following]\n",
            "--2020-01-17 06:21:37--  https://ucf4ae93d060d72210405633d0a2.dl.dropboxusercontent.com/cd/0/inline/AwWZVqc58sKJx2x_kY1GudvO9L-ckufNOpMO9UQ1T9BNHhxVU9iAayVcujIrab5FZpPT1G2sbE9yV2OUG9zcalbH0pnbWx4WJ0ABH8EwYLhFX0y_nYYoNEOmdxlcsyj830g/file\n",
            "Resolving ucf4ae93d060d72210405633d0a2.dl.dropboxusercontent.com (ucf4ae93d060d72210405633d0a2.dl.dropboxusercontent.com)... 162.125.8.6, 2620:100:6018:6::a27d:306\n",
            "Connecting to ucf4ae93d060d72210405633d0a2.dl.dropboxusercontent.com (ucf4ae93d060d72210405633d0a2.dl.dropboxusercontent.com)|162.125.8.6|:443... connected.\n",
            "HTTP request sent, awaiting response... 302 FOUND\n",
            "Location: /cd/0/inline2/AwUbST0MVmSrrpucO7xIBGgSFgtLCuZXx-fvda1ff3rMn6QG89anfAfJ21EeAJUQX5Y7dSe5OIfjkzs-Ul-XXQ31PjuGwJp7NrT-zeWR_EwY15I2Vh19b-O8xZnuBbG4px4MUpa2PdqaTWzJjsElMpm7KFyulc8AO38RLoxjoIlWWumY8bgVe55hVOGaTVypll91trsjgjdEtp4WUndEgL2z50cdLbJuvImurUiUByMRTBF3vlNGkEhMgKVav1vxojbfCWl8QwKQuBiNuj5CSPRD17PmSMeYqVpc6gofBILmPivMUYrPjz50CQORolAeZlyt7MEcvBFMhYm2kBQb-i-UueNsma7GIXtjbEKc1OyXkA/file [following]\n",
            "--2020-01-17 06:21:37--  https://ucf4ae93d060d72210405633d0a2.dl.dropboxusercontent.com/cd/0/inline2/AwUbST0MVmSrrpucO7xIBGgSFgtLCuZXx-fvda1ff3rMn6QG89anfAfJ21EeAJUQX5Y7dSe5OIfjkzs-Ul-XXQ31PjuGwJp7NrT-zeWR_EwY15I2Vh19b-O8xZnuBbG4px4MUpa2PdqaTWzJjsElMpm7KFyulc8AO38RLoxjoIlWWumY8bgVe55hVOGaTVypll91trsjgjdEtp4WUndEgL2z50cdLbJuvImurUiUByMRTBF3vlNGkEhMgKVav1vxojbfCWl8QwKQuBiNuj5CSPRD17PmSMeYqVpc6gofBILmPivMUYrPjz50CQORolAeZlyt7MEcvBFMhYm2kBQb-i-UueNsma7GIXtjbEKc1OyXkA/file\n",
            "Reusing existing connection to ucf4ae93d060d72210405633d0a2.dl.dropboxusercontent.com:443.\n",
            "HTTP request sent, awaiting response... 200 OK\n",
            "Length: 547746 (535K) [application/zip]\n",
            "Saving to: ‘Time_series_end_To_end.zip.1’\n",
            "\n",
            "\r          Time_seri   0%[                    ]       0  --.-KB/s               \rTime_series_end_To_ 100%[===================>] 534.91K  --.-KB/s    in 0.07s   \n",
            "\n",
            "2020-01-17 06:21:38 (7.31 MB/s) - ‘Time_series_end_To_end.zip.1’ saved [547746/547746]\n",
            "\n"
          ],
          "name": "stdout"
        }
      ]
    },
    {
      "cell_type": "code",
      "metadata": {
        "id": "TNMpaRoV0-4F",
        "colab_type": "code",
        "outputId": "817b0c83-5f9c-428a-a1de-656ad637e3ce",
        "colab": {
          "base_uri": "https://localhost:8080/",
          "height": 50
        }
      },
      "source": [
        "!unzip Time_series_end_To_end.zip"
      ],
      "execution_count": 104,
      "outputs": [
        {
          "output_type": "stream",
          "text": [
            "Archive:  Time_series_end_To_end.zip\n",
            "replace Time_series_end_To_end/ICICIBANK_v8qqcf.csv? [y]es, [n]o, [A]ll, [N]one, [r]ename: N\n"
          ],
          "name": "stdout"
        }
      ]
    },
    {
      "cell_type": "markdown",
      "metadata": {
        "id": "nhjEBGtB1y4I",
        "colab_type": "text"
      },
      "source": [
        "# <b>Loading Dataset</b>"
      ]
    },
    {
      "cell_type": "code",
      "metadata": {
        "id": "aOsXrafwrJGR",
        "colab_type": "code",
        "outputId": "73d999f2-e317-4616-f370-846a00d3ceea",
        "colab": {
          "base_uri": "https://localhost:8080/",
          "height": 195
        }
      },
      "source": [
        "ic=pd.read_csv('/content/Time_series_end_To_end/ICICIBANK_v8qqcf.csv',parse_dates=True)\n",
        "ic.head()"
      ],
      "execution_count": 180,
      "outputs": [
        {
          "output_type": "execute_result",
          "data": {
            "text/html": [
              "<div>\n",
              "<style scoped>\n",
              "    .dataframe tbody tr th:only-of-type {\n",
              "        vertical-align: middle;\n",
              "    }\n",
              "\n",
              "    .dataframe tbody tr th {\n",
              "        vertical-align: top;\n",
              "    }\n",
              "\n",
              "    .dataframe thead th {\n",
              "        text-align: right;\n",
              "    }\n",
              "</style>\n",
              "<table border=\"1\" class=\"dataframe\">\n",
              "  <thead>\n",
              "    <tr style=\"text-align: right;\">\n",
              "      <th></th>\n",
              "      <th>Date</th>\n",
              "      <th>open</th>\n",
              "      <th>high</th>\n",
              "      <th>low</th>\n",
              "      <th>close</th>\n",
              "      <th>volume</th>\n",
              "    </tr>\n",
              "  </thead>\n",
              "  <tbody>\n",
              "    <tr>\n",
              "      <th>0</th>\n",
              "      <td>2004-06-23</td>\n",
              "      <td>45.84</td>\n",
              "      <td>47.27</td>\n",
              "      <td>45.82</td>\n",
              "      <td>46.10</td>\n",
              "      <td>10997496</td>\n",
              "    </tr>\n",
              "    <tr>\n",
              "      <th>1</th>\n",
              "      <td>2004-06-24</td>\n",
              "      <td>45.82</td>\n",
              "      <td>47.96</td>\n",
              "      <td>43.87</td>\n",
              "      <td>46.21</td>\n",
              "      <td>12604239</td>\n",
              "    </tr>\n",
              "    <tr>\n",
              "      <th>2</th>\n",
              "      <td>2004-06-25</td>\n",
              "      <td>46.55</td>\n",
              "      <td>46.55</td>\n",
              "      <td>44.95</td>\n",
              "      <td>45.56</td>\n",
              "      <td>7008808</td>\n",
              "    </tr>\n",
              "    <tr>\n",
              "      <th>3</th>\n",
              "      <td>2004-06-28</td>\n",
              "      <td>45.91</td>\n",
              "      <td>46.36</td>\n",
              "      <td>44.64</td>\n",
              "      <td>45.98</td>\n",
              "      <td>7126519</td>\n",
              "    </tr>\n",
              "    <tr>\n",
              "      <th>4</th>\n",
              "      <td>2004-06-29</td>\n",
              "      <td>45.83</td>\n",
              "      <td>46.25</td>\n",
              "      <td>44.67</td>\n",
              "      <td>45.24</td>\n",
              "      <td>4857203</td>\n",
              "    </tr>\n",
              "  </tbody>\n",
              "</table>\n",
              "</div>"
            ],
            "text/plain": [
              "         Date   open   high    low  close    volume\n",
              "0  2004-06-23  45.84  47.27  45.82  46.10  10997496\n",
              "1  2004-06-24  45.82  47.96  43.87  46.21  12604239\n",
              "2  2004-06-25  46.55  46.55  44.95  45.56   7008808\n",
              "3  2004-06-28  45.91  46.36  44.64  45.98   7126519\n",
              "4  2004-06-29  45.83  46.25  44.67  45.24   4857203"
            ]
          },
          "metadata": {
            "tags": []
          },
          "execution_count": 180
        }
      ]
    },
    {
      "cell_type": "code",
      "metadata": {
        "id": "qLfbukSTO2VC",
        "colab_type": "code",
        "colab": {
          "base_uri": "https://localhost:8080/",
          "height": 316
        },
        "outputId": "50e7ce9c-5dcb-4f61-ff51-3036788dd50c"
      },
      "source": [
        "exam_month=ic[['close','Date']]\n",
        "#exam_month[exam_month['Date']]=='2004'\n",
        "exam_month['year'] = pd.DatetimeIndex(exam_month['Date']).year\n",
        "exam_month.tail()\n"
      ],
      "execution_count": 203,
      "outputs": [
        {
          "output_type": "stream",
          "text": [
            "/usr/local/lib/python3.6/dist-packages/ipykernel_launcher.py:3: SettingWithCopyWarning: \n",
            "A value is trying to be set on a copy of a slice from a DataFrame.\n",
            "Try using .loc[row_indexer,col_indexer] = value instead\n",
            "\n",
            "See the caveats in the documentation: http://pandas.pydata.org/pandas-docs/stable/user_guide/indexing.html#returning-a-view-versus-a-copy\n",
            "  This is separate from the ipykernel package so we can avoid doing imports until\n"
          ],
          "name": "stderr"
        },
        {
          "output_type": "execute_result",
          "data": {
            "text/html": [
              "<div>\n",
              "<style scoped>\n",
              "    .dataframe tbody tr th:only-of-type {\n",
              "        vertical-align: middle;\n",
              "    }\n",
              "\n",
              "    .dataframe tbody tr th {\n",
              "        vertical-align: top;\n",
              "    }\n",
              "\n",
              "    .dataframe thead th {\n",
              "        text-align: right;\n",
              "    }\n",
              "</style>\n",
              "<table border=\"1\" class=\"dataframe\">\n",
              "  <thead>\n",
              "    <tr style=\"text-align: right;\">\n",
              "      <th></th>\n",
              "      <th>close</th>\n",
              "      <th>Date</th>\n",
              "      <th>year</th>\n",
              "    </tr>\n",
              "  </thead>\n",
              "  <tbody>\n",
              "    <tr>\n",
              "      <th>3608</th>\n",
              "      <td>357.20</td>\n",
              "      <td>2019-01-25</td>\n",
              "      <td>2019</td>\n",
              "    </tr>\n",
              "    <tr>\n",
              "      <th>3609</th>\n",
              "      <td>343.55</td>\n",
              "      <td>2019-01-28</td>\n",
              "      <td>2019</td>\n",
              "    </tr>\n",
              "    <tr>\n",
              "      <th>3610</th>\n",
              "      <td>346.85</td>\n",
              "      <td>2019-01-29</td>\n",
              "      <td>2019</td>\n",
              "    </tr>\n",
              "    <tr>\n",
              "      <th>3611</th>\n",
              "      <td>365.90</td>\n",
              "      <td>2019-01-30</td>\n",
              "      <td>2019</td>\n",
              "    </tr>\n",
              "    <tr>\n",
              "      <th>3612</th>\n",
              "      <td>364.45</td>\n",
              "      <td>2019-01-31</td>\n",
              "      <td>2019</td>\n",
              "    </tr>\n",
              "  </tbody>\n",
              "</table>\n",
              "</div>"
            ],
            "text/plain": [
              "       close        Date  year\n",
              "3608  357.20  2019-01-25  2019\n",
              "3609  343.55  2019-01-28  2019\n",
              "3610  346.85  2019-01-29  2019\n",
              "3611  365.90  2019-01-30  2019\n",
              "3612  364.45  2019-01-31  2019"
            ]
          },
          "metadata": {
            "tags": []
          },
          "execution_count": 203
        }
      ]
    },
    {
      "cell_type": "code",
      "metadata": {
        "id": "JTzMNiDjRdnM",
        "colab_type": "code",
        "colab": {
          "base_uri": "https://localhost:8080/",
          "height": 350
        },
        "outputId": "608f1bb2-5a41-4936-f1ea-44f4ed85963d"
      },
      "source": [
        "exam_month.plot(x='year', y='close',figsize=(12, 5), grid=True)\n"
      ],
      "execution_count": 190,
      "outputs": [
        {
          "output_type": "execute_result",
          "data": {
            "text/plain": [
              "<matplotlib.axes._subplots.AxesSubplot at 0x7f534b421c88>"
            ]
          },
          "metadata": {
            "tags": []
          },
          "execution_count": 190
        },
        {
          "output_type": "display_data",
          "data": {
            "image/png": "[encoded data removed]",
            "text/plain": [
              "<Figure size 864x360 with 1 Axes>"
            ]
          },
          "metadata": {
            "tags": []
          }
        }
      ]
    },
    {
      "cell_type": "markdown",
      "metadata": {
        "id": "B5aQ7LZ22YFs",
        "colab_type": "text"
      },
      "source": [
        "#Parse_dates"
      ]
    },
    {
      "cell_type": "code",
      "metadata": {
        "id": "XEE7W4EwO0Mb",
        "colab_type": "code",
        "colab": {}
      },
      "source": [
        ""
      ],
      "execution_count": 0,
      "outputs": []
    },
    {
      "cell_type": "code",
      "metadata": {
        "id": "XCtJ2nterJGV",
        "colab_type": "code",
        "outputId": "7d9851c0-b8b3-4a9d-fe58-f5edcd066b45",
        "colab": {
          "base_uri": "https://localhost:8080/",
          "height": 225
        }
      },
      "source": [
        "ic=pd.read_csv('/content/Time_series_end_To_end/ICICIBANK_v8qqcf.csv', parse_dates=True, index_col='Date')\n",
        "ic.head()\n"
      ],
      "execution_count": 106,
      "outputs": [
        {
          "output_type": "execute_result",
          "data": {
            "text/html": [
              "<div>\n",
              "<style scoped>\n",
              "    .dataframe tbody tr th:only-of-type {\n",
              "        vertical-align: middle;\n",
              "    }\n",
              "\n",
              "    .dataframe tbody tr th {\n",
              "        vertical-align: top;\n",
              "    }\n",
              "\n",
              "    .dataframe thead th {\n",
              "        text-align: right;\n",
              "    }\n",
              "</style>\n",
              "<table border=\"1\" class=\"dataframe\">\n",
              "  <thead>\n",
              "    <tr style=\"text-align: right;\">\n",
              "      <th></th>\n",
              "      <th>open</th>\n",
              "      <th>high</th>\n",
              "      <th>low</th>\n",
              "      <th>close</th>\n",
              "      <th>volume</th>\n",
              "    </tr>\n",
              "    <tr>\n",
              "      <th>Date</th>\n",
              "      <th></th>\n",
              "      <th></th>\n",
              "      <th></th>\n",
              "      <th></th>\n",
              "      <th></th>\n",
              "    </tr>\n",
              "  </thead>\n",
              "  <tbody>\n",
              "    <tr>\n",
              "      <th>2004-06-23</th>\n",
              "      <td>45.84</td>\n",
              "      <td>47.27</td>\n",
              "      <td>45.82</td>\n",
              "      <td>46.10</td>\n",
              "      <td>10997496</td>\n",
              "    </tr>\n",
              "    <tr>\n",
              "      <th>2004-06-24</th>\n",
              "      <td>45.82</td>\n",
              "      <td>47.96</td>\n",
              "      <td>43.87</td>\n",
              "      <td>46.21</td>\n",
              "      <td>12604239</td>\n",
              "    </tr>\n",
              "    <tr>\n",
              "      <th>2004-06-25</th>\n",
              "      <td>46.55</td>\n",
              "      <td>46.55</td>\n",
              "      <td>44.95</td>\n",
              "      <td>45.56</td>\n",
              "      <td>7008808</td>\n",
              "    </tr>\n",
              "    <tr>\n",
              "      <th>2004-06-28</th>\n",
              "      <td>45.91</td>\n",
              "      <td>46.36</td>\n",
              "      <td>44.64</td>\n",
              "      <td>45.98</td>\n",
              "      <td>7126519</td>\n",
              "    </tr>\n",
              "    <tr>\n",
              "      <th>2004-06-29</th>\n",
              "      <td>45.83</td>\n",
              "      <td>46.25</td>\n",
              "      <td>44.67</td>\n",
              "      <td>45.24</td>\n",
              "      <td>4857203</td>\n",
              "    </tr>\n",
              "  </tbody>\n",
              "</table>\n",
              "</div>"
            ],
            "text/plain": [
              "             open   high    low  close    volume\n",
              "Date                                            \n",
              "2004-06-23  45.84  47.27  45.82  46.10  10997496\n",
              "2004-06-24  45.82  47.96  43.87  46.21  12604239\n",
              "2004-06-25  46.55  46.55  44.95  45.56   7008808\n",
              "2004-06-28  45.91  46.36  44.64  45.98   7126519\n",
              "2004-06-29  45.83  46.25  44.67  45.24   4857203"
            ]
          },
          "metadata": {
            "tags": []
          },
          "execution_count": 106
        }
      ]
    },
    {
      "cell_type": "code",
      "metadata": {
        "id": "n90ONQ_ON1Of",
        "colab_type": "code",
        "colab": {
          "base_uri": "https://localhost:8080/",
          "height": 431
        },
        "outputId": "96d45f20-ea17-4039-f61b-12e4d9b4a2d7"
      },
      "source": [
        "ic\n",
        "\n"
      ],
      "execution_count": 175,
      "outputs": [
        {
          "output_type": "execute_result",
          "data": {
            "text/html": [
              "<div>\n",
              "<style scoped>\n",
              "    .dataframe tbody tr th:only-of-type {\n",
              "        vertical-align: middle;\n",
              "    }\n",
              "\n",
              "    .dataframe tbody tr th {\n",
              "        vertical-align: top;\n",
              "    }\n",
              "\n",
              "    .dataframe thead th {\n",
              "        text-align: right;\n",
              "    }\n",
              "</style>\n",
              "<table border=\"1\" class=\"dataframe\">\n",
              "  <thead>\n",
              "    <tr style=\"text-align: right;\">\n",
              "      <th></th>\n",
              "      <th>open</th>\n",
              "      <th>high</th>\n",
              "      <th>low</th>\n",
              "      <th>close</th>\n",
              "      <th>volume</th>\n",
              "      <th>roll_mean</th>\n",
              "    </tr>\n",
              "    <tr>\n",
              "      <th>Date</th>\n",
              "      <th></th>\n",
              "      <th></th>\n",
              "      <th></th>\n",
              "      <th></th>\n",
              "      <th></th>\n",
              "      <th></th>\n",
              "    </tr>\n",
              "  </thead>\n",
              "  <tbody>\n",
              "    <tr>\n",
              "      <th>2004-06-23</th>\n",
              "      <td>45.84</td>\n",
              "      <td>47.27</td>\n",
              "      <td>45.82</td>\n",
              "      <td>46.10</td>\n",
              "      <td>10997496</td>\n",
              "      <td>NaN</td>\n",
              "    </tr>\n",
              "    <tr>\n",
              "      <th>2004-06-24</th>\n",
              "      <td>45.82</td>\n",
              "      <td>47.96</td>\n",
              "      <td>43.87</td>\n",
              "      <td>46.21</td>\n",
              "      <td>12604239</td>\n",
              "      <td>NaN</td>\n",
              "    </tr>\n",
              "    <tr>\n",
              "      <th>2004-06-25</th>\n",
              "      <td>46.55</td>\n",
              "      <td>46.55</td>\n",
              "      <td>44.95</td>\n",
              "      <td>45.56</td>\n",
              "      <td>7008808</td>\n",
              "      <td>NaN</td>\n",
              "    </tr>\n",
              "    <tr>\n",
              "      <th>2004-06-28</th>\n",
              "      <td>45.91</td>\n",
              "      <td>46.36</td>\n",
              "      <td>44.64</td>\n",
              "      <td>45.98</td>\n",
              "      <td>7126519</td>\n",
              "      <td>NaN</td>\n",
              "    </tr>\n",
              "    <tr>\n",
              "      <th>2004-06-29</th>\n",
              "      <td>45.83</td>\n",
              "      <td>46.25</td>\n",
              "      <td>44.67</td>\n",
              "      <td>45.24</td>\n",
              "      <td>4857203</td>\n",
              "      <td>45.818</td>\n",
              "    </tr>\n",
              "    <tr>\n",
              "      <th>...</th>\n",
              "      <td>...</td>\n",
              "      <td>...</td>\n",
              "      <td>...</td>\n",
              "      <td>...</td>\n",
              "      <td>...</td>\n",
              "      <td>...</td>\n",
              "    </tr>\n",
              "    <tr>\n",
              "      <th>2019-01-25</th>\n",
              "      <td>362.35</td>\n",
              "      <td>364.65</td>\n",
              "      <td>354.55</td>\n",
              "      <td>357.20</td>\n",
              "      <td>22978238</td>\n",
              "      <td>366.030</td>\n",
              "    </tr>\n",
              "    <tr>\n",
              "      <th>2019-01-28</th>\n",
              "      <td>353.20</td>\n",
              "      <td>354.90</td>\n",
              "      <td>336.65</td>\n",
              "      <td>343.55</td>\n",
              "      <td>34362360</td>\n",
              "      <td>360.400</td>\n",
              "    </tr>\n",
              "    <tr>\n",
              "      <th>2019-01-29</th>\n",
              "      <td>342.95</td>\n",
              "      <td>350.10</td>\n",
              "      <td>341.35</td>\n",
              "      <td>346.85</td>\n",
              "      <td>20738442</td>\n",
              "      <td>355.960</td>\n",
              "    </tr>\n",
              "    <tr>\n",
              "      <th>2019-01-30</th>\n",
              "      <td>351.00</td>\n",
              "      <td>368.60</td>\n",
              "      <td>351.00</td>\n",
              "      <td>365.90</td>\n",
              "      <td>39400056</td>\n",
              "      <td>355.660</td>\n",
              "    </tr>\n",
              "    <tr>\n",
              "      <th>2019-01-31</th>\n",
              "      <td>372.70</td>\n",
              "      <td>376.65</td>\n",
              "      <td>354.10</td>\n",
              "      <td>364.45</td>\n",
              "      <td>85917249</td>\n",
              "      <td>355.590</td>\n",
              "    </tr>\n",
              "  </tbody>\n",
              "</table>\n",
              "<p>3613 rows × 6 columns</p>\n",
              "</div>"
            ],
            "text/plain": [
              "              open    high     low   close    volume  roll_mean\n",
              "Date                                                           \n",
              "2004-06-23   45.84   47.27   45.82   46.10  10997496        NaN\n",
              "2004-06-24   45.82   47.96   43.87   46.21  12604239        NaN\n",
              "2004-06-25   46.55   46.55   44.95   45.56   7008808        NaN\n",
              "2004-06-28   45.91   46.36   44.64   45.98   7126519        NaN\n",
              "2004-06-29   45.83   46.25   44.67   45.24   4857203     45.818\n",
              "...            ...     ...     ...     ...       ...        ...\n",
              "2019-01-25  362.35  364.65  354.55  357.20  22978238    366.030\n",
              "2019-01-28  353.20  354.90  336.65  343.55  34362360    360.400\n",
              "2019-01-29  342.95  350.10  341.35  346.85  20738442    355.960\n",
              "2019-01-30  351.00  368.60  351.00  365.90  39400056    355.660\n",
              "2019-01-31  372.70  376.65  354.10  364.45  85917249    355.590\n",
              "\n",
              "[3613 rows x 6 columns]"
            ]
          },
          "metadata": {
            "tags": []
          },
          "execution_count": 175
        }
      ]
    },
    {
      "cell_type": "markdown",
      "metadata": {
        "id": "Z1QbBK2n2j3O",
        "colab_type": "text"
      },
      "source": [
        "#Plot the close price value"
      ]
    },
    {
      "cell_type": "code",
      "metadata": {
        "id": "rFefduN1rJGb",
        "colab_type": "code",
        "outputId": "7f4070f8-ab25-4704-feed-0bb98a6d153b",
        "colab": {
          "base_uri": "https://localhost:8080/",
          "height": 318
        }
      },
      "source": [
        "ic.close.plot(figsize=(12, 5), grid=True)\n",
        "plt.show()"
      ],
      "execution_count": 107,
      "outputs": [
        {
          "output_type": "display_data",
          "data": {
            "image/png": "[encoded data removed]",
            "text/plain": [
              "<Figure size 864x360 with 1 Axes>"
            ]
          },
          "metadata": {
            "tags": []
          }
        }
      ]
    },
    {
      "cell_type": "markdown",
      "metadata": {
        "id": "OGgEDfBa2oy5",
        "colab_type": "text"
      },
      "source": [
        "#Resample the data on the basis of month"
      ]
    },
    {
      "cell_type": "code",
      "metadata": {
        "id": "lmRMd884stI-",
        "colab_type": "code",
        "outputId": "deeef103-ef6a-4463-ea10-422e1dcc744c",
        "colab": {
          "base_uri": "https://localhost:8080/",
          "height": 334
        }
      },
      "source": [
        "ic_resampled  = ic.close.resample('M').mean()\n",
        "ic_resampled.plot(figsize=(12, 5), grid=True)\n",
        "plt.show()"
      ],
      "execution_count": 108,
      "outputs": [
        {
          "output_type": "display_data",
          "data": {
            "image/png": "[encoded data removed]",
            "text/plain": [
              "<Figure size 864x360 with 1 Axes>"
            ]
          },
          "metadata": {
            "tags": []
          }
        }
      ]
    },
    {
      "cell_type": "markdown",
      "metadata": {
        "colab_type": "text",
        "id": "C8gIqr1L2xkb"
      },
      "source": [
        "#Resample the data on the basis of Week"
      ]
    },
    {
      "cell_type": "code",
      "metadata": {
        "colab_type": "code",
        "outputId": "05b9abbc-9be1-4a42-f601-f6eb566159d3",
        "id": "SkkFEe8F5xGy",
        "colab": {
          "base_uri": "https://localhost:8080/",
          "height": 334
        }
      },
      "source": [
        "ic_resampled  = ic.close.resample('W').mean()\n",
        "ic_resampled.plot(figsize=(12, 5), grid=True)\n",
        "plt.show()"
      ],
      "execution_count": 109,
      "outputs": [
        {
          "output_type": "display_data",
          "data": {
            "image/png": "[encoded data removed]",
            "text/plain": [
              "<Figure size 864x360 with 1 Axes>"
            ]
          },
          "metadata": {
            "tags": []
          }
        }
      ]
    },
    {
      "cell_type": "markdown",
      "metadata": {
        "id": "ewYnWOTe22gk",
        "colab_type": "text"
      },
      "source": [
        "#resampled data"
      ]
    },
    {
      "cell_type": "code",
      "metadata": {
        "id": "xfnJFb4nt3gk",
        "colab_type": "code",
        "outputId": "422d5e9d-ec5f-4950-d212-07144bcd22a9",
        "colab": {
          "base_uri": "https://localhost:8080/",
          "height": 134
        }
      },
      "source": [
        "ic_resampled.head()"
      ],
      "execution_count": 110,
      "outputs": [
        {
          "output_type": "execute_result",
          "data": {
            "text/plain": [
              "Date\n",
              "2004-06-27    45.956667\n",
              "2004-07-04    45.048000\n",
              "2004-07-11    43.834000\n",
              "2004-07-18    43.496000\n",
              "2004-07-25    47.314000\n",
              "Freq: W-SUN, Name: close, dtype: float64"
            ]
          },
          "metadata": {
            "tags": []
          },
          "execution_count": 110
        }
      ]
    },
    {
      "cell_type": "markdown",
      "metadata": {
        "id": "HUtacs5A28JO",
        "colab_type": "text"
      },
      "source": [
        "#close price value"
      ]
    },
    {
      "cell_type": "code",
      "metadata": {
        "id": "1F_CERlJvn9A",
        "colab_type": "code",
        "outputId": "e36ca994-86a7-45e4-d3f4-7a51e2cdc6de",
        "colab": {
          "base_uri": "https://localhost:8080/",
          "height": 101
        }
      },
      "source": [
        "ic.close.head(3)"
      ],
      "execution_count": 111,
      "outputs": [
        {
          "output_type": "execute_result",
          "data": {
            "text/plain": [
              "Date\n",
              "2004-06-23    46.10\n",
              "2004-06-24    46.21\n",
              "2004-06-25    45.56\n",
              "Name: close, dtype: float64"
            ]
          },
          "metadata": {
            "tags": []
          },
          "execution_count": 111
        }
      ]
    },
    {
      "cell_type": "markdown",
      "metadata": {
        "id": "L9Vg2ngz2-w_",
        "colab_type": "text"
      },
      "source": [
        "#Applied rolling on the dataset"
      ]
    },
    {
      "cell_type": "code",
      "metadata": {
        "id": "Q4q--zklvYXm",
        "colab_type": "code",
        "outputId": "a3e411ce-50b8-49c5-fd28-ce3b4927e8ed",
        "colab": {
          "base_uri": "https://localhost:8080/",
          "height": 134
        }
      },
      "source": [
        "ic_rooling=ic.close.rolling(3).mean()\n",
        "ic_rooling.head(5)"
      ],
      "execution_count": 112,
      "outputs": [
        {
          "output_type": "execute_result",
          "data": {
            "text/plain": [
              "Date\n",
              "2004-06-23          NaN\n",
              "2004-06-24          NaN\n",
              "2004-06-25    45.956667\n",
              "2004-06-28    45.916667\n",
              "2004-06-29    45.593333\n",
              "Name: close, dtype: float64"
            ]
          },
          "metadata": {
            "tags": []
          },
          "execution_count": 112
        }
      ]
    },
    {
      "cell_type": "markdown",
      "metadata": {
        "id": "HPGdEEoH3Nor",
        "colab_type": "text"
      },
      "source": [
        "#Visualize both  actual and the rolled column"
      ]
    },
    {
      "cell_type": "code",
      "metadata": {
        "id": "BbBEM6ffrJGi",
        "colab_type": "code",
        "outputId": "8e888144-ad4c-423f-f25a-d364ffe95898",
        "colab": {
          "base_uri": "https://localhost:8080/",
          "height": 373
        }
      },
      "source": [
        "\n",
        "ic['roll_mean'] = ic.close.rolling(5).mean()\n",
        "ic.loc[:, ['roll_mean', 'close']].head(10)\n"
      ],
      "execution_count": 113,
      "outputs": [
        {
          "output_type": "execute_result",
          "data": {
            "text/html": [
              "<div>\n",
              "<style scoped>\n",
              "    .dataframe tbody tr th:only-of-type {\n",
              "        vertical-align: middle;\n",
              "    }\n",
              "\n",
              "    .dataframe tbody tr th {\n",
              "        vertical-align: top;\n",
              "    }\n",
              "\n",
              "    .dataframe thead th {\n",
              "        text-align: right;\n",
              "    }\n",
              "</style>\n",
              "<table border=\"1\" class=\"dataframe\">\n",
              "  <thead>\n",
              "    <tr style=\"text-align: right;\">\n",
              "      <th></th>\n",
              "      <th>roll_mean</th>\n",
              "      <th>close</th>\n",
              "    </tr>\n",
              "    <tr>\n",
              "      <th>Date</th>\n",
              "      <th></th>\n",
              "      <th></th>\n",
              "    </tr>\n",
              "  </thead>\n",
              "  <tbody>\n",
              "    <tr>\n",
              "      <th>2004-06-23</th>\n",
              "      <td>NaN</td>\n",
              "      <td>46.10</td>\n",
              "    </tr>\n",
              "    <tr>\n",
              "      <th>2004-06-24</th>\n",
              "      <td>NaN</td>\n",
              "      <td>46.21</td>\n",
              "    </tr>\n",
              "    <tr>\n",
              "      <th>2004-06-25</th>\n",
              "      <td>NaN</td>\n",
              "      <td>45.56</td>\n",
              "    </tr>\n",
              "    <tr>\n",
              "      <th>2004-06-28</th>\n",
              "      <td>NaN</td>\n",
              "      <td>45.98</td>\n",
              "    </tr>\n",
              "    <tr>\n",
              "      <th>2004-06-29</th>\n",
              "      <td>45.818</td>\n",
              "      <td>45.24</td>\n",
              "    </tr>\n",
              "    <tr>\n",
              "      <th>2004-06-30</th>\n",
              "      <td>45.488</td>\n",
              "      <td>44.45</td>\n",
              "    </tr>\n",
              "    <tr>\n",
              "      <th>2004-07-01</th>\n",
              "      <td>45.256</td>\n",
              "      <td>45.05</td>\n",
              "    </tr>\n",
              "    <tr>\n",
              "      <th>2004-07-02</th>\n",
              "      <td>45.048</td>\n",
              "      <td>44.52</td>\n",
              "    </tr>\n",
              "    <tr>\n",
              "      <th>2004-07-05</th>\n",
              "      <td>44.410</td>\n",
              "      <td>42.79</td>\n",
              "    </tr>\n",
              "    <tr>\n",
              "      <th>2004-07-06</th>\n",
              "      <td>44.146</td>\n",
              "      <td>43.92</td>\n",
              "    </tr>\n",
              "  </tbody>\n",
              "</table>\n",
              "</div>"
            ],
            "text/plain": [
              "            roll_mean  close\n",
              "Date                        \n",
              "2004-06-23        NaN  46.10\n",
              "2004-06-24        NaN  46.21\n",
              "2004-06-25        NaN  45.56\n",
              "2004-06-28        NaN  45.98\n",
              "2004-06-29     45.818  45.24\n",
              "2004-06-30     45.488  44.45\n",
              "2004-07-01     45.256  45.05\n",
              "2004-07-02     45.048  44.52\n",
              "2004-07-05     44.410  42.79\n",
              "2004-07-06     44.146  43.92"
            ]
          },
          "metadata": {
            "tags": []
          },
          "execution_count": 113
        }
      ]
    },
    {
      "cell_type": "markdown",
      "metadata": {
        "id": "yueifIQO3aQt",
        "colab_type": "text"
      },
      "source": [
        "#Graph after rolling and without rolling on close price"
      ]
    },
    {
      "cell_type": "code",
      "metadata": {
        "id": "1XyLRj-YrJGm",
        "colab_type": "code",
        "outputId": "23ab492c-bf43-4b19-c628-498f14022f8a",
        "colab": {
          "base_uri": "https://localhost:8080/",
          "height": 318
        }
      },
      "source": [
        "ic_rolling  = ic.close.rolling(100).mean()\n",
        "ic_rolling.plot(figsize=(12, 5), grid=True)\n",
        "ic.close.plot(figsize=(12, 5), grid=True)\n",
        "plt.show()"
      ],
      "execution_count": 114,
      "outputs": [
        {
          "output_type": "display_data",
          "data": {
            "image/png": "[encoded data removed]",
            "text/plain": [
              "<Figure size 864x360 with 1 Axes>"
            ]
          },
          "metadata": {
            "tags": []
          }
        }
      ]
    },
    {
      "cell_type": "markdown",
      "metadata": {
        "id": "B8uVaUOtrJGp",
        "colab_type": "text"
      },
      "source": [
        "## Test for Stationarity\n",
        "#using Augmented Dickey Fuller Test"
      ]
    },
    {
      "cell_type": "code",
      "metadata": {
        "id": "8TipQsKRrJGu",
        "colab_type": "code",
        "colab": {}
      },
      "source": [
        "from statsmodels.tsa.stattools import adfuller"
      ],
      "execution_count": 0,
      "outputs": []
    },
    {
      "cell_type": "code",
      "metadata": {
        "id": "dmIr-k_prJGz",
        "colab_type": "code",
        "outputId": "19e1fdb3-09ba-4e62-bdb8-4c13944c9b0a",
        "colab": {
          "base_uri": "https://localhost:8080/",
          "height": 151
        }
      },
      "source": [
        "adfuller(ic_resampled)"
      ],
      "execution_count": 116,
      "outputs": [
        {
          "output_type": "execute_result",
          "data": {
            "text/plain": [
              "(-1.408955016001226,\n",
              " 0.5779755213187958,\n",
              " 1,\n",
              " 761,\n",
              " {'1%': -3.4389722010249386,\n",
              "  '10%': -2.5687964010457227,\n",
              "  '5%': -2.8653454308425705},\n",
              " 5198.022589802209)"
            ]
          },
          "metadata": {
            "tags": []
          },
          "execution_count": 116
        }
      ]
    },
    {
      "cell_type": "markdown",
      "metadata": {
        "id": "xCUXB-FX30lB",
        "colab_type": "text"
      },
      "source": [
        "# p value for the data"
      ]
    },
    {
      "cell_type": "code",
      "metadata": {
        "id": "_znr_EIo57Y1",
        "colab_type": "code",
        "outputId": "e08af41d-0eac-44eb-dc77-1df0ae49f957",
        "colab": {
          "base_uri": "https://localhost:8080/",
          "height": 34
        }
      },
      "source": [
        "adfuller(ic_resampled)[1]# p value only"
      ],
      "execution_count": 117,
      "outputs": [
        {
          "output_type": "execute_result",
          "data": {
            "text/plain": [
              "0.5779755213187958"
            ]
          },
          "metadata": {
            "tags": []
          },
          "execution_count": 117
        }
      ]
    },
    {
      "cell_type": "markdown",
      "metadata": {
        "id": "f0sJdB8t34Mz",
        "colab_type": "text"
      },
      "source": [
        "# P value is more than 0.05 <br>\n",
        "So, fail to reject the null hypothesis<br>\n",
        "<b>Conclude: Data is nonstationary</b>"
      ]
    },
    {
      "cell_type": "markdown",
      "metadata": {
        "id": "0hM19QUarJG3",
        "colab_type": "text"
      },
      "source": [
        "### Converting non stationary to stationary\n",
        "* diff(), sometimes multiple times\n",
        "* log\n",
        "* sqrt\n",
        "* df.shift(1)/df: Proportional\n",
        "__Often simple solution(diff) is the best one__"
      ]
    },
    {
      "cell_type": "code",
      "metadata": {
        "id": "PTlx78dGrJG4",
        "colab_type": "code",
        "outputId": "595b7cf9-0b4f-49db-d28a-9f6ddcf259c7",
        "colab": {
          "base_uri": "https://localhost:8080/",
          "height": 134
        }
      },
      "source": [
        "ic_resampled.head()"
      ],
      "execution_count": 118,
      "outputs": [
        {
          "output_type": "execute_result",
          "data": {
            "text/plain": [
              "Date\n",
              "2004-06-27    45.956667\n",
              "2004-07-04    45.048000\n",
              "2004-07-11    43.834000\n",
              "2004-07-18    43.496000\n",
              "2004-07-25    47.314000\n",
              "Freq: W-SUN, Name: close, dtype: float64"
            ]
          },
          "metadata": {
            "tags": []
          },
          "execution_count": 118
        }
      ]
    },
    {
      "cell_type": "markdown",
      "metadata": {
        "id": "Kof29bQ86aR6",
        "colab_type": "text"
      },
      "source": [
        "#using log method"
      ]
    },
    {
      "cell_type": "code",
      "metadata": {
        "id": "Xn6Ue7z46EWe",
        "colab_type": "code",
        "colab": {
          "base_uri": "https://localhost:8080/",
          "height": 282
        },
        "outputId": "83783031-75ef-4776-841e-501788c70572"
      },
      "source": [
        "import numpy as np\n",
        "import matplotlib.pyplot as plt\n",
        "ts=ic_resampled\n",
        "ts_log = np.log(ts)\n",
        "plt.plot(ts_log)"
      ],
      "execution_count": 119,
      "outputs": [
        {
          "output_type": "execute_result",
          "data": {
            "text/plain": [
              "[<matplotlib.lines.Line2D at 0x7f534d52e320>]"
            ]
          },
          "metadata": {
            "tags": []
          },
          "execution_count": 119
        },
        {
          "output_type": "display_data",
          "data": {
            "image/png": "[encoded data removed]",
            "text/plain": [
              "<Figure size 432x288 with 1 Axes>"
            ]
          },
          "metadata": {
            "tags": []
          }
        }
      ]
    },
    {
      "cell_type": "code",
      "metadata": {
        "id": "SUn03cUD6UX9",
        "colab_type": "code",
        "colab": {
          "base_uri": "https://localhost:8080/",
          "height": 225
        },
        "outputId": "bcbce10e-ec01-4cee-900f-c3de622bbd25"
      },
      "source": [
        "ts_log.head()\n",
        "ts_log.to_frame().head()"
      ],
      "execution_count": 120,
      "outputs": [
        {
          "output_type": "execute_result",
          "data": {
            "text/html": [
              "<div>\n",
              "<style scoped>\n",
              "    .dataframe tbody tr th:only-of-type {\n",
              "        vertical-align: middle;\n",
              "    }\n",
              "\n",
              "    .dataframe tbody tr th {\n",
              "        vertical-align: top;\n",
              "    }\n",
              "\n",
              "    .dataframe thead th {\n",
              "        text-align: right;\n",
              "    }\n",
              "</style>\n",
              "<table border=\"1\" class=\"dataframe\">\n",
              "  <thead>\n",
              "    <tr style=\"text-align: right;\">\n",
              "      <th></th>\n",
              "      <th>close</th>\n",
              "    </tr>\n",
              "    <tr>\n",
              "      <th>Date</th>\n",
              "      <th></th>\n",
              "    </tr>\n",
              "  </thead>\n",
              "  <tbody>\n",
              "    <tr>\n",
              "      <th>2004-06-27</th>\n",
              "      <td>3.827699</td>\n",
              "    </tr>\n",
              "    <tr>\n",
              "      <th>2004-07-04</th>\n",
              "      <td>3.807729</td>\n",
              "    </tr>\n",
              "    <tr>\n",
              "      <th>2004-07-11</th>\n",
              "      <td>3.780410</td>\n",
              "    </tr>\n",
              "    <tr>\n",
              "      <th>2004-07-18</th>\n",
              "      <td>3.772669</td>\n",
              "    </tr>\n",
              "    <tr>\n",
              "      <th>2004-07-25</th>\n",
              "      <td>3.856806</td>\n",
              "    </tr>\n",
              "  </tbody>\n",
              "</table>\n",
              "</div>"
            ],
            "text/plain": [
              "               close\n",
              "Date                \n",
              "2004-06-27  3.827699\n",
              "2004-07-04  3.807729\n",
              "2004-07-11  3.780410\n",
              "2004-07-18  3.772669\n",
              "2004-07-25  3.856806"
            ]
          },
          "metadata": {
            "tags": []
          },
          "execution_count": 120
        }
      ]
    },
    {
      "cell_type": "code",
      "metadata": {
        "id": "LTUGfk3s6XQn",
        "colab_type": "code",
        "colab": {
          "base_uri": "https://localhost:8080/",
          "height": 225
        },
        "outputId": "59656248-ee4a-47c4-86c5-5e72609f4bda"
      },
      "source": [
        "ts.to_frame().head()"
      ],
      "execution_count": 121,
      "outputs": [
        {
          "output_type": "execute_result",
          "data": {
            "text/html": [
              "<div>\n",
              "<style scoped>\n",
              "    .dataframe tbody tr th:only-of-type {\n",
              "        vertical-align: middle;\n",
              "    }\n",
              "\n",
              "    .dataframe tbody tr th {\n",
              "        vertical-align: top;\n",
              "    }\n",
              "\n",
              "    .dataframe thead th {\n",
              "        text-align: right;\n",
              "    }\n",
              "</style>\n",
              "<table border=\"1\" class=\"dataframe\">\n",
              "  <thead>\n",
              "    <tr style=\"text-align: right;\">\n",
              "      <th></th>\n",
              "      <th>close</th>\n",
              "    </tr>\n",
              "    <tr>\n",
              "      <th>Date</th>\n",
              "      <th></th>\n",
              "    </tr>\n",
              "  </thead>\n",
              "  <tbody>\n",
              "    <tr>\n",
              "      <th>2004-06-27</th>\n",
              "      <td>45.956667</td>\n",
              "    </tr>\n",
              "    <tr>\n",
              "      <th>2004-07-04</th>\n",
              "      <td>45.048000</td>\n",
              "    </tr>\n",
              "    <tr>\n",
              "      <th>2004-07-11</th>\n",
              "      <td>43.834000</td>\n",
              "    </tr>\n",
              "    <tr>\n",
              "      <th>2004-07-18</th>\n",
              "      <td>43.496000</td>\n",
              "    </tr>\n",
              "    <tr>\n",
              "      <th>2004-07-25</th>\n",
              "      <td>47.314000</td>\n",
              "    </tr>\n",
              "  </tbody>\n",
              "</table>\n",
              "</div>"
            ],
            "text/plain": [
              "                close\n",
              "Date                 \n",
              "2004-06-27  45.956667\n",
              "2004-07-04  45.048000\n",
              "2004-07-11  43.834000\n",
              "2004-07-18  43.496000\n",
              "2004-07-25  47.314000"
            ]
          },
          "metadata": {
            "tags": []
          },
          "execution_count": 121
        }
      ]
    },
    {
      "cell_type": "markdown",
      "metadata": {
        "id": "kpnRezS36jGs",
        "colab_type": "text"
      },
      "source": [
        "#Check for Stationarity"
      ]
    },
    {
      "cell_type": "code",
      "metadata": {
        "id": "3web6lb86nT1",
        "colab_type": "code",
        "colab": {
          "base_uri": "https://localhost:8080/",
          "height": 151
        },
        "outputId": "ce770425-f01e-45e7-96b7-31845edcc882"
      },
      "source": [
        "result = adfuller(ts_log)\n",
        "print('Augmented Dickey Fuller Test')\n",
        "print(\"After log transformation \")\n",
        "print('ADF Statistic: %f' % result[0])\n",
        "print('p-value: %f' % result[1])\n",
        "print('Critical Values:')\n",
        "for key, value in result[4].items():\n",
        "\tprint('\\t%s: %.3f' % (key, value))"
      ],
      "execution_count": 122,
      "outputs": [
        {
          "output_type": "stream",
          "text": [
            "Augmented Dickey Fuller Test\n",
            "After log transformation \n",
            "ADF Statistic: -2.449203\n",
            "p-value: 0.128328\n",
            "Critical Values:\n",
            "\t1%: -3.439\n",
            "\t5%: -2.865\n",
            "\t10%: -2.569\n"
          ],
          "name": "stdout"
        }
      ]
    },
    {
      "cell_type": "markdown",
      "metadata": {
        "id": "d3TBZKX26tRS",
        "colab_type": "text"
      },
      "source": [
        "# P value is more than 0.05 <br>\n",
        "So, fail to reject the null hypothesis<br>\n",
        "<b>Conclude: Data is nonstationary</b>"
      ]
    },
    {
      "cell_type": "markdown",
      "metadata": {
        "id": "MweSDHcr6B_t",
        "colab_type": "text"
      },
      "source": [
        "# using diff()"
      ]
    },
    {
      "cell_type": "code",
      "metadata": {
        "id": "QiLcaY0urJG9",
        "colab_type": "code",
        "outputId": "58f805b3-2ae3-4405-e772-76a4da6b9031",
        "colab": {
          "base_uri": "https://localhost:8080/",
          "height": 134
        }
      },
      "source": [
        "ic_resampled.diff().head()"
      ],
      "execution_count": 123,
      "outputs": [
        {
          "output_type": "execute_result",
          "data": {
            "text/plain": [
              "Date\n",
              "2004-06-27         NaN\n",
              "2004-07-04   -0.908667\n",
              "2004-07-11   -1.214000\n",
              "2004-07-18   -0.338000\n",
              "2004-07-25    3.818000\n",
              "Freq: W-SUN, Name: close, dtype: float64"
            ]
          },
          "metadata": {
            "tags": []
          },
          "execution_count": 123
        }
      ]
    },
    {
      "cell_type": "markdown",
      "metadata": {
        "id": "x--E9fEkCUkb",
        "colab_type": "text"
      },
      "source": [
        "#Test for stationarity"
      ]
    },
    {
      "cell_type": "code",
      "metadata": {
        "id": "EMVPZUsyCYOZ",
        "colab_type": "code",
        "colab": {
          "base_uri": "https://localhost:8080/",
          "height": 151
        },
        "outputId": "69c088e4-c16d-4d33-b67d-c757dbd6905c"
      },
      "source": [
        "result = adfuller(ts_log)\n",
        "print('Augmented Dickey Fuller Test')\n",
        "print(\"After log transformation \")\n",
        "print('ADF Statistic: %f' % result[0])\n",
        "print('p-value: %f' % result[1])\n",
        "print('Critical Values:')\n",
        "for key, value in result[4].items():\n",
        "\tprint('\\t%s: %.3f' % (key, value))"
      ],
      "execution_count": 124,
      "outputs": [
        {
          "output_type": "stream",
          "text": [
            "Augmented Dickey Fuller Test\n",
            "After log transformation \n",
            "ADF Statistic: -2.449203\n",
            "p-value: 0.128328\n",
            "Critical Values:\n",
            "\t1%: -3.439\n",
            "\t5%: -2.865\n",
            "\t10%: -2.569\n"
          ],
          "name": "stdout"
        }
      ]
    },
    {
      "cell_type": "markdown",
      "metadata": {
        "id": "W5_fwJX0E1bf",
        "colab_type": "text"
      },
      "source": [
        ""
      ]
    },
    {
      "cell_type": "code",
      "metadata": {
        "id": "TdOsATyrrJHC",
        "colab_type": "code",
        "colab": {}
      },
      "source": [
        "ic_stationary=ic_resampled.diff().diff().dropna().head()"
      ],
      "execution_count": 0,
      "outputs": []
    },
    {
      "cell_type": "markdown",
      "metadata": {
        "id": "_4hsHDmIrJHF",
        "colab_type": "text"
      },
      "source": [
        "### Remember Dickey fuller tests only Trend stationarity. So visualisation is not replacable"
      ]
    },
    {
      "cell_type": "code",
      "metadata": {
        "id": "aCVUjOXGrJHG",
        "colab_type": "code",
        "outputId": "05f8878c-07b0-4bda-ca12-588b3ff312b0",
        "colab": {
          "base_uri": "https://localhost:8080/",
          "height": 34
        }
      },
      "source": [
        "adfuller(ic_stationary)[1]"
      ],
      "execution_count": 126,
      "outputs": [
        {
          "output_type": "execute_result",
          "data": {
            "text/plain": [
              "0.03483785646984696"
            ]
          },
          "metadata": {
            "tags": []
          },
          "execution_count": 126
        }
      ]
    },
    {
      "cell_type": "code",
      "metadata": {
        "id": "SQCTyBNNrJHK",
        "colab_type": "code",
        "outputId": "7cac921b-dc27-4162-de71-14809531284d",
        "colab": {
          "base_uri": "https://localhost:8080/",
          "height": 369
        }
      },
      "source": [
        "ic_stationary.plot(figsize=(12, 5), grid=True)\n",
        "plt.show()"
      ],
      "execution_count": 127,
      "outputs": [
        {
          "output_type": "display_data",
          "data": {
            "image/png": "[encoded data removed]",
            "text/plain": [
              "<Figure size 864x360 with 1 Axes>"
            ]
          },
          "metadata": {
            "tags": []
          }
        }
      ]
    },
    {
      "cell_type": "markdown",
      "metadata": {
        "id": "1yk_AA6QFNC5",
        "colab_type": "text"
      },
      "source": [
        "#Using squareroot "
      ]
    },
    {
      "cell_type": "code",
      "metadata": {
        "id": "QWla6dPYFQf9",
        "colab_type": "code",
        "colab": {}
      },
      "source": [
        "ic_square_stationarity=np.sqrt(ic_resampled)"
      ],
      "execution_count": 0,
      "outputs": []
    },
    {
      "cell_type": "code",
      "metadata": {
        "id": "Edcyi1WsrJHT",
        "colab_type": "code",
        "outputId": "fe335e6c-d465-4b3a-f3d4-e75ae6a48189",
        "colab": {
          "base_uri": "https://localhost:8080/",
          "height": 34
        }
      },
      "source": [
        "adfuller(ic_square_stationarity)[1]"
      ],
      "execution_count": 129,
      "outputs": [
        {
          "output_type": "execute_result",
          "data": {
            "text/plain": [
              "0.362929318062669"
            ]
          },
          "metadata": {
            "tags": []
          },
          "execution_count": 129
        }
      ]
    },
    {
      "cell_type": "code",
      "metadata": {
        "id": "YGHyLD7srJHW",
        "colab_type": "code",
        "colab": {}
      },
      "source": [
        "def test_stationarity(timeseries):\n",
        "    #Determing rolling statistics\n",
        "    rolmean = timeseries.rolling(window=52).mean() \n",
        "    rolstd = timeseries.rolling(window=52).std()\n",
        "    #Plot rolling statistics:\n",
        "    plt.figure(figsize=(12,3))\n",
        "    plt.grid(True)\n",
        "    orig = plt.plot(timeseries, color='blue',label='Original')\n",
        "    mean = plt.plot(rolmean, color='red', label='Rolling Mean')\n",
        "    std = plt.plot(rolstd, color='black', label = 'Rolling Std')\n",
        "    plt.legend(loc='best')\n",
        "    plt.title('Rolling Mean & Standard Deviation')\n",
        "    plt.show(block=False)\n",
        "    #Perform Dickey-Fuller test:\n",
        "    print('Results of Dickey-Fuller Test:')\n",
        "    dftest = adfuller(timeseries)[1]\n",
        "    print('p_value: ', dftest)"
      ],
      "execution_count": 0,
      "outputs": []
    },
    {
      "cell_type": "code",
      "metadata": {
        "id": "5b3hCuTEFpzZ",
        "colab_type": "code",
        "colab": {
          "base_uri": "https://localhost:8080/",
          "height": 261
        },
        "outputId": "9653cdb5-e56c-4ad1-c3f0-d3a4ddb58790"
      },
      "source": [
        "test_stationarity(ic_resampled.diff().dropna())\n"
      ],
      "execution_count": 131,
      "outputs": [
        {
          "output_type": "display_data",
          "data": {
            "image/png": "[encoded data removed]",
            "text/plain": [
              "<Figure size 864x216 with 1 Axes>"
            ]
          },
          "metadata": {
            "tags": []
          }
        },
        {
          "output_type": "stream",
          "text": [
            "Results of Dickey-Fuller Test:\n",
            "p_value:  0.0\n"
          ],
          "name": "stdout"
        }
      ]
    },
    {
      "cell_type": "code",
      "metadata": {
        "id": "_l77bWBTrJHc",
        "colab_type": "code",
        "outputId": "171d72f2-ee4a-476f-8f87-7a762d2160ee",
        "colab": {
          "base_uri": "https://localhost:8080/",
          "height": 261
        }
      },
      "source": [
        "#test_stationarity(ic_resampled.diff().dropna())\n",
        "test_stationarity(ic_stationary)"
      ],
      "execution_count": 132,
      "outputs": [
        {
          "output_type": "display_data",
          "data": {
            "image/png": "[encoded data removed]",
            "text/plain": [
              "<Figure size 864x216 with 1 Axes>"
            ]
          },
          "metadata": {
            "tags": []
          }
        },
        {
          "output_type": "stream",
          "text": [
            "Results of Dickey-Fuller Test:\n",
            "p_value:  0.03483785646984696\n"
          ],
          "name": "stdout"
        }
      ]
    },
    {
      "cell_type": "markdown",
      "metadata": {
        "id": "FeHIjUzgrJH_",
        "colab_type": "text"
      },
      "source": [
        "## ARMA models\n",
        "* __Requires the data to be Stationary__"
      ]
    },
    {
      "cell_type": "markdown",
      "metadata": {
        "id": "4rM0KdtfrJIB",
        "colab_type": "text"
      },
      "source": [
        "### Auto Regressive AR Model"
      ]
    },
    {
      "cell_type": "markdown",
      "metadata": {
        "id": "bDSYw6FxrJID",
        "colab_type": "text"
      },
      "source": [
        "__AR(1)__\n",
        "\n",
        "### \\begin{equation*}P(today) = Mean  +  Coeff*P(yesterday) + Noise \\end{equation*}\n",
        "### \\begin{equation*}P(t) = \\mu + \\gamma1*P(t-1) + \\epsilon \\end{equation*}\n",
        "\n",
        "* __If gamma = 0 model is Mean plus noise__\n",
        "\n",
        "__AR(2)__\n",
        "\n",
        "### \\begin{equation*}P(t) = \\mu + \\gamma1*P(t-1) +  \\gamma2*P(t-2) + \\epsilon \\end{equation*}"
      ]
    },
    {
      "cell_type": "markdown",
      "metadata": {
        "id": "SBAyxCxNrJIE",
        "colab_type": "text"
      },
      "source": [
        "### Moving Average MA Model\n",
        "\n",
        "MA(1) Model\n",
        "\n",
        "### \\begin{equation*}P(t) = \\mu + \\theta1*\\epsilon(t-1) + \\epsilon(t) \\end{equation*}\n",
        "\n",
        "MA(2) Model\n",
        "\n",
        "### \\begin{equation*}P(t) = \\mu + \\theta2*\\epsilon(t-2) + \\theta1*\\epsilon(t-1) + \\epsilon(t) \\end{equation*}\n"
      ]
    },
    {
      "cell_type": "markdown",
      "metadata": {
        "id": "ARPp5ck8rJIE",
        "colab_type": "text"
      },
      "source": [
        "### ARMA Model\n",
        "\n",
        "ARMA(1,1)\n",
        "\n",
        "### \\begin{equation*}P(t) = \\mu +  \\gamma1*P(t-1) + \\theta1*\\epsilon(t-1) + \\epsilon(t) \\end{equation*}"
      ]
    },
    {
      "cell_type": "code",
      "metadata": {
        "id": "-aQ9wIMCrJIF",
        "colab_type": "code",
        "colab": {}
      },
      "source": [
        ""
      ],
      "execution_count": 0,
      "outputs": []
    },
    {
      "cell_type": "code",
      "metadata": {
        "id": "IUHHpUjhrJIK",
        "colab_type": "code",
        "outputId": "7e1db495-f7f6-4f9a-e485-cbf896276122",
        "colab": {
          "base_uri": "https://localhost:8080/",
          "height": 34
        }
      },
      "source": [
        "ic_resampled.diff().dropna().autocorr(3)"
      ],
      "execution_count": 133,
      "outputs": [
        {
          "output_type": "execute_result",
          "data": {
            "text/plain": [
              "-0.014092986934383541"
            ]
          },
          "metadata": {
            "tags": []
          },
          "execution_count": 133
        }
      ]
    },
    {
      "cell_type": "markdown",
      "metadata": {
        "id": "eIALqH_9rJIO",
        "colab_type": "text"
      },
      "source": [
        "# ACF- PACF to determine lags the model (AR, MA, ARMA) and lags(p and q)"
      ]
    },
    {
      "cell_type": "code",
      "metadata": {
        "id": "v3rJiLjPrJIP",
        "colab_type": "code",
        "colab": {}
      },
      "source": [
        "from statsmodels.tsa.arima_process import arma_generate_sample\n",
        "from statsmodels.graphics.tsaplots import plot_acf, plot_pacf"
      ],
      "execution_count": 0,
      "outputs": []
    },
    {
      "cell_type": "markdown",
      "metadata": {
        "id": "17j-N--AGOLt",
        "colab_type": "text"
      },
      "source": [
        "#example to find ACF and PACF"
      ]
    },
    {
      "cell_type": "code",
      "metadata": {
        "id": "xsiib2qXrJIT",
        "colab_type": "code",
        "outputId": "a631a4cd-340d-4efb-cda4-a3eb5e189635",
        "colab": {
          "base_uri": "https://localhost:8080/",
          "height": 281
        }
      },
      "source": [
        "ar_coeffs = [1, -0.8, 0.7] # 1 is for the 0 lag term, this is always set to 1. The sign of coefficients is reverse\n",
        "ma_coeffs = [1, 0]  # 1 is for the 0 lag term, this is always set to 1\n",
        "y = arma_generate_sample(ar_coeffs, ma_coeffs, nsample=1000)\n",
        "fig, ax = plt.subplots(1,2, figsize = (14,4))\n",
        "plot_acf(y, lags=10, zero=False, ax=ax[0])\n",
        "plot_pacf(y, lags=10, zero=False, ax=ax[1])\n",
        "plt.show()"
      ],
      "execution_count": 135,
      "outputs": [
        {
          "output_type": "display_data",
          "data": {
            "image/png": "[encoded data removed]",
            "text/plain": [
              "<Figure size 1008x288 with 2 Axes>"
            ]
          },
          "metadata": {
            "tags": []
          }
        }
      ]
    },
    {
      "cell_type": "code",
      "metadata": {
        "id": "pyCE2tpjrJIW",
        "colab_type": "code",
        "outputId": "c5851baf-3df8-4469-ac04-6a5fa1cb9fcc",
        "colab": {
          "base_uri": "https://localhost:8080/",
          "height": 281
        }
      },
      "source": [
        "ar_coeffs = [1, 0] # 1 is for the 0 lag term, this is always set to 1. The sign of coefficients is reverse\n",
        "ma_coeffs = [1, 0.9]  # 1 is for the 0 lag term, this is always set to 1\n",
        "y = arma_generate_sample(ar_coeffs, ma_coeffs, nsample=1000)\n",
        "fig, ax = plt.subplots(1,2, figsize = (14,4))\n",
        "plot_acf(y, lags=10, zero=False, ax=ax[0])\n",
        "plot_pacf(y, lags=10, zero=False, ax=ax[1])\n",
        "plt.show()"
      ],
      "execution_count": 136,
      "outputs": [
        {
          "output_type": "display_data",
          "data": {
            "image/png": "[encoded data removed]",
            "text/plain": [
              "<Figure size 1008x288 with 2 Axes>"
            ]
          },
          "metadata": {
            "tags": []
          }
        }
      ]
    },
    {
      "cell_type": "code",
      "metadata": {
        "id": "HE_YNsD5rJIZ",
        "colab_type": "code",
        "outputId": "5c5bf074-0587-4f4e-9e55-074d59a28e3a",
        "colab": {
          "base_uri": "https://localhost:8080/",
          "height": 281
        }
      },
      "source": [
        "ar_coeffs = [1, -0.8, 0.7] # 1 is for the 0 lag term, this is always set to 1. The sign of coefficients is reverse\n",
        "ma_coeffs = [1, 0.9, 0.7]  # 1 is for the 0 lag term, this is always set to 1\n",
        "y = arma_generate_sample(ar_coeffs, ma_coeffs, nsample=1000)\n",
        "fig, ax = plt.subplots(1,2, figsize = (14,4))\n",
        "plot_acf(y, lags=10, zero=False, ax=ax[0])\n",
        "plot_pacf(y, lags=10, zero=False, ax=ax[1])\n",
        "plt.show()"
      ],
      "execution_count": 137,
      "outputs": [
        {
          "output_type": "display_data",
          "data": {
            "image/png": "[encoded data removed]",
            "text/plain": [
              "<Figure size 1008x288 with 2 Axes>"
            ]
          },
          "metadata": {
            "tags": []
          }
        }
      ]
    },
    {
      "cell_type": "markdown",
      "metadata": {
        "id": "ArebXyZvrJId",
        "colab_type": "text"
      },
      "source": [
        "## If the model is ARMA we have to try different models to find the right one"
      ]
    },
    {
      "cell_type": "code",
      "metadata": {
        "id": "-6Axq58WrJIf",
        "colab_type": "code",
        "colab": {}
      },
      "source": [
        "from statsmodels.tsa.arima_model import ARMA"
      ],
      "execution_count": 0,
      "outputs": []
    },
    {
      "cell_type": "code",
      "metadata": {
        "id": "kueQSaB_rJIl",
        "colab_type": "code",
        "colab": {}
      },
      "source": [
        "ar_coeffs = [1, -0.8, 0.7] # 1 is for the 0 lag term, this is always set to 1. The sign of coefficients is reverse\n",
        "ma_coeffs = [1, 0.9, 0.7]  # 1 is for the 0 lag term, this is always set to 1\n",
        "y = arma_generate_sample(ar_coeffs, ma_coeffs, nsample=1000)"
      ],
      "execution_count": 0,
      "outputs": []
    },
    {
      "cell_type": "code",
      "metadata": {
        "id": "i1ACei3IrJIn",
        "colab_type": "code",
        "outputId": "260d0814-dfea-4023-e8cd-74f31c996918",
        "colab": {
          "base_uri": "https://localhost:8080/",
          "height": 398
        }
      },
      "source": [
        "model = ARMA(y, order=(2, 2))\n",
        "results = model.fit()\n",
        "results.summary()"
      ],
      "execution_count": 140,
      "outputs": [
        {
          "output_type": "execute_result",
          "data": {
            "text/html": [
              "<table class=\"simpletable\">\n",
              "<caption>ARMA Model Results</caption>\n",
              "<tr>\n",
              "  <th>Dep. Variable:</th>         <td>y</td>        <th>  No. Observations:  </th>   <td>1000</td>   \n",
              "</tr>\n",
              "<tr>\n",
              "  <th>Model:</th>            <td>ARMA(2, 2)</td>    <th>  Log Likelihood     </th> <td>-1401.751</td>\n",
              "</tr>\n",
              "<tr>\n",
              "  <th>Method:</th>             <td>css-mle</td>     <th>  S.D. of innovations</th>   <td>0.980</td>  \n",
              "</tr>\n",
              "<tr>\n",
              "  <th>Date:</th>          <td>Fri, 17 Jan 2020</td> <th>  AIC                </th> <td>2815.501</td> \n",
              "</tr>\n",
              "<tr>\n",
              "  <th>Time:</th>              <td>06:22:56</td>     <th>  BIC                </th> <td>2844.948</td> \n",
              "</tr>\n",
              "<tr>\n",
              "  <th>Sample:</th>                <td>0</td>        <th>  HQIC               </th> <td>2826.693</td> \n",
              "</tr>\n",
              "<tr>\n",
              "  <th></th>                       <td> </td>        <th>                     </th>     <td> </td>    \n",
              "</tr>\n",
              "</table>\n",
              "<table class=\"simpletable\">\n",
              "<tr>\n",
              "     <td></td>        <th>coef</th>     <th>std err</th>      <th>z</th>      <th>P>|z|</th>  <th>[0.025</th>    <th>0.975]</th>  \n",
              "</tr>\n",
              "<tr>\n",
              "  <th>const</th>   <td>    0.0728</td> <td>    0.091</td> <td>    0.804</td> <td> 0.422</td> <td>   -0.105</td> <td>    0.250</td>\n",
              "</tr>\n",
              "<tr>\n",
              "  <th>ar.L1.y</th> <td>    0.7995</td> <td>    0.025</td> <td>   32.592</td> <td> 0.000</td> <td>    0.751</td> <td>    0.848</td>\n",
              "</tr>\n",
              "<tr>\n",
              "  <th>ar.L2.y</th> <td>   -0.7124</td> <td>    0.024</td> <td>  -29.689</td> <td> 0.000</td> <td>   -0.759</td> <td>   -0.665</td>\n",
              "</tr>\n",
              "<tr>\n",
              "  <th>ma.L1.y</th> <td>    0.9329</td> <td>    0.025</td> <td>   37.057</td> <td> 0.000</td> <td>    0.884</td> <td>    0.982</td>\n",
              "</tr>\n",
              "<tr>\n",
              "  <th>ma.L2.y</th> <td>    0.7345</td> <td>    0.023</td> <td>   31.860</td> <td> 0.000</td> <td>    0.689</td> <td>    0.780</td>\n",
              "</tr>\n",
              "</table>\n",
              "<table class=\"simpletable\">\n",
              "<caption>Roots</caption>\n",
              "<tr>\n",
              "    <td></td>   <th>            Real</th>  <th>         Imaginary</th> <th>         Modulus</th>  <th>        Frequency</th>\n",
              "</tr>\n",
              "<tr>\n",
              "  <th>AR.1</th> <td>           0.5611</td> <td>          -1.0435j</td> <td>           1.1848</td> <td>          -0.1715</td>\n",
              "</tr>\n",
              "<tr>\n",
              "  <th>AR.2</th> <td>           0.5611</td> <td>          +1.0435j</td> <td>           1.1848</td> <td>           0.1715</td>\n",
              "</tr>\n",
              "<tr>\n",
              "  <th>MA.1</th> <td>          -0.6350</td> <td>          -0.9788j</td> <td>           1.1668</td> <td>          -0.3416</td>\n",
              "</tr>\n",
              "<tr>\n",
              "  <th>MA.2</th> <td>          -0.6350</td> <td>          +0.9788j</td> <td>           1.1668</td> <td>           0.3416</td>\n",
              "</tr>\n",
              "</table>"
            ],
            "text/plain": [
              "<class 'statsmodels.iolib.summary.Summary'>\n",
              "\"\"\"\n",
              "                              ARMA Model Results                              \n",
              "==============================================================================\n",
              "Dep. Variable:                      y   No. Observations:                 1000\n",
              "Model:                     ARMA(2, 2)   Log Likelihood               -1401.751\n",
              "Method:                       css-mle   S.D. of innovations              0.980\n",
              "Date:                Fri, 17 Jan 2020   AIC                           2815.501\n",
              "Time:                        06:22:56   BIC                           2844.948\n",
              "Sample:                             0   HQIC                          2826.693\n",
              "                                                                              \n",
              "==============================================================================\n",
              "                 coef    std err          z      P>|z|      [0.025      0.975]\n",
              "------------------------------------------------------------------------------\n",
              "const          0.0728      0.091      0.804      0.422      -0.105       0.250\n",
              "ar.L1.y        0.7995      0.025     32.592      0.000       0.751       0.848\n",
              "ar.L2.y       -0.7124      0.024    -29.689      0.000      -0.759      -0.665\n",
              "ma.L1.y        0.9329      0.025     37.057      0.000       0.884       0.982\n",
              "ma.L2.y        0.7345      0.023     31.860      0.000       0.689       0.780\n",
              "                                    Roots                                    \n",
              "=============================================================================\n",
              "                  Real          Imaginary           Modulus         Frequency\n",
              "-----------------------------------------------------------------------------\n",
              "AR.1            0.5611           -1.0435j            1.1848           -0.1715\n",
              "AR.2            0.5611           +1.0435j            1.1848            0.1715\n",
              "MA.1           -0.6350           -0.9788j            1.1668           -0.3416\n",
              "MA.2           -0.6350           +0.9788j            1.1668            0.3416\n",
              "-----------------------------------------------------------------------------\n",
              "\"\"\""
            ]
          },
          "metadata": {
            "tags": []
          },
          "execution_count": 140
        }
      ]
    },
    {
      "cell_type": "code",
      "metadata": {
        "id": "L9MnpQAnrJIq",
        "colab_type": "code",
        "outputId": "7e234b47-57d8-481a-9ae6-726e16747add",
        "colab": {
          "base_uri": "https://localhost:8080/",
          "height": 34
        }
      },
      "source": [
        "results.bic"
      ],
      "execution_count": 141,
      "outputs": [
        {
          "output_type": "execute_result",
          "data": {
            "text/plain": [
              "2844.948001295237"
            ]
          },
          "metadata": {
            "tags": []
          },
          "execution_count": 141
        }
      ]
    },
    {
      "cell_type": "code",
      "metadata": {
        "id": "36jHqwnIrJIt",
        "colab_type": "code",
        "outputId": "23e0f79e-9d6d-4c2e-8e4b-e50d35705933",
        "colab": {
          "base_uri": "https://localhost:8080/",
          "height": 70
        }
      },
      "source": [
        "# We will use Akaikan and Bayesian Information Coeffecient to find the lags\n",
        "order_aic_bic=[]\n",
        "# Loop over p values \n",
        "for p in range(5):\n",
        "  # Loop over q values \n",
        "    for q in range(5):\n",
        "      \t# create and fit ARMA(p,q) model\n",
        "        try:\n",
        "            model = ARMA(y, order=(p, q))\n",
        "            results = model.fit()\n",
        "            # Append order and results tuple\n",
        "            order_aic_bic.append((p, q, results.aic, results.bic))\n",
        "        except:\n",
        "            order_aic_bic.append((p, q, None, None))            "
      ],
      "execution_count": 142,
      "outputs": [
        {
          "output_type": "stream",
          "text": [
            "/usr/local/lib/python3.6/dist-packages/statsmodels/base/model.py:492: HessianInversionWarning: Inverting hessian failed, no bse or cov_params available\n",
            "  'available', HessianInversionWarning)\n"
          ],
          "name": "stderr"
        }
      ]
    },
    {
      "cell_type": "code",
      "metadata": {
        "id": "uILIoqkurJIv",
        "colab_type": "code",
        "outputId": "d90c3cd1-fb65-4906-99ed-dcb6bf8b149f",
        "colab": {
          "base_uri": "https://localhost:8080/",
          "height": 195
        }
      },
      "source": [
        "df_pq = pd.DataFrame(order_aic_bic, columns=['p', 'q', 'aic', 'bic'])\n",
        "df_pq.sort_values(by='aic').head()"
      ],
      "execution_count": 143,
      "outputs": [
        {
          "output_type": "execute_result",
          "data": {
            "text/html": [
              "<div>\n",
              "<style scoped>\n",
              "    .dataframe tbody tr th:only-of-type {\n",
              "        vertical-align: middle;\n",
              "    }\n",
              "\n",
              "    .dataframe tbody tr th {\n",
              "        vertical-align: top;\n",
              "    }\n",
              "\n",
              "    .dataframe thead th {\n",
              "        text-align: right;\n",
              "    }\n",
              "</style>\n",
              "<table border=\"1\" class=\"dataframe\">\n",
              "  <thead>\n",
              "    <tr style=\"text-align: right;\">\n",
              "      <th></th>\n",
              "      <th>p</th>\n",
              "      <th>q</th>\n",
              "      <th>aic</th>\n",
              "      <th>bic</th>\n",
              "    </tr>\n",
              "  </thead>\n",
              "  <tbody>\n",
              "    <tr>\n",
              "      <th>22</th>\n",
              "      <td>4</td>\n",
              "      <td>2</td>\n",
              "      <td>2815.339687</td>\n",
              "      <td>2854.601729</td>\n",
              "    </tr>\n",
              "    <tr>\n",
              "      <th>24</th>\n",
              "      <td>4</td>\n",
              "      <td>4</td>\n",
              "      <td>2815.475015</td>\n",
              "      <td>2864.552568</td>\n",
              "    </tr>\n",
              "    <tr>\n",
              "      <th>12</th>\n",
              "      <td>2</td>\n",
              "      <td>2</td>\n",
              "      <td>2815.501470</td>\n",
              "      <td>2844.948001</td>\n",
              "    </tr>\n",
              "    <tr>\n",
              "      <th>14</th>\n",
              "      <td>2</td>\n",
              "      <td>4</td>\n",
              "      <td>2815.612706</td>\n",
              "      <td>2854.874748</td>\n",
              "    </tr>\n",
              "    <tr>\n",
              "      <th>17</th>\n",
              "      <td>3</td>\n",
              "      <td>2</td>\n",
              "      <td>2815.691795</td>\n",
              "      <td>2850.046082</td>\n",
              "    </tr>\n",
              "  </tbody>\n",
              "</table>\n",
              "</div>"
            ],
            "text/plain": [
              "    p  q          aic          bic\n",
              "22  4  2  2815.339687  2854.601729\n",
              "24  4  4  2815.475015  2864.552568\n",
              "12  2  2  2815.501470  2844.948001\n",
              "14  2  4  2815.612706  2854.874748\n",
              "17  3  2  2815.691795  2850.046082"
            ]
          },
          "metadata": {
            "tags": []
          },
          "execution_count": 143
        }
      ]
    },
    {
      "cell_type": "markdown",
      "metadata": {
        "id": "lc_p_1dYrJI8",
        "colab_type": "text"
      },
      "source": [
        "# Arima Model"
      ]
    },
    {
      "cell_type": "code",
      "metadata": {
        "id": "QXjlx80NrJI-",
        "colab_type": "code",
        "colab": {
          "base_uri": "https://localhost:8080/",
          "height": 134
        },
        "outputId": "015e30b2-7835-4149-87bc-3f3f28b2e05b"
      },
      "source": [
        "ic_resampled.tail()"
      ],
      "execution_count": 144,
      "outputs": [
        {
          "output_type": "execute_result",
          "data": {
            "text/plain": [
              "Date\n",
              "2019-01-06    363.3900\n",
              "2019-01-13    377.6300\n",
              "2019-01-20    373.6000\n",
              "2019-01-27    366.0300\n",
              "2019-02-03    355.1875\n",
              "Freq: W-SUN, Name: close, dtype: float64"
            ]
          },
          "metadata": {
            "tags": []
          },
          "execution_count": 144
        }
      ]
    },
    {
      "cell_type": "code",
      "metadata": {
        "id": "2MT9yqOBrJJD",
        "colab_type": "code",
        "colab": {
          "base_uri": "https://localhost:8080/",
          "height": 134
        },
        "outputId": "636a9873-2319-4368-8224-cd7742aeb0b2"
      },
      "source": [
        "ic_resampled.diff().dropna().tail()"
      ],
      "execution_count": 145,
      "outputs": [
        {
          "output_type": "execute_result",
          "data": {
            "text/plain": [
              "Date\n",
              "2019-01-06     7.1400\n",
              "2019-01-13    14.2400\n",
              "2019-01-20    -4.0300\n",
              "2019-01-27    -7.5700\n",
              "2019-02-03   -10.8425\n",
              "Freq: W-SUN, Name: close, dtype: float64"
            ]
          },
          "metadata": {
            "tags": []
          },
          "execution_count": 145
        }
      ]
    },
    {
      "cell_type": "code",
      "metadata": {
        "id": "8DRPqTaSrJJG",
        "colab_type": "code",
        "colab": {}
      },
      "source": [
        "model = ARMA(ic_resampled.diff().dropna(), order=(2, 1))\n",
        "results = model.fit()"
      ],
      "execution_count": 0,
      "outputs": []
    },
    {
      "cell_type": "code",
      "metadata": {
        "id": "FXj0N1u2rJJJ",
        "colab_type": "code",
        "colab": {
          "base_uri": "https://localhost:8080/",
          "height": 34
        },
        "outputId": "3685f720-86b7-4bd7-89b5-71f2da09cd2c"
      },
      "source": [
        "len(ic_resampled.diff().dropna())"
      ],
      "execution_count": 147,
      "outputs": [
        {
          "output_type": "execute_result",
          "data": {
            "text/plain": [
              "762"
            ]
          },
          "metadata": {
            "tags": []
          },
          "execution_count": 147
        }
      ]
    },
    {
      "cell_type": "code",
      "metadata": {
        "id": "cFI2QpV8rJJL",
        "colab_type": "code",
        "colab": {
          "base_uri": "https://localhost:8080/",
          "height": 185
        },
        "outputId": "955e851b-ffa8-47e3-a7c1-7392156b3b45"
      },
      "source": [
        "results.predict(760, 768)"
      ],
      "execution_count": 148,
      "outputs": [
        {
          "output_type": "execute_result",
          "data": {
            "text/plain": [
              "2019-01-27   -0.615894\n",
              "2019-02-03   -0.772077\n",
              "2019-02-10   -0.853117\n",
              "2019-02-17    0.456990\n",
              "2019-02-24    0.589142\n",
              "2019-03-03    0.569784\n",
              "2019-03-10    0.537597\n",
              "2019-03-17    0.509918\n",
              "2019-03-24    0.487797\n",
              "Freq: W-SUN, dtype: float64"
            ]
          },
          "metadata": {
            "tags": []
          },
          "execution_count": 148
        }
      ]
    },
    {
      "cell_type": "code",
      "metadata": {
        "id": "HxB4qEh_rJJQ",
        "colab_type": "code",
        "colab": {
          "base_uri": "https://localhost:8080/",
          "height": 67
        },
        "outputId": "4836060b-8d1c-496d-a50f-f3654fd9a8b3"
      },
      "source": [
        "results.forecast()"
      ],
      "execution_count": 149,
      "outputs": [
        {
          "output_type": "execute_result",
          "data": {
            "text/plain": [
              "(array([-0.85311744]),\n",
              " array([7.90361875]),\n",
              " array([[-16.34392553,  14.63769065]]))"
            ]
          },
          "metadata": {
            "tags": []
          },
          "execution_count": 149
        }
      ]
    },
    {
      "cell_type": "markdown",
      "metadata": {
        "id": "jQohXE0TrJJX",
        "colab_type": "text"
      },
      "source": [
        "### The predictions are for differenced values. We would need to use cumsum to get to absolute predictions.  ARIMA takes care of these things"
      ]
    },
    {
      "cell_type": "code",
      "metadata": {
        "id": "r04eQ4SDrJJY",
        "colab_type": "code",
        "colab": {
          "base_uri": "https://localhost:8080/",
          "height": 350
        },
        "outputId": "44d734f9-f280-471d-db0f-b31755f0af1a"
      },
      "source": [
        "ab=ic_resampled\n",
        "ab.plot(figsize=(12, 5), grid=True)"
      ],
      "execution_count": 150,
      "outputs": [
        {
          "output_type": "execute_result",
          "data": {
            "text/plain": [
              "<matplotlib.axes._subplots.AxesSubplot at 0x7f534b22c438>"
            ]
          },
          "metadata": {
            "tags": []
          },
          "execution_count": 150
        },
        {
          "output_type": "display_data",
          "data": {
            "image/png": "[encoded data removed]",
            "text/plain": [
              "<Figure size 864x360 with 1 Axes>"
            ]
          },
          "metadata": {
            "tags": []
          }
        }
      ]
    },
    {
      "cell_type": "code",
      "metadata": {
        "id": "L3FnpobCIO8Q",
        "colab_type": "code",
        "colab": {
          "base_uri": "https://localhost:8080/",
          "height": 334
        },
        "outputId": "927a03fa-3d7c-40dc-dc2e-2e1fbc25997a"
      },
      "source": [
        "ts_week = ab.resample('W').mean()\n",
        "ts_week.plot(figsize=(12, 5), grid=True)\n",
        "plt.show()"
      ],
      "execution_count": 151,
      "outputs": [
        {
          "output_type": "display_data",
          "data": {
            "image/png": "[encoded data removed]",
            "text/plain": [
              "<Figure size 864x360 with 1 Axes>"
            ]
          },
          "metadata": {
            "tags": []
          }
        }
      ]
    },
    {
      "cell_type": "code",
      "metadata": {
        "id": "c-D7SEWlIYRv",
        "colab_type": "code",
        "colab": {
          "base_uri": "https://localhost:8080/",
          "height": 261
        },
        "outputId": "bac33cc0-1e0e-4631-8c1c-88dec02ec3a5"
      },
      "source": [
        "ts_diff = ts_week.diff().dropna()\n",
        "ts_diff\n",
        "test_stationarity(ts_diff)\n"
      ],
      "execution_count": 152,
      "outputs": [
        {
          "output_type": "display_data",
          "data": {
            "image/png": "[encoded data removed]",
            "text/plain": [
              "<Figure size 864x216 with 1 Axes>"
            ]
          },
          "metadata": {
            "tags": []
          }
        },
        {
          "output_type": "stream",
          "text": [
            "Results of Dickey-Fuller Test:\n",
            "p_value:  0.0\n"
          ],
          "name": "stdout"
        }
      ]
    },
    {
      "cell_type": "code",
      "metadata": {
        "id": "clBNC85yI2c9",
        "colab_type": "code",
        "colab": {
          "base_uri": "https://localhost:8080/",
          "height": 281
        },
        "outputId": "f3254d0c-04c8-49e6-ceaa-e57870b53df5"
      },
      "source": [
        "#ACF and PACF\n",
        "fig, ax = plt.subplots(1,2, figsize = (14,4))\n",
        "plot_acf(ts_diff, lags=10, zero=False, ax=ax[0])\n",
        "plot_pacf(ts_diff, lags=10, zero=False, ax=ax[1])\n",
        "plt.show()"
      ],
      "execution_count": 153,
      "outputs": [
        {
          "output_type": "display_data",
          "data": {
            "image/png": "[encoded data removed]",
            "text/plain": [
              "<Figure size 1008x288 with 2 Axes>"
            ]
          },
          "metadata": {
            "tags": []
          }
        }
      ]
    },
    {
      "cell_type": "code",
      "metadata": {
        "id": "r25sQ9atI_xe",
        "colab_type": "code",
        "colab": {}
      },
      "source": [
        "#Lets \n",
        "order_aic_bic=[]\n",
        "# Loop over p values \n",
        "for p in range(5):\n",
        "  # Loop over q values \n",
        "    for q in range(5):\n",
        "      \t# create and fit ARMA(p,q) model\n",
        "        try:\n",
        "            model = ARMA(ts_diff, order=(p, q))\n",
        "            results = model.fit()\n",
        "            # Append order and results tuple\n",
        "            order_aic_bic.append((p, q, results.aic, results.bic))\n",
        "        except:\n",
        "            order_aic_bic.append((p, q, None, None))"
      ],
      "execution_count": 0,
      "outputs": []
    },
    {
      "cell_type": "code",
      "metadata": {
        "id": "AN2u6bunJFXs",
        "colab_type": "code",
        "colab": {
          "base_uri": "https://localhost:8080/",
          "height": 195
        },
        "outputId": "d604e30b-7726-4606-a59f-919ad18537bd"
      },
      "source": [
        "df_pq = pd.DataFrame(order_aic_bic, columns=['p', 'q', 'aic', 'bic'])\n",
        "df_pq.sort_values(by='aic').head()"
      ],
      "execution_count": 155,
      "outputs": [
        {
          "output_type": "execute_result",
          "data": {
            "text/html": [
              "<div>\n",
              "<style scoped>\n",
              "    .dataframe tbody tr th:only-of-type {\n",
              "        vertical-align: middle;\n",
              "    }\n",
              "\n",
              "    .dataframe tbody tr th {\n",
              "        vertical-align: top;\n",
              "    }\n",
              "\n",
              "    .dataframe thead th {\n",
              "        text-align: right;\n",
              "    }\n",
              "</style>\n",
              "<table border=\"1\" class=\"dataframe\">\n",
              "  <thead>\n",
              "    <tr style=\"text-align: right;\">\n",
              "      <th></th>\n",
              "      <th>p</th>\n",
              "      <th>q</th>\n",
              "      <th>aic</th>\n",
              "      <th>bic</th>\n",
              "    </tr>\n",
              "  </thead>\n",
              "  <tbody>\n",
              "    <tr>\n",
              "      <th>23</th>\n",
              "      <td>4</td>\n",
              "      <td>3</td>\n",
              "      <td>5320.096232</td>\n",
              "      <td>5361.819751</td>\n",
              "    </tr>\n",
              "    <tr>\n",
              "      <th>1</th>\n",
              "      <td>0</td>\n",
              "      <td>1</td>\n",
              "      <td>5320.326583</td>\n",
              "      <td>5334.234422</td>\n",
              "    </tr>\n",
              "    <tr>\n",
              "      <th>5</th>\n",
              "      <td>1</td>\n",
              "      <td>0</td>\n",
              "      <td>5320.524204</td>\n",
              "      <td>5334.432044</td>\n",
              "    </tr>\n",
              "    <tr>\n",
              "      <th>10</th>\n",
              "      <td>2</td>\n",
              "      <td>0</td>\n",
              "      <td>5322.258449</td>\n",
              "      <td>5340.802235</td>\n",
              "    </tr>\n",
              "    <tr>\n",
              "      <th>2</th>\n",
              "      <td>0</td>\n",
              "      <td>2</td>\n",
              "      <td>5322.300350</td>\n",
              "      <td>5340.844137</td>\n",
              "    </tr>\n",
              "  </tbody>\n",
              "</table>\n",
              "</div>"
            ],
            "text/plain": [
              "    p  q          aic          bic\n",
              "23  4  3  5320.096232  5361.819751\n",
              "1   0  1  5320.326583  5334.234422\n",
              "5   1  0  5320.524204  5334.432044\n",
              "10  2  0  5322.258449  5340.802235\n",
              "2   0  2  5322.300350  5340.844137"
            ]
          },
          "metadata": {
            "tags": []
          },
          "execution_count": 155
        }
      ]
    },
    {
      "cell_type": "markdown",
      "metadata": {
        "id": "vAs34Fa8rJJg",
        "colab_type": "text"
      },
      "source": [
        "# Lets create an ARIMA Model to predict stock market prediction"
      ]
    },
    {
      "cell_type": "markdown",
      "metadata": {
        "id": "egmBxEYIrJJh",
        "colab_type": "text"
      },
      "source": [
        "### Steps to follow:\n",
        "* Is the dataset stationary? (adfuller)\n",
        "* if not, what order of differencing will make it stationary (transform the data)\n",
        "* What values of p and q lags would be best (Try ACF/PACF plots or AIC/BIC approach)\n",
        "* Fit the model\n",
        "* Check the results    "
      ]
    },
    {
      "cell_type": "markdown",
      "metadata": {
        "id": "deFZYAoirJKG",
        "colab_type": "text"
      },
      "source": [
        "# Identify the p and q lags"
      ]
    },
    {
      "cell_type": "code",
      "metadata": {
        "id": "bH-ATPp8rJKH",
        "colab_type": "code",
        "colab": {
          "base_uri": "https://localhost:8080/",
          "height": 281
        },
        "outputId": "e45e42ed-766b-4edf-dce0-8cf3c95d250d"
      },
      "source": [
        "#ACF and PACF\n",
        "fig, ax = plt.subplots(1,2, figsize = (14,4))\n",
        "plot_acf(ts_diff, lags=10, zero=False, ax=ax[0])\n",
        "plot_pacf(ts_diff, lags=10, zero=False, ax=ax[1])\n",
        "plt.show()"
      ],
      "execution_count": 156,
      "outputs": [
        {
          "output_type": "display_data",
          "data": {
            "image/png": "[encoded data removed]",
            "text/plain": [
              "<Figure size 1008x288 with 2 Axes>"
            ]
          },
          "metadata": {
            "tags": []
          }
        }
      ]
    },
    {
      "cell_type": "code",
      "metadata": {
        "id": "z4M7e2b3rJKK",
        "colab_type": "code",
        "colab": {}
      },
      "source": [
        "#Lets \n",
        "order_aic_bic=[]\n",
        "# Loop over p values \n",
        "for p in range(5):\n",
        "  # Loop over q values \n",
        "    for q in range(5):\n",
        "      \t# create and fit ARMA(p,q) model\n",
        "        try:\n",
        "            model = ARMA(ts_diff, order=(p, q))\n",
        "            results = model.fit()\n",
        "            # Append order and results tuple\n",
        "            order_aic_bic.append((p, q, results.aic, results.bic))\n",
        "        except:\n",
        "            order_aic_bic.append((p, q, None, None)) "
      ],
      "execution_count": 0,
      "outputs": []
    },
    {
      "cell_type": "code",
      "metadata": {
        "id": "oZmVMRuDrJKM",
        "colab_type": "code",
        "colab": {
          "base_uri": "https://localhost:8080/",
          "height": 195
        },
        "outputId": "77274226-fb11-49f4-dac7-4fa38ed42b30"
      },
      "source": [
        "df_pq = pd.DataFrame(order_aic_bic, columns=['p', 'q', 'aic', 'bic'])\n",
        "df_pq.sort_values(by='aic').head()"
      ],
      "execution_count": 158,
      "outputs": [
        {
          "output_type": "execute_result",
          "data": {
            "text/html": [
              "<div>\n",
              "<style scoped>\n",
              "    .dataframe tbody tr th:only-of-type {\n",
              "        vertical-align: middle;\n",
              "    }\n",
              "\n",
              "    .dataframe tbody tr th {\n",
              "        vertical-align: top;\n",
              "    }\n",
              "\n",
              "    .dataframe thead th {\n",
              "        text-align: right;\n",
              "    }\n",
              "</style>\n",
              "<table border=\"1\" class=\"dataframe\">\n",
              "  <thead>\n",
              "    <tr style=\"text-align: right;\">\n",
              "      <th></th>\n",
              "      <th>p</th>\n",
              "      <th>q</th>\n",
              "      <th>aic</th>\n",
              "      <th>bic</th>\n",
              "    </tr>\n",
              "  </thead>\n",
              "  <tbody>\n",
              "    <tr>\n",
              "      <th>23</th>\n",
              "      <td>4</td>\n",
              "      <td>3</td>\n",
              "      <td>5320.096232</td>\n",
              "      <td>5361.819751</td>\n",
              "    </tr>\n",
              "    <tr>\n",
              "      <th>1</th>\n",
              "      <td>0</td>\n",
              "      <td>1</td>\n",
              "      <td>5320.326583</td>\n",
              "      <td>5334.234422</td>\n",
              "    </tr>\n",
              "    <tr>\n",
              "      <th>5</th>\n",
              "      <td>1</td>\n",
              "      <td>0</td>\n",
              "      <td>5320.524204</td>\n",
              "      <td>5334.432044</td>\n",
              "    </tr>\n",
              "    <tr>\n",
              "      <th>10</th>\n",
              "      <td>2</td>\n",
              "      <td>0</td>\n",
              "      <td>5322.258449</td>\n",
              "      <td>5340.802235</td>\n",
              "    </tr>\n",
              "    <tr>\n",
              "      <th>2</th>\n",
              "      <td>0</td>\n",
              "      <td>2</td>\n",
              "      <td>5322.300350</td>\n",
              "      <td>5340.844137</td>\n",
              "    </tr>\n",
              "  </tbody>\n",
              "</table>\n",
              "</div>"
            ],
            "text/plain": [
              "    p  q          aic          bic\n",
              "23  4  3  5320.096232  5361.819751\n",
              "1   0  1  5320.326583  5334.234422\n",
              "5   1  0  5320.524204  5334.432044\n",
              "10  2  0  5322.258449  5340.802235\n",
              "2   0  2  5322.300350  5340.844137"
            ]
          },
          "metadata": {
            "tags": []
          },
          "execution_count": 158
        }
      ]
    },
    {
      "cell_type": "markdown",
      "metadata": {
        "id": "7q25tiCirJKP",
        "colab_type": "text"
      },
      "source": [
        "# ARIMA Model Implementation"
      ]
    },
    {
      "cell_type": "code",
      "metadata": {
        "id": "rIOgwaWcrJKQ",
        "colab_type": "code",
        "colab": {}
      },
      "source": [
        "from statsmodels.tsa.arima_model import ARIMA"
      ],
      "execution_count": 0,
      "outputs": []
    },
    {
      "cell_type": "code",
      "metadata": {
        "id": "mgJfylOMrJKS",
        "colab_type": "code",
        "colab": {}
      },
      "source": [
        "model = ARIMA(ts_week, order=(3, 1, 3))  \n",
        "results_ARIMA = model.fit()"
      ],
      "execution_count": 0,
      "outputs": []
    },
    {
      "cell_type": "code",
      "metadata": {
        "id": "Kul9A8g2rJKW",
        "colab_type": "code",
        "colab": {
          "base_uri": "https://localhost:8080/",
          "height": 495
        },
        "outputId": "4864eb35-29fa-43ec-ba62-20c6f5312a4a"
      },
      "source": [
        "results_ARIMA.summary()"
      ],
      "execution_count": 161,
      "outputs": [
        {
          "output_type": "execute_result",
          "data": {
            "text/html": [
              "<table class=\"simpletable\">\n",
              "<caption>ARIMA Model Results</caption>\n",
              "<tr>\n",
              "  <th>Dep. Variable:</th>      <td>D.close</td>     <th>  No. Observations:  </th>    <td>762</td>   \n",
              "</tr>\n",
              "<tr>\n",
              "  <th>Model:</th>          <td>ARIMA(3, 1, 3)</td>  <th>  Log Likelihood     </th> <td>-2655.351</td>\n",
              "</tr>\n",
              "<tr>\n",
              "  <th>Method:</th>             <td>css-mle</td>     <th>  S.D. of innovations</th>   <td>7.891</td>  \n",
              "</tr>\n",
              "<tr>\n",
              "  <th>Date:</th>          <td>Fri, 17 Jan 2020</td> <th>  AIC                </th> <td>5326.703</td> \n",
              "</tr>\n",
              "<tr>\n",
              "  <th>Time:</th>              <td>06:23:23</td>     <th>  BIC                </th> <td>5363.790</td> \n",
              "</tr>\n",
              "<tr>\n",
              "  <th>Sample:</th>           <td>07-04-2004</td>    <th>  HQIC               </th> <td>5340.983</td> \n",
              "</tr>\n",
              "<tr>\n",
              "  <th></th>                 <td>- 02-03-2019</td>   <th>                     </th>     <td> </td>    \n",
              "</tr>\n",
              "</table>\n",
              "<table class=\"simpletable\">\n",
              "<tr>\n",
              "        <td></td>           <th>coef</th>     <th>std err</th>      <th>z</th>      <th>P>|z|</th>  <th>[0.025</th>    <th>0.975]</th>  \n",
              "</tr>\n",
              "<tr>\n",
              "  <th>const</th>         <td>    0.4054</td> <td>    0.299</td> <td>    1.355</td> <td> 0.176</td> <td>   -0.181</td> <td>    0.992</td>\n",
              "</tr>\n",
              "<tr>\n",
              "  <th>ar.L1.D.close</th> <td>    1.5130</td> <td>    0.723</td> <td>    2.094</td> <td> 0.037</td> <td>    0.097</td> <td>    2.929</td>\n",
              "</tr>\n",
              "<tr>\n",
              "  <th>ar.L2.D.close</th> <td>   -0.5645</td> <td>    1.025</td> <td>   -0.551</td> <td> 0.582</td> <td>   -2.573</td> <td>    1.444</td>\n",
              "</tr>\n",
              "<tr>\n",
              "  <th>ar.L3.D.close</th> <td>   -0.2005</td> <td>    0.439</td> <td>   -0.457</td> <td> 0.648</td> <td>   -1.060</td> <td>    0.659</td>\n",
              "</tr>\n",
              "<tr>\n",
              "  <th>ma.L1.D.close</th> <td>   -1.4134</td> <td>    0.724</td> <td>   -1.953</td> <td> 0.051</td> <td>   -2.832</td> <td>    0.005</td>\n",
              "</tr>\n",
              "<tr>\n",
              "  <th>ma.L2.D.close</th> <td>    0.4129</td> <td>    0.946</td> <td>    0.436</td> <td> 0.663</td> <td>   -1.442</td> <td>    2.267</td>\n",
              "</tr>\n",
              "<tr>\n",
              "  <th>ma.L3.D.close</th> <td>    0.2641</td> <td>    0.370</td> <td>    0.714</td> <td> 0.475</td> <td>   -0.461</td> <td>    0.989</td>\n",
              "</tr>\n",
              "</table>\n",
              "<table class=\"simpletable\">\n",
              "<caption>Roots</caption>\n",
              "<tr>\n",
              "    <td></td>   <th>            Real</th>  <th>         Imaginary</th> <th>         Modulus</th>  <th>        Frequency</th>\n",
              "</tr>\n",
              "<tr>\n",
              "  <th>AR.1</th> <td>           0.9238</td> <td>          -0.4649j</td> <td>           1.0342</td> <td>          -0.0742</td>\n",
              "</tr>\n",
              "<tr>\n",
              "  <th>AR.2</th> <td>           0.9238</td> <td>          +0.4649j</td> <td>           1.0342</td> <td>           0.0742</td>\n",
              "</tr>\n",
              "<tr>\n",
              "  <th>AR.3</th> <td>          -4.6634</td> <td>          -0.0000j</td> <td>           4.6634</td> <td>          -0.5000</td>\n",
              "</tr>\n",
              "<tr>\n",
              "  <th>MA.1</th> <td>           0.9380</td> <td>          -0.4701j</td> <td>           1.0492</td> <td>          -0.0739</td>\n",
              "</tr>\n",
              "<tr>\n",
              "  <th>MA.2</th> <td>           0.9380</td> <td>          +0.4701j</td> <td>           1.0492</td> <td>           0.0739</td>\n",
              "</tr>\n",
              "<tr>\n",
              "  <th>MA.3</th> <td>          -3.4393</td> <td>          -0.0000j</td> <td>           3.4393</td> <td>          -0.5000</td>\n",
              "</tr>\n",
              "</table>"
            ],
            "text/plain": [
              "<class 'statsmodels.iolib.summary.Summary'>\n",
              "\"\"\"\n",
              "                             ARIMA Model Results                              \n",
              "==============================================================================\n",
              "Dep. Variable:                D.close   No. Observations:                  762\n",
              "Model:                 ARIMA(3, 1, 3)   Log Likelihood               -2655.351\n",
              "Method:                       css-mle   S.D. of innovations              7.891\n",
              "Date:                Fri, 17 Jan 2020   AIC                           5326.703\n",
              "Time:                        06:23:23   BIC                           5363.790\n",
              "Sample:                    07-04-2004   HQIC                          5340.983\n",
              "                         - 02-03-2019                                         \n",
              "=================================================================================\n",
              "                    coef    std err          z      P>|z|      [0.025      0.975]\n",
              "---------------------------------------------------------------------------------\n",
              "const             0.4054      0.299      1.355      0.176      -0.181       0.992\n",
              "ar.L1.D.close     1.5130      0.723      2.094      0.037       0.097       2.929\n",
              "ar.L2.D.close    -0.5645      1.025     -0.551      0.582      -2.573       1.444\n",
              "ar.L3.D.close    -0.2005      0.439     -0.457      0.648      -1.060       0.659\n",
              "ma.L1.D.close    -1.4134      0.724     -1.953      0.051      -2.832       0.005\n",
              "ma.L2.D.close     0.4129      0.946      0.436      0.663      -1.442       2.267\n",
              "ma.L3.D.close     0.2641      0.370      0.714      0.475      -0.461       0.989\n",
              "                                    Roots                                    \n",
              "=============================================================================\n",
              "                  Real          Imaginary           Modulus         Frequency\n",
              "-----------------------------------------------------------------------------\n",
              "AR.1            0.9238           -0.4649j            1.0342           -0.0742\n",
              "AR.2            0.9238           +0.4649j            1.0342            0.0742\n",
              "AR.3           -4.6634           -0.0000j            4.6634           -0.5000\n",
              "MA.1            0.9380           -0.4701j            1.0492           -0.0739\n",
              "MA.2            0.9380           +0.4701j            1.0492            0.0739\n",
              "MA.3           -3.4393           -0.0000j            3.4393           -0.5000\n",
              "-----------------------------------------------------------------------------\n",
              "\"\"\""
            ]
          },
          "metadata": {
            "tags": []
          },
          "execution_count": 161
        }
      ]
    },
    {
      "cell_type": "code",
      "metadata": {
        "id": "IJil8lU9rJKe",
        "colab_type": "code",
        "colab": {
          "base_uri": "https://localhost:8080/",
          "height": 168
        },
        "outputId": "f9b841b8-537c-405f-dd8c-3d2b4cec9ebd"
      },
      "source": [
        "# Analyse residual errors. They should be normal\n",
        "residuals = pd.DataFrame(results_ARIMA.resid)\n",
        "print(residuals.describe())"
      ],
      "execution_count": 162,
      "outputs": [
        {
          "output_type": "stream",
          "text": [
            "                0\n",
            "count  762.000000\n",
            "mean     0.000035\n",
            "std      7.896232\n",
            "min    -34.057324\n",
            "25%     -4.342164\n",
            "50%     -0.077688\n",
            "75%      4.324043\n",
            "max     29.173381\n"
          ],
          "name": "stdout"
        }
      ]
    },
    {
      "cell_type": "markdown",
      "metadata": {
        "id": "743AkgCXrJKg",
        "colab_type": "text"
      },
      "source": [
        "# Future Prediction Using ARIMA Model"
      ]
    },
    {
      "cell_type": "code",
      "metadata": {
        "id": "_kmX-wkerJKh",
        "colab_type": "code",
        "colab": {
          "base_uri": "https://localhost:8080/",
          "height": 34
        },
        "outputId": "103df47a-54f5-4f31-904d-e5bb7392bd72"
      },
      "source": [
        "len(ts_week)"
      ],
      "execution_count": 163,
      "outputs": [
        {
          "output_type": "execute_result",
          "data": {
            "text/plain": [
              "763"
            ]
          },
          "metadata": {
            "tags": []
          },
          "execution_count": 163
        }
      ]
    },
    {
      "cell_type": "code",
      "metadata": {
        "id": "eD-qHiEXrJKk",
        "colab_type": "code",
        "colab": {
          "base_uri": "https://localhost:8080/",
          "height": 134
        },
        "outputId": "33b05448-869c-4985-eeeb-e92a4c70b970"
      },
      "source": [
        "ts_week.tail()"
      ],
      "execution_count": 164,
      "outputs": [
        {
          "output_type": "execute_result",
          "data": {
            "text/plain": [
              "Date\n",
              "2019-01-06    363.3900\n",
              "2019-01-13    377.6300\n",
              "2019-01-20    373.6000\n",
              "2019-01-27    366.0300\n",
              "2019-02-03    355.1875\n",
              "Freq: W-SUN, Name: close, dtype: float64"
            ]
          },
          "metadata": {
            "tags": []
          },
          "execution_count": 164
        }
      ]
    },
    {
      "cell_type": "code",
      "metadata": {
        "id": "viKdFSD_rJKr",
        "colab_type": "code",
        "colab": {
          "base_uri": "https://localhost:8080/",
          "height": 67
        },
        "outputId": "ed7b5272-72b2-4a7f-b998-53ea73d4a856"
      },
      "source": [
        "results_ARIMA.forecast()"
      ],
      "execution_count": 165,
      "outputs": [
        {
          "output_type": "execute_result",
          "data": {
            "text/plain": [
              "(array([355.79389824]),\n",
              " array([7.89103208]),\n",
              " array([[340.32775956, 371.26003692]]))"
            ]
          },
          "metadata": {
            "tags": []
          },
          "execution_count": 165
        }
      ]
    },
    {
      "cell_type": "code",
      "metadata": {
        "id": "aMnquNMHrJKt",
        "colab_type": "code",
        "colab": {
          "base_uri": "https://localhost:8080/",
          "height": 541
        },
        "outputId": "480ed216-3ab8-45d2-ddc4-195d03f0d57c"
      },
      "source": [
        "predictions = []\n",
        "for x in np.arange(-5, 0):\n",
        "    model = ARIMA(ts_week.iloc[:x], order=(3, 1, 3))  \n",
        "    results_ARIMA = model.fit()\n",
        "    predictions.append(results_ARIMA.forecast()[0])\n",
        "predictions=np.array(predictions).ravel()\n",
        "predictions"
      ],
      "execution_count": 166,
      "outputs": [
        {
          "output_type": "stream",
          "text": [
            "/usr/local/lib/python3.6/dist-packages/statsmodels/tsa/tsatools.py:668: RuntimeWarning: overflow encountered in exp\n",
            "  newparams = ((1-np.exp(-params))/(1+np.exp(-params))).copy()\n",
            "/usr/local/lib/python3.6/dist-packages/statsmodels/tsa/tsatools.py:668: RuntimeWarning: invalid value encountered in true_divide\n",
            "  newparams = ((1-np.exp(-params))/(1+np.exp(-params))).copy()\n",
            "/usr/local/lib/python3.6/dist-packages/statsmodels/tsa/tsatools.py:669: RuntimeWarning: overflow encountered in exp\n",
            "  tmp = ((1-np.exp(-params))/(1+np.exp(-params))).copy()\n",
            "/usr/local/lib/python3.6/dist-packages/statsmodels/tsa/tsatools.py:669: RuntimeWarning: invalid value encountered in true_divide\n",
            "  tmp = ((1-np.exp(-params))/(1+np.exp(-params))).copy()\n",
            "/usr/local/lib/python3.6/dist-packages/statsmodels/base/model.py:492: HessianInversionWarning: Inverting hessian failed, no bse or cov_params available\n",
            "  'available', HessianInversionWarning)\n",
            "/usr/local/lib/python3.6/dist-packages/statsmodels/base/model.py:512: ConvergenceWarning: Maximum Likelihood optimization failed to converge. Check mle_retvals\n",
            "  \"Check mle_retvals\", ConvergenceWarning)\n",
            "/usr/local/lib/python3.6/dist-packages/statsmodels/base/model.py:492: HessianInversionWarning: Inverting hessian failed, no bse or cov_params available\n",
            "  'available', HessianInversionWarning)\n",
            "/usr/local/lib/python3.6/dist-packages/statsmodels/base/model.py:512: ConvergenceWarning: Maximum Likelihood optimization failed to converge. Check mle_retvals\n",
            "  \"Check mle_retvals\", ConvergenceWarning)\n",
            "/usr/local/lib/python3.6/dist-packages/statsmodels/base/model.py:492: HessianInversionWarning: Inverting hessian failed, no bse or cov_params available\n",
            "  'available', HessianInversionWarning)\n",
            "/usr/local/lib/python3.6/dist-packages/statsmodels/base/model.py:512: ConvergenceWarning: Maximum Likelihood optimization failed to converge. Check mle_retvals\n",
            "  \"Check mle_retvals\", ConvergenceWarning)\n",
            "/usr/local/lib/python3.6/dist-packages/statsmodels/base/model.py:492: HessianInversionWarning: Inverting hessian failed, no bse or cov_params available\n",
            "  'available', HessianInversionWarning)\n",
            "/usr/local/lib/python3.6/dist-packages/statsmodels/base/model.py:512: ConvergenceWarning: Maximum Likelihood optimization failed to converge. Check mle_retvals\n",
            "  \"Check mle_retvals\", ConvergenceWarning)\n",
            "/usr/local/lib/python3.6/dist-packages/statsmodels/base/model.py:492: HessianInversionWarning: Inverting hessian failed, no bse or cov_params available\n",
            "  'available', HessianInversionWarning)\n",
            "/usr/local/lib/python3.6/dist-packages/statsmodels/base/model.py:512: ConvergenceWarning: Maximum Likelihood optimization failed to converge. Check mle_retvals\n",
            "  \"Check mle_retvals\", ConvergenceWarning)\n"
          ],
          "name": "stderr"
        },
        {
          "output_type": "execute_result",
          "data": {
            "text/plain": [
              "array([354.12634104, 363.85170818, 378.64087699, 374.21617137,\n",
              "       367.43850113])"
            ]
          },
          "metadata": {
            "tags": []
          },
          "execution_count": 166
        }
      ]
    },
    {
      "cell_type": "code",
      "metadata": {
        "id": "6ECowYKirJKv",
        "colab_type": "code",
        "colab": {
          "base_uri": "https://localhost:8080/",
          "height": 134
        },
        "outputId": "08868d79-8f64-4d3b-faeb-f12261ba3c60"
      },
      "source": [
        "actual = ts_week.tail()\n",
        "actual"
      ],
      "execution_count": 167,
      "outputs": [
        {
          "output_type": "execute_result",
          "data": {
            "text/plain": [
              "Date\n",
              "2019-01-06    363.3900\n",
              "2019-01-13    377.6300\n",
              "2019-01-20    373.6000\n",
              "2019-01-27    366.0300\n",
              "2019-02-03    355.1875\n",
              "Freq: W-SUN, Name: close, dtype: float64"
            ]
          },
          "metadata": {
            "tags": []
          },
          "execution_count": 167
        }
      ]
    },
    {
      "cell_type": "code",
      "metadata": {
        "id": "WPY1mhktrJK5",
        "colab_type": "code",
        "colab": {}
      },
      "source": [
        "from sklearn.metrics import mean_squared_error"
      ],
      "execution_count": 0,
      "outputs": []
    },
    {
      "cell_type": "code",
      "metadata": {
        "id": "_JS75wYRrJK8",
        "colab_type": "code",
        "colab": {
          "base_uri": "https://localhost:8080/",
          "height": 34
        },
        "outputId": "03597c5a-0ce9-4072-dc9d-db803731a24f"
      },
      "source": [
        "error = mean_squared_error(actual, predictions)\n",
        "print('Test MSE: %.6f' % error)"
      ],
      "execution_count": 169,
      "outputs": [
        {
          "output_type": "stream",
          "text": [
            "Test MSE: 103.633515\n"
          ],
          "name": "stdout"
        }
      ]
    },
    {
      "cell_type": "code",
      "metadata": {
        "id": "XjTYD4GGrJK_",
        "colab_type": "code",
        "colab": {
          "base_uri": "https://localhost:8080/",
          "height": 134
        },
        "outputId": "c3fee2f0-0b5f-4b3a-e5a4-41197430cf03"
      },
      "source": [
        "predictions_series = pd.Series(predictions, index = actual.index)\n",
        "predictions_series"
      ],
      "execution_count": 170,
      "outputs": [
        {
          "output_type": "execute_result",
          "data": {
            "text/plain": [
              "Date\n",
              "2019-01-06    354.126341\n",
              "2019-01-13    363.851708\n",
              "2019-01-20    378.640877\n",
              "2019-01-27    374.216171\n",
              "2019-02-03    367.438501\n",
              "Freq: W-SUN, dtype: float64"
            ]
          },
          "metadata": {
            "tags": []
          },
          "execution_count": 170
        }
      ]
    },
    {
      "cell_type": "markdown",
      "metadata": {
        "id": "M-TzWizYrJLC",
        "colab_type": "text"
      },
      "source": [
        "# Future Forecasting Using ARIMA Model"
      ]
    },
    {
      "cell_type": "code",
      "metadata": {
        "id": "aMlFNKcirJLD",
        "colab_type": "code",
        "colab": {
          "base_uri": "https://localhost:8080/",
          "height": 361
        },
        "outputId": "816b9e28-2213-4e4d-8120-d3b987f4d1bc"
      },
      "source": [
        "ts_week[-60:].plot(figsize=(12, 5), grid=True, label= 'observed')\n",
        "predictions_series.plot(c='orange', figsize=(12, 5), grid=True, label='rolling one-step out-of-sample forecast')\n",
        "plt.title('Spot Exchange Rate, Euro into USD')\n",
        "plt.legend()\n",
        "plt.show()"
      ],
      "execution_count": 171,
      "outputs": [
        {
          "output_type": "display_data",
          "data": {
            "image/png": "[encoded data removed]",
            "text/plain": [
              "<Figure size 864x360 with 1 Axes>"
            ]
          },
          "metadata": {
            "tags": []
          }
        }
      ]
    },
    {
      "cell_type": "code",
      "metadata": {
        "id": "b6iqqbcLrJLG",
        "colab_type": "code",
        "colab": {}
      },
      "source": [
        ""
      ],
      "execution_count": 0,
      "outputs": []
    },
    {
      "cell_type": "markdown",
      "metadata": {
        "id": "2msuxLBArJLJ",
        "colab_type": "text"
      },
      "source": [
        "__Topics you can Explore further:__\n",
        "* Arimax models\n",
        "* Seasonal models of ARIMA"
      ]
    },
    {
      "cell_type": "markdown",
      "metadata": {
        "id": "pYcp4pvnrJLO",
        "colab_type": "text"
      },
      "source": [
        "![](https://media.giphy.com/media/xT0xezQGU5xCDJuCPe/giphy.gif )\n"
      ]
    },
    {
      "cell_type": "markdown",
      "metadata": {
        "id": "gMCPEd0qrJLP",
        "colab_type": "text"
      },
      "source": [
        "---\n",
        "\n",
        "\n",
        "\n"
      ]
    },
    {
      "cell_type": "code",
      "metadata": {
        "id": "S8iR7mTNrJLP",
        "colab_type": "code",
        "colab": {}
      },
      "source": [
        "\n",
        "\n",
        "\n",
        "\n"
      ],
      "execution_count": 0,
      "outputs": []
    },
    {
      "cell_type": "code",
      "metadata": {
        "id": "TeRBxvAqrJLU",
        "colab_type": "code",
        "colab": {}
      },
      "source": [
        ""
      ],
      "execution_count": 0,
      "outputs": []
    }
  ]
}