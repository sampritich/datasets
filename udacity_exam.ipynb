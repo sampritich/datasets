{
  "nbformat": 4,
  "nbformat_minor": 0,
  "metadata": {
    "colab": {
      "name": "udacity_exam.ipynb",
      "provenance": [],
      "authorship_tag": "ABX9TyMUlQQBY4gedPLxcBdq08l2",
      "include_colab_link": true
    },
    "kernelspec": {
      "name": "python3",
      "display_name": "Python 3"
    }
  },
  "cells": [
    {
      "cell_type": "markdown",
      "metadata": {
        "id": "view-in-github",
        "colab_type": "text"
      },
      "source": [
        "<a href=\"https://colab.research.google.com/github/sampritich/datasets/blob/master/udacity_exam.ipynb\" target=\"_parent\"><img src=\"https://colab.research.google.com/assets/colab-badge.svg\" alt=\"Open In Colab\"/></a>"
      ]
    },
    {
      "cell_type": "code",
      "metadata": {
        "id": "ecIieIDJHmr5",
        "colab_type": "code",
        "colab": {
          "base_uri": "https://localhost:8080/",
          "height": 440
        },
        "outputId": "582e3d75-d667-4cd1-86f4-73af938fe025"
      },
      "source": [
        "!wget https://www.dropbox.com/s/ocoskgv0kcc7yid/nypd-motor-vehicle-collisions.zip"
      ],
      "execution_count": 33,
      "outputs": [
        {
          "output_type": "stream",
          "text": [
            "--2020-01-17 11:29:22--  https://www.dropbox.com/s/ocoskgv0kcc7yid/nypd-motor-vehicle-collisions.zip\n",
            "Resolving www.dropbox.com (www.dropbox.com)... 162.125.8.1, 2620:100:601b:1::a27d:801\n",
            "Connecting to www.dropbox.com (www.dropbox.com)|162.125.8.1|:443... connected.\n",
            "HTTP request sent, awaiting response... 301 Moved Permanently\n",
            "Location: /s/raw/ocoskgv0kcc7yid/nypd-motor-vehicle-collisions.zip [following]\n",
            "--2020-01-17 11:29:22--  https://www.dropbox.com/s/raw/ocoskgv0kcc7yid/nypd-motor-vehicle-collisions.zip\n",
            "Reusing existing connection to www.dropbox.com:443.\n",
            "HTTP request sent, awaiting response... 302 Found\n",
            "Location: https://uc10c214f6fb2245fb3083ecbbb2.dl.dropboxusercontent.com/cd/0/inline/AwWMS5uCRTTrQvqGcks54xQ2Cw-5-iwnSUzw1BW9Gys2hqQLIgcNOnUmctOYSA0K5NQY_rIUxVBSBfhgAOM0lR0scwrce7wD5UYAHiujnLZjYND4vGZDJI5iD3HGHNF4piE/file# [following]\n",
            "--2020-01-17 11:29:22--  https://uc10c214f6fb2245fb3083ecbbb2.dl.dropboxusercontent.com/cd/0/inline/AwWMS5uCRTTrQvqGcks54xQ2Cw-5-iwnSUzw1BW9Gys2hqQLIgcNOnUmctOYSA0K5NQY_rIUxVBSBfhgAOM0lR0scwrce7wD5UYAHiujnLZjYND4vGZDJI5iD3HGHNF4piE/file\n",
            "Resolving uc10c214f6fb2245fb3083ecbbb2.dl.dropboxusercontent.com (uc10c214f6fb2245fb3083ecbbb2.dl.dropboxusercontent.com)... 162.125.1.6, 2620:100:6016:6::a27d:106\n",
            "Connecting to uc10c214f6fb2245fb3083ecbbb2.dl.dropboxusercontent.com (uc10c214f6fb2245fb3083ecbbb2.dl.dropboxusercontent.com)|162.125.1.6|:443... connected.\n",
            "HTTP request sent, awaiting response... 302 FOUND\n",
            "Location: /cd/0/inline2/AwV103zQT3sOhe2Rnd2doRjV6EXeWDntshOWS0lcWBG-zOPYUJX2C0H-3ayxNtVxUq7AYQKaXxnXLhZcIAi42wqRxQDfedDPdP_ZSGVCdc7S6AygqAHy6NQvYOeANjO981A3QZVjx7AVfBi8cL2m6dEMptPZ79arHLU31CsBlCkPn3KVSXzVBErzojg0PXBl7QAReR7iV81te5njbSjnqALk5fxtVTL6Mp_cK4sS9gNXIMaTVpldw1velQ9Wl-EtPTRIG9NNMXxdQ_V3QyWwf8NMTZT9of7DCU3pXfUdbdAg8xz1_OGEpVkuJwzg-OCBWQqKIdcVYTOS48rr1upfujaVDGEyZGnPOMBikBiuE6Av6Q/file [following]\n",
            "--2020-01-17 11:29:23--  https://uc10c214f6fb2245fb3083ecbbb2.dl.dropboxusercontent.com/cd/0/inline2/AwV103zQT3sOhe2Rnd2doRjV6EXeWDntshOWS0lcWBG-zOPYUJX2C0H-3ayxNtVxUq7AYQKaXxnXLhZcIAi42wqRxQDfedDPdP_ZSGVCdc7S6AygqAHy6NQvYOeANjO981A3QZVjx7AVfBi8cL2m6dEMptPZ79arHLU31CsBlCkPn3KVSXzVBErzojg0PXBl7QAReR7iV81te5njbSjnqALk5fxtVTL6Mp_cK4sS9gNXIMaTVpldw1velQ9Wl-EtPTRIG9NNMXxdQ_V3QyWwf8NMTZT9of7DCU3pXfUdbdAg8xz1_OGEpVkuJwzg-OCBWQqKIdcVYTOS48rr1upfujaVDGEyZGnPOMBikBiuE6Av6Q/file\n",
            "Reusing existing connection to uc10c214f6fb2245fb3083ecbbb2.dl.dropboxusercontent.com:443.\n",
            "HTTP request sent, awaiting response... 200 OK\n",
            "Length: 71751457 (68M) [application/zip]\n",
            "Saving to: ‘nypd-motor-vehicle-collisions.zip.2’\n",
            "\n",
            "nypd-motor-vehicle- 100%[===================>]  68.43M  23.1MB/s    in 3.0s    \n",
            "\n",
            "2020-01-17 11:29:26 (23.1 MB/s) - ‘nypd-motor-vehicle-collisions.zip.2’ saved [71751457/71751457]\n",
            "\n"
          ],
          "name": "stdout"
        }
      ]
    },
    {
      "cell_type": "code",
      "metadata": {
        "id": "Nh38dsWEJocS",
        "colab_type": "code",
        "colab": {
          "base_uri": "https://localhost:8080/",
          "height": 50
        },
        "outputId": "e6dad882-4873-4d05-ee7b-be9f773e3f5b"
      },
      "source": [
        "!unzip /content/nypd-motor-vehicle-collisions.zip.2"
      ],
      "execution_count": 34,
      "outputs": [
        {
          "output_type": "stream",
          "text": [
            "Archive:  /content/nypd-motor-vehicle-collisions.zip.1\n",
            "replace MVCollisionsDataDictionary_20190813_ERD.xlsx? [y]es, [n]o, [A]ll, [N]one, [r]ename: N\n"
          ],
          "name": "stdout"
        }
      ]
    },
    {
      "cell_type": "code",
      "metadata": {
        "id": "7J15znG-JtW6",
        "colab_type": "code",
        "colab": {}
      },
      "source": [
        "import pandas as pd"
      ],
      "execution_count": 0,
      "outputs": []
    },
    {
      "cell_type": "code",
      "metadata": {
        "id": "mYNKL7H6KMzC",
        "colab_type": "code",
        "colab": {
          "base_uri": "https://localhost:8080/",
          "height": 70
        },
        "outputId": "91530f85-ea38-49d2-9c47-96cb4cec8403"
      },
      "source": [
        "data=pd.read_csv('/content/nypd-motor-vehicle-collisions.csv')"
      ],
      "execution_count": 36,
      "outputs": [
        {
          "output_type": "stream",
          "text": [
            "/usr/local/lib/python3.6/dist-packages/IPython/core/interactiveshell.py:2718: DtypeWarning: Columns (3) have mixed types. Specify dtype option on import or set low_memory=False.\n",
            "  interactivity=interactivity, compiler=compiler, result=result)\n"
          ],
          "name": "stderr"
        }
      ]
    },
    {
      "cell_type": "code",
      "metadata": {
        "id": "HXszh0jkKQAW",
        "colab_type": "code",
        "colab": {
          "base_uri": "https://localhost:8080/",
          "height": 602
        },
        "outputId": "b2685f29-07cd-470e-cd5f-56b975c0e891"
      },
      "source": [
        "data.head()"
      ],
      "execution_count": 37,
      "outputs": [
        {
          "output_type": "execute_result",
          "data": {
            "text/html": [
              "<div>\n",
              "<style scoped>\n",
              "    .dataframe tbody tr th:only-of-type {\n",
              "        vertical-align: middle;\n",
              "    }\n",
              "\n",
              "    .dataframe tbody tr th {\n",
              "        vertical-align: top;\n",
              "    }\n",
              "\n",
              "    .dataframe thead th {\n",
              "        text-align: right;\n",
              "    }\n",
              "</style>\n",
              "<table border=\"1\" class=\"dataframe\">\n",
              "  <thead>\n",
              "    <tr style=\"text-align: right;\">\n",
              "      <th></th>\n",
              "      <th>ACCIDENT DATE</th>\n",
              "      <th>ACCIDENT TIME</th>\n",
              "      <th>BOROUGH</th>\n",
              "      <th>ZIP CODE</th>\n",
              "      <th>LATITUDE</th>\n",
              "      <th>LONGITUDE</th>\n",
              "      <th>LOCATION</th>\n",
              "      <th>ON STREET NAME</th>\n",
              "      <th>CROSS STREET NAME</th>\n",
              "      <th>OFF STREET NAME</th>\n",
              "      <th>NUMBER OF PERSONS INJURED</th>\n",
              "      <th>NUMBER OF PERSONS KILLED</th>\n",
              "      <th>NUMBER OF PEDESTRIANS INJURED</th>\n",
              "      <th>NUMBER OF PEDESTRIANS KILLED</th>\n",
              "      <th>NUMBER OF CYCLIST INJURED</th>\n",
              "      <th>NUMBER OF CYCLIST KILLED</th>\n",
              "      <th>NUMBER OF MOTORIST INJURED</th>\n",
              "      <th>NUMBER OF MOTORIST KILLED</th>\n",
              "      <th>CONTRIBUTING FACTOR VEHICLE 1</th>\n",
              "      <th>CONTRIBUTING FACTOR VEHICLE 2</th>\n",
              "      <th>CONTRIBUTING FACTOR VEHICLE 3</th>\n",
              "      <th>CONTRIBUTING FACTOR VEHICLE 4</th>\n",
              "      <th>CONTRIBUTING FACTOR VEHICLE 5</th>\n",
              "      <th>COLLISION_ID</th>\n",
              "      <th>VEHICLE TYPE CODE 1</th>\n",
              "      <th>VEHICLE TYPE CODE 2</th>\n",
              "      <th>VEHICLE TYPE CODE 3</th>\n",
              "      <th>VEHICLE TYPE CODE 4</th>\n",
              "      <th>VEHICLE TYPE CODE 5</th>\n",
              "    </tr>\n",
              "  </thead>\n",
              "  <tbody>\n",
              "    <tr>\n",
              "      <th>0</th>\n",
              "      <td>2019-08-05T00:00:00.000</td>\n",
              "      <td>16:30</td>\n",
              "      <td>QUEENS</td>\n",
              "      <td>11434</td>\n",
              "      <td>40.676052</td>\n",
              "      <td>-73.790184</td>\n",
              "      <td>{'type': 'Point', 'coordinates': [-73.790184, ...</td>\n",
              "      <td>NaN</td>\n",
              "      <td>NaN</td>\n",
              "      <td>150-08    123 AVENUE</td>\n",
              "      <td>0.0</td>\n",
              "      <td>0.0</td>\n",
              "      <td>0</td>\n",
              "      <td>0</td>\n",
              "      <td>0</td>\n",
              "      <td>0</td>\n",
              "      <td>0</td>\n",
              "      <td>0</td>\n",
              "      <td>Passing Too Closely</td>\n",
              "      <td>Unspecified</td>\n",
              "      <td>NaN</td>\n",
              "      <td>NaN</td>\n",
              "      <td>NaN</td>\n",
              "      <td>4184637</td>\n",
              "      <td>Sedan</td>\n",
              "      <td>Pick-up Truck</td>\n",
              "      <td>NaN</td>\n",
              "      <td>NaN</td>\n",
              "      <td>NaN</td>\n",
              "    </tr>\n",
              "    <tr>\n",
              "      <th>1</th>\n",
              "      <td>2019-08-27T00:00:00.000</td>\n",
              "      <td>16:02</td>\n",
              "      <td>BROOKLYN</td>\n",
              "      <td>11225</td>\n",
              "      <td>40.657780</td>\n",
              "      <td>-73.951096</td>\n",
              "      <td>{'type': 'Point', 'coordinates': [-73.951096, ...</td>\n",
              "      <td>NaN</td>\n",
              "      <td>NaN</td>\n",
              "      <td>288       HAWTHORNE STREET</td>\n",
              "      <td>0.0</td>\n",
              "      <td>0.0</td>\n",
              "      <td>0</td>\n",
              "      <td>0</td>\n",
              "      <td>0</td>\n",
              "      <td>0</td>\n",
              "      <td>0</td>\n",
              "      <td>0</td>\n",
              "      <td>Passing Too Closely</td>\n",
              "      <td>Unspecified</td>\n",
              "      <td>NaN</td>\n",
              "      <td>NaN</td>\n",
              "      <td>NaN</td>\n",
              "      <td>4195773</td>\n",
              "      <td>Station Wagon/Sport Utility Vehicle</td>\n",
              "      <td>Station Wagon/Sport Utility Vehicle</td>\n",
              "      <td>NaN</td>\n",
              "      <td>NaN</td>\n",
              "      <td>NaN</td>\n",
              "    </tr>\n",
              "    <tr>\n",
              "      <th>2</th>\n",
              "      <td>2019-08-15T00:00:00.000</td>\n",
              "      <td>17:57</td>\n",
              "      <td>MANHATTAN</td>\n",
              "      <td>10002</td>\n",
              "      <td>40.718143</td>\n",
              "      <td>-73.993835</td>\n",
              "      <td>{'type': 'Point', 'coordinates': [-73.993835, ...</td>\n",
              "      <td>CHRYSTIE STREET</td>\n",
              "      <td>GRAND STREET</td>\n",
              "      <td>NaN</td>\n",
              "      <td>1.0</td>\n",
              "      <td>0.0</td>\n",
              "      <td>0</td>\n",
              "      <td>0</td>\n",
              "      <td>0</td>\n",
              "      <td>0</td>\n",
              "      <td>1</td>\n",
              "      <td>0</td>\n",
              "      <td>Driver Inattention/Distraction</td>\n",
              "      <td>NaN</td>\n",
              "      <td>NaN</td>\n",
              "      <td>NaN</td>\n",
              "      <td>NaN</td>\n",
              "      <td>4202457</td>\n",
              "      <td>Sedan</td>\n",
              "      <td>NaN</td>\n",
              "      <td>NaN</td>\n",
              "      <td>NaN</td>\n",
              "      <td>NaN</td>\n",
              "    </tr>\n",
              "    <tr>\n",
              "      <th>3</th>\n",
              "      <td>2019-08-30T00:00:00.000</td>\n",
              "      <td>21:53</td>\n",
              "      <td>BRONX</td>\n",
              "      <td>10460</td>\n",
              "      <td>40.840534</td>\n",
              "      <td>-73.866610</td>\n",
              "      <td>{'type': 'Point', 'coordinates': [-73.86661, 4...</td>\n",
              "      <td>NaN</td>\n",
              "      <td>NaN</td>\n",
              "      <td>1837      EAST TREMONT AVENUE</td>\n",
              "      <td>0.0</td>\n",
              "      <td>0.0</td>\n",
              "      <td>0</td>\n",
              "      <td>0</td>\n",
              "      <td>0</td>\n",
              "      <td>0</td>\n",
              "      <td>0</td>\n",
              "      <td>0</td>\n",
              "      <td>Unspecified</td>\n",
              "      <td>Unspecified</td>\n",
              "      <td>NaN</td>\n",
              "      <td>NaN</td>\n",
              "      <td>NaN</td>\n",
              "      <td>4198749</td>\n",
              "      <td>Taxi</td>\n",
              "      <td>Station Wagon/Sport Utility Vehicle</td>\n",
              "      <td>NaN</td>\n",
              "      <td>NaN</td>\n",
              "      <td>NaN</td>\n",
              "    </tr>\n",
              "    <tr>\n",
              "      <th>4</th>\n",
              "      <td>2019-08-06T00:00:00.000</td>\n",
              "      <td>9:45</td>\n",
              "      <td>MANHATTAN</td>\n",
              "      <td>10016</td>\n",
              "      <td>40.745440</td>\n",
              "      <td>-73.975400</td>\n",
              "      <td>{'type': 'Point', 'coordinates': [-73.9754, 40...</td>\n",
              "      <td>EAST 35 STREET</td>\n",
              "      <td>2 AVENUE</td>\n",
              "      <td>NaN</td>\n",
              "      <td>1.0</td>\n",
              "      <td>0.0</td>\n",
              "      <td>0</td>\n",
              "      <td>0</td>\n",
              "      <td>1</td>\n",
              "      <td>0</td>\n",
              "      <td>0</td>\n",
              "      <td>0</td>\n",
              "      <td>Driver Inattention/Distraction</td>\n",
              "      <td>Driver Inattention/Distraction</td>\n",
              "      <td>NaN</td>\n",
              "      <td>NaN</td>\n",
              "      <td>NaN</td>\n",
              "      <td>4183798</td>\n",
              "      <td>Station Wagon/Sport Utility Vehicle</td>\n",
              "      <td>Bike</td>\n",
              "      <td>NaN</td>\n",
              "      <td>NaN</td>\n",
              "      <td>NaN</td>\n",
              "    </tr>\n",
              "  </tbody>\n",
              "</table>\n",
              "</div>"
            ],
            "text/plain": [
              "             ACCIDENT DATE  ... VEHICLE TYPE CODE 5\n",
              "0  2019-08-05T00:00:00.000  ...                 NaN\n",
              "1  2019-08-27T00:00:00.000  ...                 NaN\n",
              "2  2019-08-15T00:00:00.000  ...                 NaN\n",
              "3  2019-08-30T00:00:00.000  ...                 NaN\n",
              "4  2019-08-06T00:00:00.000  ...                 NaN\n",
              "\n",
              "[5 rows x 29 columns]"
            ]
          },
          "metadata": {
            "tags": []
          },
          "execution_count": 37
        }
      ]
    },
    {
      "cell_type": "code",
      "metadata": {
        "id": "UK7xC65FMVba",
        "colab_type": "code",
        "colab": {
          "base_uri": "https://localhost:8080/",
          "height": 34
        },
        "outputId": "50e4aa79-13fa-478b-a005-703b8cffc355"
      },
      "source": [
        "data.shape"
      ],
      "execution_count": 38,
      "outputs": [
        {
          "output_type": "execute_result",
          "data": {
            "text/plain": [
              "(1612178, 29)"
            ]
          },
          "metadata": {
            "tags": []
          },
          "execution_count": 38
        }
      ]
    },
    {
      "cell_type": "code",
      "metadata": {
        "id": "gL6E6VV1KZpf",
        "colab_type": "code",
        "colab": {
          "base_uri": "https://localhost:8080/",
          "height": 270
        },
        "outputId": "0bdc9914-806f-420d-e000-b9286fd0342f"
      },
      "source": [
        "data.describe(include='O')"
      ],
      "execution_count": 39,
      "outputs": [
        {
          "output_type": "execute_result",
          "data": {
            "text/html": [
              "<div>\n",
              "<style scoped>\n",
              "    .dataframe tbody tr th:only-of-type {\n",
              "        vertical-align: middle;\n",
              "    }\n",
              "\n",
              "    .dataframe tbody tr th {\n",
              "        vertical-align: top;\n",
              "    }\n",
              "\n",
              "    .dataframe thead th {\n",
              "        text-align: right;\n",
              "    }\n",
              "</style>\n",
              "<table border=\"1\" class=\"dataframe\">\n",
              "  <thead>\n",
              "    <tr style=\"text-align: right;\">\n",
              "      <th></th>\n",
              "      <th>ACCIDENT DATE</th>\n",
              "      <th>ACCIDENT TIME</th>\n",
              "      <th>BOROUGH</th>\n",
              "      <th>ZIP CODE</th>\n",
              "      <th>LOCATION</th>\n",
              "      <th>ON STREET NAME</th>\n",
              "      <th>CROSS STREET NAME</th>\n",
              "      <th>OFF STREET NAME</th>\n",
              "      <th>CONTRIBUTING FACTOR VEHICLE 1</th>\n",
              "      <th>CONTRIBUTING FACTOR VEHICLE 2</th>\n",
              "      <th>CONTRIBUTING FACTOR VEHICLE 3</th>\n",
              "      <th>CONTRIBUTING FACTOR VEHICLE 4</th>\n",
              "      <th>CONTRIBUTING FACTOR VEHICLE 5</th>\n",
              "      <th>VEHICLE TYPE CODE 1</th>\n",
              "      <th>VEHICLE TYPE CODE 2</th>\n",
              "      <th>VEHICLE TYPE CODE 3</th>\n",
              "      <th>VEHICLE TYPE CODE 4</th>\n",
              "      <th>VEHICLE TYPE CODE 5</th>\n",
              "    </tr>\n",
              "  </thead>\n",
              "  <tbody>\n",
              "    <tr>\n",
              "      <th>count</th>\n",
              "      <td>1612178</td>\n",
              "      <td>1612178</td>\n",
              "      <td>1127553</td>\n",
              "      <td>1127376.0</td>\n",
              "      <td>1415893</td>\n",
              "      <td>1298002</td>\n",
              "      <td>1079193</td>\n",
              "      <td>219732</td>\n",
              "      <td>1607854</td>\n",
              "      <td>1396127</td>\n",
              "      <td>104254</td>\n",
              "      <td>21789</td>\n",
              "      <td>5622</td>\n",
              "      <td>1606597</td>\n",
              "      <td>1346858</td>\n",
              "      <td>128742</td>\n",
              "      <td>46009</td>\n",
              "      <td>10150</td>\n",
              "    </tr>\n",
              "    <tr>\n",
              "      <th>unique</th>\n",
              "      <td>2702</td>\n",
              "      <td>1440</td>\n",
              "      <td>5</td>\n",
              "      <td>438.0</td>\n",
              "      <td>182540</td>\n",
              "      <td>10471</td>\n",
              "      <td>16869</td>\n",
              "      <td>114290</td>\n",
              "      <td>61</td>\n",
              "      <td>61</td>\n",
              "      <td>50</td>\n",
              "      <td>36</td>\n",
              "      <td>22</td>\n",
              "      <td>623</td>\n",
              "      <td>606</td>\n",
              "      <td>123</td>\n",
              "      <td>66</td>\n",
              "      <td>44</td>\n",
              "    </tr>\n",
              "    <tr>\n",
              "      <th>top</th>\n",
              "      <td>2018-09-06T00:00:00.000</td>\n",
              "      <td>16:00</td>\n",
              "      <td>BROOKLYN</td>\n",
              "      <td>11207.0</td>\n",
              "      <td>{'type': 'Point', 'coordinates': [0, 0]}</td>\n",
              "      <td>BROADWAY</td>\n",
              "      <td>3 AVENUE</td>\n",
              "      <td>772       EDGEWATER ROAD</td>\n",
              "      <td>Unspecified</td>\n",
              "      <td>Unspecified</td>\n",
              "      <td>Unspecified</td>\n",
              "      <td>Unspecified</td>\n",
              "      <td>Unspecified</td>\n",
              "      <td>PASSENGER VEHICLE</td>\n",
              "      <td>PASSENGER VEHICLE</td>\n",
              "      <td>PASSENGER VEHICLE</td>\n",
              "      <td>PASSENGER VEHICLE</td>\n",
              "      <td>PASSENGER VEHICLE</td>\n",
              "    </tr>\n",
              "    <tr>\n",
              "      <th>freq</th>\n",
              "      <td>1635</td>\n",
              "      <td>23453</td>\n",
              "      <td>349682</td>\n",
              "      <td>12379.0</td>\n",
              "      <td>1226</td>\n",
              "      <td>15915</td>\n",
              "      <td>10131</td>\n",
              "      <td>341</td>\n",
              "      <td>595805</td>\n",
              "      <td>1173564</td>\n",
              "      <td>96893</td>\n",
              "      <td>20538</td>\n",
              "      <td>5299</td>\n",
              "      <td>713352</td>\n",
              "      <td>535693</td>\n",
              "      <td>61113</td>\n",
              "      <td>22820</td>\n",
              "      <td>5236</td>\n",
              "    </tr>\n",
              "  </tbody>\n",
              "</table>\n",
              "</div>"
            ],
            "text/plain": [
              "                  ACCIDENT DATE  ... VEHICLE TYPE CODE 5\n",
              "count                   1612178  ...               10150\n",
              "unique                     2702  ...                  44\n",
              "top     2018-09-06T00:00:00.000  ...   PASSENGER VEHICLE\n",
              "freq                       1635  ...                5236\n",
              "\n",
              "[4 rows x 18 columns]"
            ]
          },
          "metadata": {
            "tags": []
          },
          "execution_count": 39
        }
      ]
    },
    {
      "cell_type": "code",
      "metadata": {
        "id": "sHAt4ls3KoMA",
        "colab_type": "code",
        "colab": {
          "base_uri": "https://localhost:8080/",
          "height": 338
        },
        "outputId": "96946223-db54-44b4-fc95-b487e99448ae"
      },
      "source": [
        "data.describe()"
      ],
      "execution_count": 40,
      "outputs": [
        {
          "output_type": "execute_result",
          "data": {
            "text/html": [
              "<div>\n",
              "<style scoped>\n",
              "    .dataframe tbody tr th:only-of-type {\n",
              "        vertical-align: middle;\n",
              "    }\n",
              "\n",
              "    .dataframe tbody tr th {\n",
              "        vertical-align: top;\n",
              "    }\n",
              "\n",
              "    .dataframe thead th {\n",
              "        text-align: right;\n",
              "    }\n",
              "</style>\n",
              "<table border=\"1\" class=\"dataframe\">\n",
              "  <thead>\n",
              "    <tr style=\"text-align: right;\">\n",
              "      <th></th>\n",
              "      <th>LATITUDE</th>\n",
              "      <th>LONGITUDE</th>\n",
              "      <th>NUMBER OF PERSONS INJURED</th>\n",
              "      <th>NUMBER OF PERSONS KILLED</th>\n",
              "      <th>NUMBER OF PEDESTRIANS INJURED</th>\n",
              "      <th>NUMBER OF PEDESTRIANS KILLED</th>\n",
              "      <th>NUMBER OF CYCLIST INJURED</th>\n",
              "      <th>NUMBER OF CYCLIST KILLED</th>\n",
              "      <th>NUMBER OF MOTORIST INJURED</th>\n",
              "      <th>NUMBER OF MOTORIST KILLED</th>\n",
              "      <th>COLLISION_ID</th>\n",
              "    </tr>\n",
              "  </thead>\n",
              "  <tbody>\n",
              "    <tr>\n",
              "      <th>count</th>\n",
              "      <td>1.415893e+06</td>\n",
              "      <td>1.415893e+06</td>\n",
              "      <td>1.612161e+06</td>\n",
              "      <td>1.612145e+06</td>\n",
              "      <td>1.612178e+06</td>\n",
              "      <td>1.612178e+06</td>\n",
              "      <td>1.612178e+06</td>\n",
              "      <td>1.612178e+06</td>\n",
              "      <td>1.612178e+06</td>\n",
              "      <td>1.612178e+06</td>\n",
              "      <td>1.612178e+06</td>\n",
              "    </tr>\n",
              "    <tr>\n",
              "      <th>mean</th>\n",
              "      <td>4.068864e+01</td>\n",
              "      <td>-7.386657e+01</td>\n",
              "      <td>2.631363e-01</td>\n",
              "      <td>1.185998e-03</td>\n",
              "      <td>5.060483e-02</td>\n",
              "      <td>6.302034e-04</td>\n",
              "      <td>2.098590e-02</td>\n",
              "      <td>9.242156e-05</td>\n",
              "      <td>1.916854e-01</td>\n",
              "      <td>4.633483e-04</td>\n",
              "      <td>2.765946e+06</td>\n",
              "    </tr>\n",
              "    <tr>\n",
              "      <th>std</th>\n",
              "      <td>1.200403e+00</td>\n",
              "      <td>2.438640e+00</td>\n",
              "      <td>6.584832e-01</td>\n",
              "      <td>3.644859e-02</td>\n",
              "      <td>2.316972e-01</td>\n",
              "      <td>2.577872e-02</td>\n",
              "      <td>1.445222e-01</td>\n",
              "      <td>9.677481e-03</td>\n",
              "      <td>6.206497e-01</td>\n",
              "      <td>2.334547e-02</td>\n",
              "      <td>1.506373e+06</td>\n",
              "    </tr>\n",
              "    <tr>\n",
              "      <th>min</th>\n",
              "      <td>0.000000e+00</td>\n",
              "      <td>-2.012371e+02</td>\n",
              "      <td>0.000000e+00</td>\n",
              "      <td>0.000000e+00</td>\n",
              "      <td>0.000000e+00</td>\n",
              "      <td>0.000000e+00</td>\n",
              "      <td>0.000000e+00</td>\n",
              "      <td>0.000000e+00</td>\n",
              "      <td>0.000000e+00</td>\n",
              "      <td>0.000000e+00</td>\n",
              "      <td>2.300000e+01</td>\n",
              "    </tr>\n",
              "    <tr>\n",
              "      <th>25%</th>\n",
              "      <td>4.066882e+01</td>\n",
              "      <td>-7.397746e+01</td>\n",
              "      <td>0.000000e+00</td>\n",
              "      <td>0.000000e+00</td>\n",
              "      <td>0.000000e+00</td>\n",
              "      <td>0.000000e+00</td>\n",
              "      <td>0.000000e+00</td>\n",
              "      <td>0.000000e+00</td>\n",
              "      <td>0.000000e+00</td>\n",
              "      <td>0.000000e+00</td>\n",
              "      <td>1.014464e+06</td>\n",
              "    </tr>\n",
              "    <tr>\n",
              "      <th>50%</th>\n",
              "      <td>4.072258e+01</td>\n",
              "      <td>-7.393002e+01</td>\n",
              "      <td>0.000000e+00</td>\n",
              "      <td>0.000000e+00</td>\n",
              "      <td>0.000000e+00</td>\n",
              "      <td>0.000000e+00</td>\n",
              "      <td>0.000000e+00</td>\n",
              "      <td>0.000000e+00</td>\n",
              "      <td>0.000000e+00</td>\n",
              "      <td>0.000000e+00</td>\n",
              "      <td>3.422826e+06</td>\n",
              "    </tr>\n",
              "    <tr>\n",
              "      <th>75%</th>\n",
              "      <td>4.076789e+01</td>\n",
              "      <td>-7.386727e+01</td>\n",
              "      <td>0.000000e+00</td>\n",
              "      <td>0.000000e+00</td>\n",
              "      <td>0.000000e+00</td>\n",
              "      <td>0.000000e+00</td>\n",
              "      <td>0.000000e+00</td>\n",
              "      <td>0.000000e+00</td>\n",
              "      <td>0.000000e+00</td>\n",
              "      <td>0.000000e+00</td>\n",
              "      <td>3.854210e+06</td>\n",
              "    </tr>\n",
              "    <tr>\n",
              "      <th>max</th>\n",
              "      <td>4.231832e+01</td>\n",
              "      <td>0.000000e+00</td>\n",
              "      <td>3.100000e+01</td>\n",
              "      <td>8.000000e+00</td>\n",
              "      <td>2.700000e+01</td>\n",
              "      <td>6.000000e+00</td>\n",
              "      <td>4.000000e+00</td>\n",
              "      <td>2.000000e+00</td>\n",
              "      <td>3.100000e+01</td>\n",
              "      <td>5.000000e+00</td>\n",
              "      <td>4.249104e+06</td>\n",
              "    </tr>\n",
              "  </tbody>\n",
              "</table>\n",
              "</div>"
            ],
            "text/plain": [
              "           LATITUDE     LONGITUDE  ...  NUMBER OF MOTORIST KILLED  COLLISION_ID\n",
              "count  1.415893e+06  1.415893e+06  ...               1.612178e+06  1.612178e+06\n",
              "mean   4.068864e+01 -7.386657e+01  ...               4.633483e-04  2.765946e+06\n",
              "std    1.200403e+00  2.438640e+00  ...               2.334547e-02  1.506373e+06\n",
              "min    0.000000e+00 -2.012371e+02  ...               0.000000e+00  2.300000e+01\n",
              "25%    4.066882e+01 -7.397746e+01  ...               0.000000e+00  1.014464e+06\n",
              "50%    4.072258e+01 -7.393002e+01  ...               0.000000e+00  3.422826e+06\n",
              "75%    4.076789e+01 -7.386727e+01  ...               0.000000e+00  3.854210e+06\n",
              "max    4.231832e+01  0.000000e+00  ...               5.000000e+00  4.249104e+06\n",
              "\n",
              "[8 rows x 11 columns]"
            ]
          },
          "metadata": {
            "tags": []
          },
          "execution_count": 40
        }
      ]
    },
    {
      "cell_type": "code",
      "metadata": {
        "id": "UOQq0tzlK-VT",
        "colab_type": "code",
        "colab": {
          "base_uri": "https://localhost:8080/",
          "height": 218
        },
        "outputId": "6e85d75d-52e1-4fe1-bef7-d3167570cdb9"
      },
      "source": [
        "data.columns"
      ],
      "execution_count": 41,
      "outputs": [
        {
          "output_type": "execute_result",
          "data": {
            "text/plain": [
              "Index(['ACCIDENT DATE', 'ACCIDENT TIME', 'BOROUGH', 'ZIP CODE', 'LATITUDE',\n",
              "       'LONGITUDE', 'LOCATION', 'ON STREET NAME', 'CROSS STREET NAME',\n",
              "       'OFF STREET NAME', 'NUMBER OF PERSONS INJURED',\n",
              "       'NUMBER OF PERSONS KILLED', 'NUMBER OF PEDESTRIANS INJURED',\n",
              "       'NUMBER OF PEDESTRIANS KILLED', 'NUMBER OF CYCLIST INJURED',\n",
              "       'NUMBER OF CYCLIST KILLED', 'NUMBER OF MOTORIST INJURED',\n",
              "       'NUMBER OF MOTORIST KILLED', 'CONTRIBUTING FACTOR VEHICLE 1',\n",
              "       'CONTRIBUTING FACTOR VEHICLE 2', 'CONTRIBUTING FACTOR VEHICLE 3',\n",
              "       'CONTRIBUTING FACTOR VEHICLE 4', 'CONTRIBUTING FACTOR VEHICLE 5',\n",
              "       'COLLISION_ID', 'VEHICLE TYPE CODE 1', 'VEHICLE TYPE CODE 2',\n",
              "       'VEHICLE TYPE CODE 3', 'VEHICLE TYPE CODE 4', 'VEHICLE TYPE CODE 5'],\n",
              "      dtype='object')"
            ]
          },
          "metadata": {
            "tags": []
          },
          "execution_count": 41
        }
      ]
    },
    {
      "cell_type": "code",
      "metadata": {
        "id": "_4KtNDnbLniD",
        "colab_type": "code",
        "colab": {
          "base_uri": "https://localhost:8080/",
          "height": 521
        },
        "outputId": "02b9beb6-2800-44a7-b3d5-f9480c67276b"
      },
      "source": [
        "data.isna().any()"
      ],
      "execution_count": 42,
      "outputs": [
        {
          "output_type": "execute_result",
          "data": {
            "text/plain": [
              "ACCIDENT DATE                    False\n",
              "ACCIDENT TIME                    False\n",
              "BOROUGH                           True\n",
              "ZIP CODE                          True\n",
              "LATITUDE                          True\n",
              "LONGITUDE                         True\n",
              "LOCATION                          True\n",
              "ON STREET NAME                    True\n",
              "CROSS STREET NAME                 True\n",
              "OFF STREET NAME                   True\n",
              "NUMBER OF PERSONS INJURED         True\n",
              "NUMBER OF PERSONS KILLED          True\n",
              "NUMBER OF PEDESTRIANS INJURED    False\n",
              "NUMBER OF PEDESTRIANS KILLED     False\n",
              "NUMBER OF CYCLIST INJURED        False\n",
              "NUMBER OF CYCLIST KILLED         False\n",
              "NUMBER OF MOTORIST INJURED       False\n",
              "NUMBER OF MOTORIST KILLED        False\n",
              "CONTRIBUTING FACTOR VEHICLE 1     True\n",
              "CONTRIBUTING FACTOR VEHICLE 2     True\n",
              "CONTRIBUTING FACTOR VEHICLE 3     True\n",
              "CONTRIBUTING FACTOR VEHICLE 4     True\n",
              "CONTRIBUTING FACTOR VEHICLE 5     True\n",
              "COLLISION_ID                     False\n",
              "VEHICLE TYPE CODE 1               True\n",
              "VEHICLE TYPE CODE 2               True\n",
              "VEHICLE TYPE CODE 3               True\n",
              "VEHICLE TYPE CODE 4               True\n",
              "VEHICLE TYPE CODE 5               True\n",
              "dtype: bool"
            ]
          },
          "metadata": {
            "tags": []
          },
          "execution_count": 42
        }
      ]
    },
    {
      "cell_type": "code",
      "metadata": {
        "id": "3E3aEHq7LrkH",
        "colab_type": "code",
        "colab": {}
      },
      "source": [
        "null_columns=pd.DataFrame({'Columns':data.isna().sum().index,'No. Null values':data.isna().sum().values,'Percentage':data.isna().sum().values/data.shape[0]})"
      ],
      "execution_count": 0,
      "outputs": []
    },
    {
      "cell_type": "code",
      "metadata": {
        "id": "O2zwUK8nSxsr",
        "colab_type": "code",
        "colab": {
          "base_uri": "https://localhost:8080/",
          "height": 906
        },
        "outputId": "28e0ecb9-710e-4fcb-f1ad-504a9acade64"
      },
      "source": [
        "null_columns"
      ],
      "execution_count": 59,
      "outputs": [
        {
          "output_type": "execute_result",
          "data": {
            "text/html": [
              "<div>\n",
              "<style scoped>\n",
              "    .dataframe tbody tr th:only-of-type {\n",
              "        vertical-align: middle;\n",
              "    }\n",
              "\n",
              "    .dataframe tbody tr th {\n",
              "        vertical-align: top;\n",
              "    }\n",
              "\n",
              "    .dataframe thead th {\n",
              "        text-align: right;\n",
              "    }\n",
              "</style>\n",
              "<table border=\"1\" class=\"dataframe\">\n",
              "  <thead>\n",
              "    <tr style=\"text-align: right;\">\n",
              "      <th></th>\n",
              "      <th>Columns</th>\n",
              "      <th>No. Null values</th>\n",
              "      <th>Percentage</th>\n",
              "    </tr>\n",
              "  </thead>\n",
              "  <tbody>\n",
              "    <tr>\n",
              "      <th>0</th>\n",
              "      <td>ACCIDENT DATE</td>\n",
              "      <td>0</td>\n",
              "      <td>0.000000</td>\n",
              "    </tr>\n",
              "    <tr>\n",
              "      <th>1</th>\n",
              "      <td>ACCIDENT TIME</td>\n",
              "      <td>0</td>\n",
              "      <td>0.000000</td>\n",
              "    </tr>\n",
              "    <tr>\n",
              "      <th>2</th>\n",
              "      <td>BOROUGH</td>\n",
              "      <td>484625</td>\n",
              "      <td>0.300603</td>\n",
              "    </tr>\n",
              "    <tr>\n",
              "      <th>3</th>\n",
              "      <td>ZIP CODE</td>\n",
              "      <td>484802</td>\n",
              "      <td>0.300712</td>\n",
              "    </tr>\n",
              "    <tr>\n",
              "      <th>4</th>\n",
              "      <td>LATITUDE</td>\n",
              "      <td>196285</td>\n",
              "      <td>0.121751</td>\n",
              "    </tr>\n",
              "    <tr>\n",
              "      <th>5</th>\n",
              "      <td>LONGITUDE</td>\n",
              "      <td>196285</td>\n",
              "      <td>0.121751</td>\n",
              "    </tr>\n",
              "    <tr>\n",
              "      <th>6</th>\n",
              "      <td>LOCATION</td>\n",
              "      <td>196285</td>\n",
              "      <td>0.121751</td>\n",
              "    </tr>\n",
              "    <tr>\n",
              "      <th>7</th>\n",
              "      <td>ON STREET NAME</td>\n",
              "      <td>314176</td>\n",
              "      <td>0.194877</td>\n",
              "    </tr>\n",
              "    <tr>\n",
              "      <th>8</th>\n",
              "      <td>CROSS STREET NAME</td>\n",
              "      <td>532985</td>\n",
              "      <td>0.330599</td>\n",
              "    </tr>\n",
              "    <tr>\n",
              "      <th>9</th>\n",
              "      <td>OFF STREET NAME</td>\n",
              "      <td>1392446</td>\n",
              "      <td>0.863705</td>\n",
              "    </tr>\n",
              "    <tr>\n",
              "      <th>10</th>\n",
              "      <td>NUMBER OF PERSONS INJURED</td>\n",
              "      <td>17</td>\n",
              "      <td>0.000011</td>\n",
              "    </tr>\n",
              "    <tr>\n",
              "      <th>11</th>\n",
              "      <td>NUMBER OF PERSONS KILLED</td>\n",
              "      <td>33</td>\n",
              "      <td>0.000020</td>\n",
              "    </tr>\n",
              "    <tr>\n",
              "      <th>12</th>\n",
              "      <td>NUMBER OF PEDESTRIANS INJURED</td>\n",
              "      <td>0</td>\n",
              "      <td>0.000000</td>\n",
              "    </tr>\n",
              "    <tr>\n",
              "      <th>13</th>\n",
              "      <td>NUMBER OF PEDESTRIANS KILLED</td>\n",
              "      <td>0</td>\n",
              "      <td>0.000000</td>\n",
              "    </tr>\n",
              "    <tr>\n",
              "      <th>14</th>\n",
              "      <td>NUMBER OF CYCLIST INJURED</td>\n",
              "      <td>0</td>\n",
              "      <td>0.000000</td>\n",
              "    </tr>\n",
              "    <tr>\n",
              "      <th>15</th>\n",
              "      <td>NUMBER OF CYCLIST KILLED</td>\n",
              "      <td>0</td>\n",
              "      <td>0.000000</td>\n",
              "    </tr>\n",
              "    <tr>\n",
              "      <th>16</th>\n",
              "      <td>NUMBER OF MOTORIST INJURED</td>\n",
              "      <td>0</td>\n",
              "      <td>0.000000</td>\n",
              "    </tr>\n",
              "    <tr>\n",
              "      <th>17</th>\n",
              "      <td>NUMBER OF MOTORIST KILLED</td>\n",
              "      <td>0</td>\n",
              "      <td>0.000000</td>\n",
              "    </tr>\n",
              "    <tr>\n",
              "      <th>18</th>\n",
              "      <td>CONTRIBUTING FACTOR VEHICLE 1</td>\n",
              "      <td>4324</td>\n",
              "      <td>0.002682</td>\n",
              "    </tr>\n",
              "    <tr>\n",
              "      <th>19</th>\n",
              "      <td>CONTRIBUTING FACTOR VEHICLE 2</td>\n",
              "      <td>216051</td>\n",
              "      <td>0.134012</td>\n",
              "    </tr>\n",
              "    <tr>\n",
              "      <th>20</th>\n",
              "      <td>CONTRIBUTING FACTOR VEHICLE 3</td>\n",
              "      <td>1507924</td>\n",
              "      <td>0.935333</td>\n",
              "    </tr>\n",
              "    <tr>\n",
              "      <th>21</th>\n",
              "      <td>CONTRIBUTING FACTOR VEHICLE 4</td>\n",
              "      <td>1590389</td>\n",
              "      <td>0.986485</td>\n",
              "    </tr>\n",
              "    <tr>\n",
              "      <th>22</th>\n",
              "      <td>CONTRIBUTING FACTOR VEHICLE 5</td>\n",
              "      <td>1606556</td>\n",
              "      <td>0.996513</td>\n",
              "    </tr>\n",
              "    <tr>\n",
              "      <th>23</th>\n",
              "      <td>COLLISION_ID</td>\n",
              "      <td>0</td>\n",
              "      <td>0.000000</td>\n",
              "    </tr>\n",
              "    <tr>\n",
              "      <th>24</th>\n",
              "      <td>VEHICLE TYPE CODE 1</td>\n",
              "      <td>5581</td>\n",
              "      <td>0.003462</td>\n",
              "    </tr>\n",
              "    <tr>\n",
              "      <th>25</th>\n",
              "      <td>VEHICLE TYPE CODE 2</td>\n",
              "      <td>265320</td>\n",
              "      <td>0.164572</td>\n",
              "    </tr>\n",
              "    <tr>\n",
              "      <th>26</th>\n",
              "      <td>VEHICLE TYPE CODE 3</td>\n",
              "      <td>1483436</td>\n",
              "      <td>0.920144</td>\n",
              "    </tr>\n",
              "    <tr>\n",
              "      <th>27</th>\n",
              "      <td>VEHICLE TYPE CODE 4</td>\n",
              "      <td>1566169</td>\n",
              "      <td>0.971462</td>\n",
              "    </tr>\n",
              "    <tr>\n",
              "      <th>28</th>\n",
              "      <td>VEHICLE TYPE CODE 5</td>\n",
              "      <td>1602028</td>\n",
              "      <td>0.993704</td>\n",
              "    </tr>\n",
              "  </tbody>\n",
              "</table>\n",
              "</div>"
            ],
            "text/plain": [
              "                          Columns  No. Null values  Percentage\n",
              "0                   ACCIDENT DATE                0    0.000000\n",
              "1                   ACCIDENT TIME                0    0.000000\n",
              "2                         BOROUGH           484625    0.300603\n",
              "3                        ZIP CODE           484802    0.300712\n",
              "4                        LATITUDE           196285    0.121751\n",
              "5                       LONGITUDE           196285    0.121751\n",
              "6                        LOCATION           196285    0.121751\n",
              "7                  ON STREET NAME           314176    0.194877\n",
              "8               CROSS STREET NAME           532985    0.330599\n",
              "9                 OFF STREET NAME          1392446    0.863705\n",
              "10      NUMBER OF PERSONS INJURED               17    0.000011\n",
              "11       NUMBER OF PERSONS KILLED               33    0.000020\n",
              "12  NUMBER OF PEDESTRIANS INJURED                0    0.000000\n",
              "13   NUMBER OF PEDESTRIANS KILLED                0    0.000000\n",
              "14      NUMBER OF CYCLIST INJURED                0    0.000000\n",
              "15       NUMBER OF CYCLIST KILLED                0    0.000000\n",
              "16     NUMBER OF MOTORIST INJURED                0    0.000000\n",
              "17      NUMBER OF MOTORIST KILLED                0    0.000000\n",
              "18  CONTRIBUTING FACTOR VEHICLE 1             4324    0.002682\n",
              "19  CONTRIBUTING FACTOR VEHICLE 2           216051    0.134012\n",
              "20  CONTRIBUTING FACTOR VEHICLE 3          1507924    0.935333\n",
              "21  CONTRIBUTING FACTOR VEHICLE 4          1590389    0.986485\n",
              "22  CONTRIBUTING FACTOR VEHICLE 5          1606556    0.996513\n",
              "23                   COLLISION_ID                0    0.000000\n",
              "24            VEHICLE TYPE CODE 1             5581    0.003462\n",
              "25            VEHICLE TYPE CODE 2           265320    0.164572\n",
              "26            VEHICLE TYPE CODE 3          1483436    0.920144\n",
              "27            VEHICLE TYPE CODE 4          1566169    0.971462\n",
              "28            VEHICLE TYPE CODE 5          1602028    0.993704"
            ]
          },
          "metadata": {
            "tags": []
          },
          "execution_count": 59
        }
      ]
    },
    {
      "cell_type": "markdown",
      "metadata": {
        "id": "Jrct6U3CPQwQ",
        "colab_type": "text"
      },
      "source": [
        "#<b>clean the data</b>"
      ]
    },
    {
      "cell_type": "code",
      "metadata": {
        "id": "mBEMMxIjQ0sC",
        "colab_type": "code",
        "colab": {
          "base_uri": "https://localhost:8080/",
          "height": 218
        },
        "outputId": "25660f27-319a-47b4-cbec-7ce7aa4f4a8a"
      },
      "source": [
        "null_rows=data.isnull().sum(axis=1)\n",
        "null_rows"
      ],
      "execution_count": 54,
      "outputs": [
        {
          "output_type": "execute_result",
          "data": {
            "text/plain": [
              "0           8\n",
              "1           8\n",
              "2           9\n",
              "3           8\n",
              "4           7\n",
              "           ..\n",
              "1612173     7\n",
              "1612174    10\n",
              "1612175    11\n",
              "1612176     5\n",
              "1612177     9\n",
              "Length: 1612178, dtype: int64"
            ]
          },
          "metadata": {
            "tags": []
          },
          "execution_count": 54
        }
      ]
    },
    {
      "cell_type": "code",
      "metadata": {
        "id": "Ep_mdJByR0sw",
        "colab_type": "code",
        "colab": {
          "base_uri": "https://localhost:8080/",
          "height": 34
        },
        "outputId": "3f218f5b-16ac-4ba2-f525-793a27a5d7ff"
      },
      "source": [
        "len_null_rows=len(null_rows[null_rows>15])\n",
        "len_null_rows"
      ],
      "execution_count": 61,
      "outputs": [
        {
          "output_type": "execute_result",
          "data": {
            "text/plain": [
              "2536"
            ]
          },
          "metadata": {
            "tags": []
          },
          "execution_count": 61
        }
      ]
    },
    {
      "cell_type": "code",
      "metadata": {
        "id": "E2KKXPClR9ba",
        "colab_type": "code",
        "colab": {}
      },
      "source": [
        "indexes_of_null_rows=null_rows[null_rows>15].index"
      ],
      "execution_count": 0,
      "outputs": []
    },
    {
      "cell_type": "code",
      "metadata": {
        "id": "UsjvBpY7ShRz",
        "colab_type": "code",
        "colab": {
          "base_uri": "https://localhost:8080/",
          "height": 118
        },
        "outputId": "74d17351-50b8-44c3-9cb6-32f975c2c734"
      },
      "source": [
        "indexes_of_null_rows"
      ],
      "execution_count": 63,
      "outputs": [
        {
          "output_type": "execute_result",
          "data": {
            "text/plain": [
              "Int64Index([  12165,   14187,   19736,   22584,   23269,   28399,   29468,\n",
              "              34161,   36893,   38828,\n",
              "            ...\n",
              "            1608352, 1609053, 1609628, 1609959, 1610250, 1610490, 1610715,\n",
              "            1611246, 1612004, 1612022],\n",
              "           dtype='int64', length=2536)"
            ]
          },
          "metadata": {
            "tags": []
          },
          "execution_count": 63
        }
      ]
    },
    {
      "cell_type": "code",
      "metadata": {
        "id": "118Xo2jnS-LC",
        "colab_type": "code",
        "colab": {}
      },
      "source": [
        "datadup=data"
      ],
      "execution_count": 0,
      "outputs": []
    },
    {
      "cell_type": "code",
      "metadata": {
        "id": "W4S6T6axTBsa",
        "colab_type": "code",
        "colab": {}
      },
      "source": [
        "datadup=datadup.drop(null_columns[null_columns.Percentage>0.80].Columns,axis=1)"
      ],
      "execution_count": 0,
      "outputs": []
    },
    {
      "cell_type": "code",
      "metadata": {
        "id": "gRrQCYunTq7I",
        "colab_type": "code",
        "colab": {}
      },
      "source": [
        "datadup=datadup.drop(indexes_of_null_rows,axis=0)"
      ],
      "execution_count": 0,
      "outputs": []
    },
    {
      "cell_type": "code",
      "metadata": {
        "id": "V6UOI9IRT4vR",
        "colab_type": "code",
        "colab": {
          "base_uri": "https://localhost:8080/",
          "height": 34
        },
        "outputId": "ce089dfe-9f24-468a-8657-7c6922c1db4d"
      },
      "source": [
        "datadup.shape"
      ],
      "execution_count": 74,
      "outputs": [
        {
          "output_type": "execute_result",
          "data": {
            "text/plain": [
              "(1609642, 22)"
            ]
          },
          "metadata": {
            "tags": []
          },
          "execution_count": 74
        }
      ]
    },
    {
      "cell_type": "code",
      "metadata": {
        "id": "bWfvoTrbUCHr",
        "colab_type": "code",
        "colab": {}
      },
      "source": [
        ""
      ],
      "execution_count": 0,
      "outputs": []
    }
  ]
}